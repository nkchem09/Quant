{
 "cells": [
  {
   "cell_type": "code",
   "execution_count": 1,
   "metadata": {},
   "outputs": [],
   "source": [
    "import pandas as pd\n",
    "import pandas_datareader as pdr\n",
    "import talib\n",
    "import matplotlib.pyplot as plt\n",
    "import numpy as np\n",
    "import scipy.stats as stats\n",
    "import math\n",
    "from sklearn.preprocessing import MinMaxScaler"
   ]
  },
  {
   "cell_type": "code",
   "execution_count": 4,
   "metadata": {},
   "outputs": [
    {
     "name": "stdout",
     "output_type": "stream",
     "text": [
      "Index(['High', 'Low', 'Open', 'Close', 'Volume', 'Adj Close', 'next_rtn',\n",
      "       'log_return', 'MA5', 'MA10', 'RASD5', 'RASD10', 'MACD', 'CCI', 'ATR',\n",
      "       'ub', 'middle', 'lb', 'MTM1', 'MTM3', 'S&P500', 'SOX', 'VIX'],\n",
      "      dtype='object')\n"
     ]
    },
    {
     "data": {
      "text/html": [
       "<div>\n",
       "<style scoped>\n",
       "    .dataframe tbody tr th:only-of-type {\n",
       "        vertical-align: middle;\n",
       "    }\n",
       "\n",
       "    .dataframe tbody tr th {\n",
       "        vertical-align: top;\n",
       "    }\n",
       "\n",
       "    .dataframe thead th {\n",
       "        text-align: right;\n",
       "    }\n",
       "</style>\n",
       "<table border=\"1\" class=\"dataframe\">\n",
       "  <thead>\n",
       "    <tr style=\"text-align: right;\">\n",
       "      <th></th>\n",
       "      <th>High</th>\n",
       "      <th>Low</th>\n",
       "      <th>Open</th>\n",
       "      <th>Close</th>\n",
       "      <th>Volume</th>\n",
       "      <th>Adj Close</th>\n",
       "      <th>next_rtn</th>\n",
       "      <th>log_return</th>\n",
       "      <th>MA5</th>\n",
       "      <th>MA10</th>\n",
       "      <th>...</th>\n",
       "      <th>CCI</th>\n",
       "      <th>ATR</th>\n",
       "      <th>ub</th>\n",
       "      <th>middle</th>\n",
       "      <th>lb</th>\n",
       "      <th>MTM1</th>\n",
       "      <th>MTM3</th>\n",
       "      <th>S&amp;P500</th>\n",
       "      <th>SOX</th>\n",
       "      <th>VIX</th>\n",
       "    </tr>\n",
       "    <tr>\n",
       "      <th>Date</th>\n",
       "      <th></th>\n",
       "      <th></th>\n",
       "      <th></th>\n",
       "      <th></th>\n",
       "      <th></th>\n",
       "      <th></th>\n",
       "      <th></th>\n",
       "      <th></th>\n",
       "      <th></th>\n",
       "      <th></th>\n",
       "      <th></th>\n",
       "      <th></th>\n",
       "      <th></th>\n",
       "      <th></th>\n",
       "      <th></th>\n",
       "      <th></th>\n",
       "      <th></th>\n",
       "      <th></th>\n",
       "      <th></th>\n",
       "      <th></th>\n",
       "      <th></th>\n",
       "    </tr>\n",
       "  </thead>\n",
       "  <tbody>\n",
       "    <tr>\n",
       "      <th>2020-09-24</th>\n",
       "      <td>49.639999</td>\n",
       "      <td>48.419998</td>\n",
       "      <td>48.529999</td>\n",
       "      <td>49.160000</td>\n",
       "      <td>29343400.0</td>\n",
       "      <td>49.160000</td>\n",
       "      <td>0.012982</td>\n",
       "      <td>0.006940</td>\n",
       "      <td>49.508000</td>\n",
       "      <td>49.692</td>\n",
       "      <td>...</td>\n",
       "      <td>-99.095298</td>\n",
       "      <td>1.216431</td>\n",
       "      <td>51.542414</td>\n",
       "      <td>49.9350</td>\n",
       "      <td>48.327586</td>\n",
       "      <td>0.340000</td>\n",
       "      <td>-0.560001</td>\n",
       "      <td>3246.590088</td>\n",
       "      <td>2147.419922</td>\n",
       "      <td>28.510000</td>\n",
       "    </tr>\n",
       "    <tr>\n",
       "      <th>2020-09-25</th>\n",
       "      <td>50.279999</td>\n",
       "      <td>48.750000</td>\n",
       "      <td>48.959999</td>\n",
       "      <td>49.939999</td>\n",
       "      <td>26633400.0</td>\n",
       "      <td>49.939999</td>\n",
       "      <td>0.020016</td>\n",
       "      <td>0.015742</td>\n",
       "      <td>49.518000</td>\n",
       "      <td>49.758</td>\n",
       "      <td>...</td>\n",
       "      <td>9.749435</td>\n",
       "      <td>1.238828</td>\n",
       "      <td>51.550592</td>\n",
       "      <td>49.9620</td>\n",
       "      <td>48.373408</td>\n",
       "      <td>0.779999</td>\n",
       "      <td>-0.010002</td>\n",
       "      <td>3298.459961</td>\n",
       "      <td>2177.840088</td>\n",
       "      <td>26.379999</td>\n",
       "    </tr>\n",
       "    <tr>\n",
       "      <th>2020-09-28</th>\n",
       "      <td>51.459999</td>\n",
       "      <td>50.160000</td>\n",
       "      <td>50.509998</td>\n",
       "      <td>51.430000</td>\n",
       "      <td>29652200.0</td>\n",
       "      <td>51.430000</td>\n",
       "      <td>0.018214</td>\n",
       "      <td>0.029399</td>\n",
       "      <td>49.860000</td>\n",
       "      <td>49.960</td>\n",
       "      <td>...</td>\n",
       "      <td>201.957021</td>\n",
       "      <td>1.258912</td>\n",
       "      <td>51.715181</td>\n",
       "      <td>50.0120</td>\n",
       "      <td>48.308819</td>\n",
       "      <td>1.490002</td>\n",
       "      <td>2.610001</td>\n",
       "      <td>3351.600098</td>\n",
       "      <td>2237.639893</td>\n",
       "      <td>26.190001</td>\n",
       "    </tr>\n",
       "    <tr>\n",
       "      <th>2020-09-29</th>\n",
       "      <td>51.740002</td>\n",
       "      <td>50.950001</td>\n",
       "      <td>51.310001</td>\n",
       "      <td>51.189999</td>\n",
       "      <td>19558200.0</td>\n",
       "      <td>51.189999</td>\n",
       "      <td>-0.002339</td>\n",
       "      <td>-0.004677</td>\n",
       "      <td>50.107999</td>\n",
       "      <td>50.079</td>\n",
       "      <td>...</td>\n",
       "      <td>181.023671</td>\n",
       "      <td>1.225418</td>\n",
       "      <td>51.756575</td>\n",
       "      <td>50.0240</td>\n",
       "      <td>48.291425</td>\n",
       "      <td>-0.240002</td>\n",
       "      <td>2.029999</td>\n",
       "      <td>3335.469971</td>\n",
       "      <td>2242.520020</td>\n",
       "      <td>26.270000</td>\n",
       "    </tr>\n",
       "    <tr>\n",
       "      <th>2020-09-30</th>\n",
       "      <td>52.380001</td>\n",
       "      <td>51.150002</td>\n",
       "      <td>51.240002</td>\n",
       "      <td>51.779999</td>\n",
       "      <td>27698300.0</td>\n",
       "      <td>51.779999</td>\n",
       "      <td>0.010539</td>\n",
       "      <td>0.011460</td>\n",
       "      <td>50.699999</td>\n",
       "      <td>50.220</td>\n",
       "      <td>...</td>\n",
       "      <td>178.900064</td>\n",
       "      <td>1.225746</td>\n",
       "      <td>51.942021</td>\n",
       "      <td>50.0735</td>\n",
       "      <td>48.204979</td>\n",
       "      <td>0.590000</td>\n",
       "      <td>1.840000</td>\n",
       "      <td>3363.000000</td>\n",
       "      <td>2244.120117</td>\n",
       "      <td>26.370001</td>\n",
       "    </tr>\n",
       "  </tbody>\n",
       "</table>\n",
       "<p>5 rows × 23 columns</p>\n",
       "</div>"
      ],
      "text/plain": [
       "                 High        Low       Open      Close      Volume  Adj Close  \\\n",
       "Date                                                                            \n",
       "2020-09-24  49.639999  48.419998  48.529999  49.160000  29343400.0  49.160000   \n",
       "2020-09-25  50.279999  48.750000  48.959999  49.939999  26633400.0  49.939999   \n",
       "2020-09-28  51.459999  50.160000  50.509998  51.430000  29652200.0  51.430000   \n",
       "2020-09-29  51.740002  50.950001  51.310001  51.189999  19558200.0  51.189999   \n",
       "2020-09-30  52.380001  51.150002  51.240002  51.779999  27698300.0  51.779999   \n",
       "\n",
       "            next_rtn  log_return        MA5    MA10  ...         CCI  \\\n",
       "Date                                                 ...               \n",
       "2020-09-24  0.012982    0.006940  49.508000  49.692  ...  -99.095298   \n",
       "2020-09-25  0.020016    0.015742  49.518000  49.758  ...    9.749435   \n",
       "2020-09-28  0.018214    0.029399  49.860000  49.960  ...  201.957021   \n",
       "2020-09-29 -0.002339   -0.004677  50.107999  50.079  ...  181.023671   \n",
       "2020-09-30  0.010539    0.011460  50.699999  50.220  ...  178.900064   \n",
       "\n",
       "                 ATR         ub   middle         lb      MTM1      MTM3  \\\n",
       "Date                                                                      \n",
       "2020-09-24  1.216431  51.542414  49.9350  48.327586  0.340000 -0.560001   \n",
       "2020-09-25  1.238828  51.550592  49.9620  48.373408  0.779999 -0.010002   \n",
       "2020-09-28  1.258912  51.715181  50.0120  48.308819  1.490002  2.610001   \n",
       "2020-09-29  1.225418  51.756575  50.0240  48.291425 -0.240002  2.029999   \n",
       "2020-09-30  1.225746  51.942021  50.0735  48.204979  0.590000  1.840000   \n",
       "\n",
       "                 S&P500          SOX        VIX  \n",
       "Date                                             \n",
       "2020-09-24  3246.590088  2147.419922  28.510000  \n",
       "2020-09-25  3298.459961  2177.840088  26.379999  \n",
       "2020-09-28  3351.600098  2237.639893  26.190001  \n",
       "2020-09-29  3335.469971  2242.520020  26.270000  \n",
       "2020-09-30  3363.000000  2244.120117  26.370001  \n",
       "\n",
       "[5 rows x 23 columns]"
      ]
     },
     "execution_count": 4,
     "metadata": {},
     "output_type": "execute_result"
    }
   ],
   "source": [
    "df = pd.read_csv('df.csv',parse_dates=True,index_col='Date')\n",
    "print(df.columns)\n",
    "df.tail()"
   ]
  },
  {
   "cell_type": "code",
   "execution_count": 7,
   "metadata": {},
   "outputs": [],
   "source": [
    "#Rate of Change\n",
    "df['ROC'] = talib.ROC(df['Close'],timeperiod=60)\n",
    "#Williams' %R\n",
    "df['WPR'] = talib.WILLR(df['High'],df['Low'],df['Close'],timeperiod=14)"
   ]
  },
  {
   "cell_type": "markdown",
   "metadata": {},
   "source": [
    "특성 목록"
   ]
  },
  {
   "cell_type": "code",
   "execution_count": 8,
   "metadata": {},
   "outputs": [],
   "source": [
    "feature1_list = ['High', 'Low', 'Open', 'Close', 'Volume', 'Adj Close','log_return']\n",
    "feature2_list = ['MA5', 'MA10', 'RASD5', 'RASD10', 'MACD', 'CCI', 'ATR',\n",
    "                 'ub', 'middle', 'lb', 'MTM1', 'MTM3']\n",
    "feature3_list = [ 'S&P500', 'SOX', 'VIX']\n",
    "feature4_list = ['next_rtn']\n",
    "\n",
    "all_features = feature1_list+feature2_list+feature3_list+feature4_list"
   ]
  },
  {
   "cell_type": "markdown",
   "metadata": {},
   "source": [
    "구간 분리\n",
    " \n",
    " \n",
    "   학습 2년, 검증 3개월, 테스트 3개월"
   ]
  },
  {
   "cell_type": "code",
   "execution_count": 10,
   "metadata": {},
   "outputs": [],
   "source": [
    "phase_flag = '3'\n",
    "\n",
    "if phase_flag == '1':\n",
    "    train_from = '2010-01-04'\n",
    "    train_to = '2012-01-01'\n",
    "    \n",
    "    val_from = '2012-01-01'\n",
    "    val_to = '2012-04-01'\n",
    "    \n",
    "    test_from = '2012-04-01'\n",
    "    test_to = '2012-07-01'\n",
    "\n",
    "elif phase_flag == '2':\n",
    "    train_from = '2010-07-01'\n",
    "    train_to = '2014-07-01'\n",
    "    \n",
    "    val_from = '2014-07-01'\n",
    "    val_to = '2014-10-01'\n",
    "    \n",
    "    test_from = '2014-10-01'\n",
    "    test_to = '2015-01-01'\n",
    "    \n",
    "else:\n",
    "    train_from = '2015-01-01'\n",
    "    train_to = '2017-01-01'\n",
    "    \n",
    "    val_from = '2017-01-01'\n",
    "    val_to = '2017-04-01'\n",
    "    \n",
    "    test_from = '2017-04-01'\n",
    "    test_to = '2017-07-01'"
   ]
  },
  {
   "cell_type": "code",
   "execution_count": 11,
   "metadata": {},
   "outputs": [],
   "source": [
    "# 학습/검증/테스트\n",
    "train_df = df.loc[train_from:train_to,all_features].copy()\n",
    "val_df = df.loc[val_from:val_to,all_features].copy()\n",
    "test_df = df.loc[test_from:test_to,all_features].copy()"
   ]
  },
  {
   "cell_type": "code",
   "execution_count": 18,
   "metadata": {},
   "outputs": [],
   "source": [
    "def min_max_normal(tmp_df):\n",
    "    eng_list = []\n",
    "    sample_df = tmp_df.copy()\n",
    "    for x in all_features:\n",
    "        if x in feature4_list:\n",
    "            continue\n",
    "        series = sample_df[x].copy()\n",
    "        values = series.values\n",
    "        values = values.reshape(len(values),1)\n",
    "        #스케일러 생성 및 훈련\n",
    "        scaler = MinMaxScaler(feature_range=(0,1))\n",
    "        scaler = scaler.fit(values)\n",
    "        #데이터셋 정규화 및 출력\n",
    "        normalized = scaler.transform(values)\n",
    "        new_feature = '{}_normal'.format(x)\n",
    "        eng_list.append(new_feature)\n",
    "        sample_df[new_feature] = normalized\n",
    "    return sample_df,eng_list"
   ]
  },
  {
   "cell_type": "code",
   "execution_count": 19,
   "metadata": {},
   "outputs": [],
   "source": [
    "train_sample_df, eng_list = min_max_normal(train_df)\n",
    "val_sample_df, eng_list = min_max_normal(val_df)\n",
    "test_sample_df, eng_list = min_max_normal(test_df)"
   ]
  },
  {
   "cell_type": "code",
   "execution_count": 27,
   "metadata": {},
   "outputs": [
    {
     "name": "stdout",
     "output_type": "stream",
     "text": [
      "['High_normal', 'Low_normal', 'Open_normal', 'Close_normal', 'Volume_normal', 'Adj Close_normal', 'log_return_normal', 'MA5_normal', 'MA10_normal', 'RASD5_normal', 'RASD10_normal', 'MACD_normal', 'CCI_normal', 'ATR_normal', 'ub_normal', 'middle_normal', 'lb_normal', 'MTM1_normal', 'MTM3_normal', 'S&P500_normal', 'SOX_normal', 'VIX_normal']\n"
     ]
    },
    {
     "data": {
      "text/html": [
       "<div>\n",
       "<style scoped>\n",
       "    .dataframe tbody tr th:only-of-type {\n",
       "        vertical-align: middle;\n",
       "    }\n",
       "\n",
       "    .dataframe tbody tr th {\n",
       "        vertical-align: top;\n",
       "    }\n",
       "\n",
       "    .dataframe thead th {\n",
       "        text-align: right;\n",
       "    }\n",
       "</style>\n",
       "<table border=\"1\" class=\"dataframe\">\n",
       "  <thead>\n",
       "    <tr style=\"text-align: right;\">\n",
       "      <th></th>\n",
       "      <th>High</th>\n",
       "      <th>Low</th>\n",
       "      <th>Open</th>\n",
       "      <th>Close</th>\n",
       "      <th>Volume</th>\n",
       "      <th>Adj Close</th>\n",
       "      <th>log_return</th>\n",
       "      <th>MA5</th>\n",
       "      <th>MA10</th>\n",
       "      <th>RASD5</th>\n",
       "      <th>...</th>\n",
       "      <th>CCI_normal</th>\n",
       "      <th>ATR_normal</th>\n",
       "      <th>ub_normal</th>\n",
       "      <th>middle_normal</th>\n",
       "      <th>lb_normal</th>\n",
       "      <th>MTM1_normal</th>\n",
       "      <th>MTM3_normal</th>\n",
       "      <th>S&amp;P500_normal</th>\n",
       "      <th>SOX_normal</th>\n",
       "      <th>VIX_normal</th>\n",
       "    </tr>\n",
       "    <tr>\n",
       "      <th>Date</th>\n",
       "      <th></th>\n",
       "      <th></th>\n",
       "      <th></th>\n",
       "      <th></th>\n",
       "      <th></th>\n",
       "      <th></th>\n",
       "      <th></th>\n",
       "      <th></th>\n",
       "      <th></th>\n",
       "      <th></th>\n",
       "      <th></th>\n",
       "      <th></th>\n",
       "      <th></th>\n",
       "      <th></th>\n",
       "      <th></th>\n",
       "      <th></th>\n",
       "      <th></th>\n",
       "      <th></th>\n",
       "      <th></th>\n",
       "      <th></th>\n",
       "      <th></th>\n",
       "    </tr>\n",
       "  </thead>\n",
       "  <tbody>\n",
       "    <tr>\n",
       "      <th>2015-01-02</th>\n",
       "      <td>37.160000</td>\n",
       "      <td>36.110001</td>\n",
       "      <td>36.669998</td>\n",
       "      <td>36.360001</td>\n",
       "      <td>23605600.0</td>\n",
       "      <td>31.082489</td>\n",
       "      <td>0.001927</td>\n",
       "      <td>36.828</td>\n",
       "      <td>36.961</td>\n",
       "      <td>0.360369</td>\n",
       "      <td>...</td>\n",
       "      <td>0.471270</td>\n",
       "      <td>0.491009</td>\n",
       "      <td>0.873208</td>\n",
       "      <td>0.925185</td>\n",
       "      <td>0.895993</td>\n",
       "      <td>0.622449</td>\n",
       "      <td>0.408772</td>\n",
       "      <td>0.517622</td>\n",
       "      <td>0.335631</td>\n",
       "      <td>0.221242</td>\n",
       "    </tr>\n",
       "    <tr>\n",
       "      <th>2015-01-05</th>\n",
       "      <td>36.450001</td>\n",
       "      <td>35.939999</td>\n",
       "      <td>36.200001</td>\n",
       "      <td>35.950001</td>\n",
       "      <td>32785000.0</td>\n",
       "      <td>30.732008</td>\n",
       "      <td>-0.011340</td>\n",
       "      <td>36.508</td>\n",
       "      <td>36.854</td>\n",
       "      <td>0.359143</td>\n",
       "      <td>...</td>\n",
       "      <td>0.378496</td>\n",
       "      <td>0.467702</td>\n",
       "      <td>0.866731</td>\n",
       "      <td>0.917040</td>\n",
       "      <td>0.887670</td>\n",
       "      <td>0.524490</td>\n",
       "      <td>0.410527</td>\n",
       "      <td>0.432631</td>\n",
       "      <td>0.301055</td>\n",
       "      <td>0.293519</td>\n",
       "    </tr>\n",
       "    <tr>\n",
       "      <th>2015-01-06</th>\n",
       "      <td>36.230000</td>\n",
       "      <td>35.259998</td>\n",
       "      <td>36.080002</td>\n",
       "      <td>35.279999</td>\n",
       "      <td>30847600.0</td>\n",
       "      <td>30.159252</td>\n",
       "      <td>-0.018813</td>\n",
       "      <td>36.128</td>\n",
       "      <td>36.745</td>\n",
       "      <td>0.429746</td>\n",
       "      <td>...</td>\n",
       "      <td>0.288137</td>\n",
       "      <td>0.503756</td>\n",
       "      <td>0.861823</td>\n",
       "      <td>0.904148</td>\n",
       "      <td>0.869702</td>\n",
       "      <td>0.471428</td>\n",
       "      <td>0.375438</td>\n",
       "      <td>0.392034</td>\n",
       "      <td>0.262216</td>\n",
       "      <td>0.334238</td>\n",
       "    </tr>\n",
       "    <tr>\n",
       "      <th>2015-01-07</th>\n",
       "      <td>36.070000</td>\n",
       "      <td>35.270000</td>\n",
       "      <td>35.639999</td>\n",
       "      <td>36.020000</td>\n",
       "      <td>27725200.0</td>\n",
       "      <td>30.791851</td>\n",
       "      <td>0.020758</td>\n",
       "      <td>35.980</td>\n",
       "      <td>36.626</td>\n",
       "      <td>0.449678</td>\n",
       "      <td>...</td>\n",
       "      <td>0.333775</td>\n",
       "      <td>0.515911</td>\n",
       "      <td>0.854890</td>\n",
       "      <td>0.897783</td>\n",
       "      <td>0.864876</td>\n",
       "      <td>0.759184</td>\n",
       "      <td>0.492983</td>\n",
       "      <td>0.444650</td>\n",
       "      <td>0.279162</td>\n",
       "      <td>0.272820</td>\n",
       "    </tr>\n",
       "    <tr>\n",
       "      <th>2015-01-08</th>\n",
       "      <td>37.000000</td>\n",
       "      <td>36.259998</td>\n",
       "      <td>36.369999</td>\n",
       "      <td>36.689999</td>\n",
       "      <td>31765400.0</td>\n",
       "      <td>31.364601</td>\n",
       "      <td>0.018430</td>\n",
       "      <td>36.060</td>\n",
       "      <td>36.552</td>\n",
       "      <td>0.450896</td>\n",
       "      <td>...</td>\n",
       "      <td>0.504040</td>\n",
       "      <td>0.549775</td>\n",
       "      <td>0.852994</td>\n",
       "      <td>0.896704</td>\n",
       "      <td>0.864705</td>\n",
       "      <td>0.744898</td>\n",
       "      <td>0.682456</td>\n",
       "      <td>0.526523</td>\n",
       "      <td>0.330158</td>\n",
       "      <td>0.194774</td>\n",
       "    </tr>\n",
       "  </tbody>\n",
       "</table>\n",
       "<p>5 rows × 45 columns</p>\n",
       "</div>"
      ],
      "text/plain": [
       "                 High        Low       Open      Close      Volume  Adj Close  \\\n",
       "Date                                                                            \n",
       "2015-01-02  37.160000  36.110001  36.669998  36.360001  23605600.0  31.082489   \n",
       "2015-01-05  36.450001  35.939999  36.200001  35.950001  32785000.0  30.732008   \n",
       "2015-01-06  36.230000  35.259998  36.080002  35.279999  30847600.0  30.159252   \n",
       "2015-01-07  36.070000  35.270000  35.639999  36.020000  27725200.0  30.791851   \n",
       "2015-01-08  37.000000  36.259998  36.369999  36.689999  31765400.0  31.364601   \n",
       "\n",
       "            log_return     MA5    MA10     RASD5  ...  CCI_normal  ATR_normal  \\\n",
       "Date                                              ...                           \n",
       "2015-01-02    0.001927  36.828  36.961  0.360369  ...    0.471270    0.491009   \n",
       "2015-01-05   -0.011340  36.508  36.854  0.359143  ...    0.378496    0.467702   \n",
       "2015-01-06   -0.018813  36.128  36.745  0.429746  ...    0.288137    0.503756   \n",
       "2015-01-07    0.020758  35.980  36.626  0.449678  ...    0.333775    0.515911   \n",
       "2015-01-08    0.018430  36.060  36.552  0.450896  ...    0.504040    0.549775   \n",
       "\n",
       "            ub_normal  middle_normal  lb_normal  MTM1_normal  MTM3_normal  \\\n",
       "Date                                                                        \n",
       "2015-01-02   0.873208       0.925185   0.895993     0.622449     0.408772   \n",
       "2015-01-05   0.866731       0.917040   0.887670     0.524490     0.410527   \n",
       "2015-01-06   0.861823       0.904148   0.869702     0.471428     0.375438   \n",
       "2015-01-07   0.854890       0.897783   0.864876     0.759184     0.492983   \n",
       "2015-01-08   0.852994       0.896704   0.864705     0.744898     0.682456   \n",
       "\n",
       "            S&P500_normal  SOX_normal  VIX_normal  \n",
       "Date                                               \n",
       "2015-01-02       0.517622    0.335631    0.221242  \n",
       "2015-01-05       0.432631    0.301055    0.293519  \n",
       "2015-01-06       0.392034    0.262216    0.334238  \n",
       "2015-01-07       0.444650    0.279162    0.272820  \n",
       "2015-01-08       0.526523    0.330158    0.194774  \n",
       "\n",
       "[5 rows x 45 columns]"
      ]
     },
     "execution_count": 27,
     "metadata": {},
     "output_type": "execute_result"
    }
   ],
   "source": [
    "print(eng_list)\n",
    "train_sample_df.head()"
   ]
  },
  {
   "cell_type": "code",
   "execution_count": 56,
   "metadata": {},
   "outputs": [],
   "source": [
    "def create_dataset_binary(data,feature_list,step,n):\n",
    "    #LSTM에 넣을 변수데이터 선택\n",
    "    train_xdata = np.array(data[feature_list[0:n]])\n",
    "    #마지막 단계 설정\n",
    "    m = np.arange(len(train_xdata)-step)\n",
    "    x,y = [],[]\n",
    "    for i in m:\n",
    "        # 각 단계마다 사용할 학습데이터 기간 설정\n",
    "        a = train_xdata[i:(i+step)]\n",
    "        x.append(a)\n",
    "    #신경망 학슴에 사용할 수 있도록 데이터 정리 \n",
    "    #len(m): 한 칸씩 미뤘을 때 만들 수 있는 최대사각형 수, step: 사각형 범위 안에 행 수 ,n: 열의 개수(=특성 개수)\n",
    "    x_batch = np.reshape(np.array(x),(len(m),step,n))\n",
    "    #레이블링 데이터\n",
    "    train_ydata = np.array(data[[feature_list[n]]])\n",
    "    \n",
    "    for i in m+step:\n",
    "        #이진 분류를 위한 시작종가, 종료종가 설정\n",
    "        next_rtn = train_ydata[i][0]\n",
    "        \n",
    "        if next_rtn>0:\n",
    "            label = 1\n",
    "        else:\n",
    "            label = 0\n",
    "        y.append(label)\n",
    "    #학습을 위해1차원 열 벡터 형태로 정리    \n",
    "    y_batch = np.reshape(np.array(y),(-1,1))\n",
    "    return x_batch,y_batch"
   ]
  },
  {
   "cell_type": "code",
   "execution_count": 57,
   "metadata": {},
   "outputs": [],
   "source": [
    "num_step = 5\n",
    "num_unit = 200\n",
    "n_feature = len(eng_list)-1\n",
    "\n",
    "X_train,y_train = create_dataset_binary(train_sample_df[eng_list],eng_list,num_step,n_feature)\n",
    "X_val,y_val = create_dataset_binary(val_sample_df[eng_list],eng_list,num_step,n_feature)\n",
    "X_test,y_test = create_dataset_binary(test_sample_df[eng_list],eng_list,num_step,n_feature)"
   ]
  },
  {
   "cell_type": "code",
   "execution_count": 58,
   "metadata": {},
   "outputs": [
    {
     "data": {
      "text/plain": [
       "(499, 5, 21)"
      ]
     },
     "execution_count": 58,
     "metadata": {},
     "output_type": "execute_result"
    }
   ],
   "source": [
    "# 사각형 499묶음, row = 5, 21개의 특성 = 21개 특성을 5일 데이터를 이용해 6일째 종가 예측을 1일씩 윈도우를 슬라이딩하여 499번이동\n",
    "X_train.shape"
   ]
  },
  {
   "cell_type": "code",
   "execution_count": 60,
   "metadata": {},
   "outputs": [],
   "source": [
    "from tensorflow.keras.utils import to_categorical\n",
    "\n",
    "y_train = to_categorical(y_train, 2)\n",
    "y_val = to_categorical(y_val, 2)\n",
    "y_test = to_categorical(y_test, 2)"
   ]
  },
  {
   "cell_type": "markdown",
   "metadata": {},
   "source": [
    "# LSTM모델 구조"
   ]
  },
  {
   "cell_type": "code",
   "execution_count": 61,
   "metadata": {},
   "outputs": [],
   "source": [
    "#application of deep learning to algorithmic trading(2017)\n",
    "from tensorflow.keras.models import Model, load_model\n",
    "from tensorflow.keras.layers import Input,Dropout,Dense,LSTM,Activation,BatchNormalization\n",
    "from tensorflow.keras import backend as K\n",
    "from tensorflow.keras import regularizers"
   ]
  },
  {
   "cell_type": "markdown",
   "metadata": {},
   "source": [
    "## 5개의 LSTM층과 200개의 뉴런을 사용\n",
    " 각 LSTM층에 200개의 뉴런을 사용할 수 있게 매개변수를 전달하고 5개의 LSTM층을 겹겹이 쌓아 L2정규화 방법을 각 층에 적용\n",
    " \n",
    " \n",
    " BatchNormalize : 신경망의 입력값을 평균=0, 분산이=1로 정규화 -> 네트워크 학습이 잘 일어나도록\n",
    " \n",
    " \n",
    " Dropout : 임의의 확률로 노드에서 출력하는 가중치 선 제거 -> 네트워크 학습 시 과적합 방지"
   ]
  },
  {
   "cell_type": "code",
   "execution_count": 62,
   "metadata": {},
   "outputs": [],
   "source": [
    "K.clear_session()\n",
    "input_layer = Input(batch_shape=(None, X_train.shape[1], X_train.shape[2])) # 데이터 개수:None(모든 임의의 스칼라), 시간축, 특성데이터(LSTM층에 한번에 입력되는 데이터 수 )\n",
    "\n",
    "# LSTM(input)(input_layer)\n",
    "# 다층 구조 LSTM  이전 층에서 사용한 출력이 다음 층에 전달되야 하기 때문에 return_sequences = True, 마지막 층에서는 제외\n",
    "# LSTM -> BatchNormalize -> LSTM -> Dropout 반복 마지막은 완전 연결층으로 연결되면서 최종 예측값 출력\n",
    "layer_lstm_1 = LSTM(num_unit, return_sequences = True, recurrent_regularizer = regularizers.l2(0.01))(input_layer)\n",
    "layer_lstm_1 = BatchNormalization()(layer_lstm_1)\n",
    "layer_lstm_2 = LSTM(num_unit, return_sequences = True, recurrent_regularizer = regularizers.l2(0.01))(layer_lstm_1)\n",
    "layer_lstm_2 = Dropout(0.25)(layer_lstm_2)\n",
    "layer_lstm_3 = LSTM(num_unit, return_sequences = True, recurrent_regularizer = regularizers.l2(0.01))(layer_lstm_2)\n",
    "layer_lstm_3 = BatchNormalization()(layer_lstm_3)\n",
    "layer_lstm_4 = LSTM(num_unit, return_sequences = True, recurrent_regularizer = regularizers.l2(0.01))(layer_lstm_3)\n",
    "layer_lstm_4 = Dropout(0.25)(layer_lstm_4)\n",
    "layer_lstm_5 = LSTM(num_unit , recurrent_regularizer = regularizers.l2(0.01))(layer_lstm_4)\n",
    "layer_lstm_5 = BatchNormalization()(layer_lstm_5)\n",
    "output_layer = Dense(2, activation='sigmoid')(layer_lstm_5)\n",
    "\n",
    "model = Model(input_layer, output_layer)\n",
    "model.compile(loss='categorical_crossentropy',optimizer='adam', metrics=['accuracy'])"
   ]
  },
  {
   "cell_type": "code",
   "execution_count": 63,
   "metadata": {},
   "outputs": [
    {
     "name": "stdout",
     "output_type": "stream",
     "text": [
      "Model: \"model\"\n",
      "_________________________________________________________________\n",
      "Layer (type)                 Output Shape              Param #   \n",
      "=================================================================\n",
      "input_1 (InputLayer)         [(None, 5, 21)]           0         \n",
      "_________________________________________________________________\n",
      "lstm (LSTM)                  (None, 5, 200)            177600    \n",
      "_________________________________________________________________\n",
      "batch_normalization (BatchNo (None, 5, 200)            800       \n",
      "_________________________________________________________________\n",
      "lstm_1 (LSTM)                (None, 5, 200)            320800    \n",
      "_________________________________________________________________\n",
      "dropout (Dropout)            (None, 5, 200)            0         \n",
      "_________________________________________________________________\n",
      "lstm_2 (LSTM)                (None, 5, 200)            320800    \n",
      "_________________________________________________________________\n",
      "batch_normalization_1 (Batch (None, 5, 200)            800       \n",
      "_________________________________________________________________\n",
      "lstm_3 (LSTM)                (None, 5, 200)            320800    \n",
      "_________________________________________________________________\n",
      "dropout_1 (Dropout)          (None, 5, 200)            0         \n",
      "_________________________________________________________________\n",
      "lstm_4 (LSTM)                (None, 200)               320800    \n",
      "_________________________________________________________________\n",
      "batch_normalization_2 (Batch (None, 200)               800       \n",
      "_________________________________________________________________\n",
      "dense (Dense)                (None, 2)                 402       \n",
      "=================================================================\n",
      "Total params: 1,463,602\n",
      "Trainable params: 1,462,402\n",
      "Non-trainable params: 1,200\n",
      "_________________________________________________________________\n"
     ]
    }
   ],
   "source": [
    "model.summary()"
   ]
  },
  {
   "cell_type": "code",
   "execution_count": 64,
   "metadata": {},
   "outputs": [
    {
     "name": "stdout",
     "output_type": "stream",
     "text": [
      "Epoch 1/20\n",
      "50/50 [==============================] - 5s 105ms/step - loss: 4.7430 - accuracy: 0.6333 - val_loss: 1.7438 - val_accuracy: 0.9825\n",
      "Epoch 2/20\n",
      "50/50 [==============================] - 2s 43ms/step - loss: 0.7030 - accuracy: 0.7916 - val_loss: 0.4161 - val_accuracy: 0.9825\n",
      "Epoch 3/20\n",
      "50/50 [==============================] - 2s 44ms/step - loss: 0.2594 - accuracy: 0.7555 - val_loss: 0.1452 - val_accuracy: 0.9825\n",
      "Epoch 4/20\n",
      "50/50 [==============================] - 2s 44ms/step - loss: 0.1529 - accuracy: 0.8377 - val_loss: 0.1802 - val_accuracy: 0.9298\n",
      "Epoch 5/20\n",
      "50/50 [==============================] - 2s 46ms/step - loss: 0.2115 - accuracy: 0.7896 - val_loss: 0.1744 - val_accuracy: 0.8947\n",
      "Epoch 6/20\n",
      "50/50 [==============================] - 2s 49ms/step - loss: 0.1771 - accuracy: 0.8176 - val_loss: 0.1262 - val_accuracy: 0.8947\n",
      "Epoch 7/20\n",
      "50/50 [==============================] - 3s 52ms/step - loss: 0.1833 - accuracy: 0.8337 - val_loss: 0.2193 - val_accuracy: 0.7895\n",
      "Epoch 8/20\n",
      "50/50 [==============================] - 2s 46ms/step - loss: 0.1923 - accuracy: 0.8216 - val_loss: 0.2218 - val_accuracy: 0.7719\n",
      "Epoch 9/20\n",
      "50/50 [==============================] - 2s 45ms/step - loss: 0.1609 - accuracy: 0.8557 - val_loss: 0.1720 - val_accuracy: 0.9825\n",
      "Epoch 10/20\n",
      "50/50 [==============================] - 2s 43ms/step - loss: 0.1954 - accuracy: 0.8397 - val_loss: 0.2329 - val_accuracy: 0.8246\n",
      "Epoch 11/20\n",
      "50/50 [==============================] - 2s 42ms/step - loss: 0.1444 - accuracy: 0.8617 - val_loss: 0.2994 - val_accuracy: 0.6316\n",
      "Epoch 12/20\n",
      "50/50 [==============================] - 2s 43ms/step - loss: 0.1511 - accuracy: 0.8497 - val_loss: 0.4738 - val_accuracy: 0.6667\n",
      "Epoch 13/20\n",
      "50/50 [==============================] - 2s 42ms/step - loss: 0.1355 - accuracy: 0.8557 - val_loss: 0.4258 - val_accuracy: 0.6316\n",
      "Epoch 14/20\n",
      "50/50 [==============================] - 2s 41ms/step - loss: 0.1054 - accuracy: 0.8818 - val_loss: 0.4024 - val_accuracy: 0.6491\n",
      "Epoch 15/20\n",
      "50/50 [==============================] - 2s 43ms/step - loss: 0.1085 - accuracy: 0.8818 - val_loss: 0.2974 - val_accuracy: 0.7544\n",
      "Epoch 16/20\n",
      "50/50 [==============================] - 2s 42ms/step - loss: 0.1141 - accuracy: 0.8898 - val_loss: 0.3194 - val_accuracy: 0.7018\n",
      "Epoch 17/20\n",
      "50/50 [==============================] - 2s 41ms/step - loss: 0.0613 - accuracy: 0.9920 - val_loss: 0.1391 - val_accuracy: 0.9825\n",
      "Epoch 18/20\n",
      "50/50 [==============================] - 2s 42ms/step - loss: 0.0254 - accuracy: 0.9980 - val_loss: 0.1331 - val_accuracy: 0.9825\n",
      "Epoch 19/20\n",
      "50/50 [==============================] - 2s 44ms/step - loss: 0.0159 - accuracy: 0.9980 - val_loss: 0.1260 - val_accuracy: 0.9825\n",
      "Epoch 20/20\n",
      "50/50 [==============================] - 2s 41ms/step - loss: 0.0143 - accuracy: 0.9980 - val_loss: 0.1394 - val_accuracy: 0.9825\n"
     ]
    }
   ],
   "source": [
    "histoty = model.fit(X_train, y_train, epochs = 20, batch_size = 10, verbose = 1, validation_data = (X_val,y_val))"
   ]
  },
  {
   "cell_type": "code",
   "execution_count": 66,
   "metadata": {},
   "outputs": [
    {
     "data": {
      "image/png": "[encoded data removed]",
      "text/plain": [
       "<Figure size 1080x360 with 2 Axes>"
      ]
     },
     "metadata": {
      "needs_background": "light"
     },
     "output_type": "display_data"
    }
   ],
   "source": [
    "def plot_history(history):\n",
    "    plt.figure(figsize=(15,5))\n",
    "    ax = plt.subplot(1,2,1)\n",
    "    plt.plot(history.history['loss'])\n",
    "    plt.title(\"Train loss\")\n",
    "    ax = plt.subplot(1,2,2)\n",
    "    plt.plot(history.history['val_loss'])\n",
    "    plt.title(\"Test loss\")\n",
    "plot_history(histoty)"
   ]
  },
  {
   "cell_type": "code",
   "execution_count": 69,
   "metadata": {},
   "outputs": [
    {
     "name": "stderr",
     "output_type": "stream",
     "text": [
      "C:\\ProgramData\\Anaconda3\\lib\\site-packages\\sklearn\\metrics\\_classification.py:1272: UndefinedMetricWarning: Precision and F-score are ill-defined and being set to 0.0 in labels with no predicted samples. Use `zero_division` parameter to control this behavior.\n",
      "  _warn_prf(average, modifier, msg_start, len(result))\n"
     ]
    }
   ],
   "source": [
    "from sklearn.metrics import confusion_matrix\n",
    "from sklearn.metrics import classification_report\n",
    "\n",
    "predicted = model.predict(X_test)\n",
    "y_pred = np.argmax(predicted,axis=1)\n",
    "Y_test = np.argmax(y_test,axis=1)\n",
    "cm = confusion_matrix(y_pred,Y_test)\n",
    "report = classification_report(Y_test,y_pred)"
   ]
  },
  {
   "cell_type": "code",
   "execution_count": 90,
   "metadata": {},
   "outputs": [],
   "source": [
    "tn = cm[0][0]\n",
    "fn = cm[1][0]\n",
    "tp = cm[1][1]\n",
    "fp = cm[0][1]\n",
    "if tp == 0:\n",
    "    tp=1\n",
    "if tn == 0:\n",
    "    tn=1\n",
    "if fp == 0:\n",
    "    fp=1\n",
    "if fn == 0:\n",
    "    fn=1\n",
    "    \n",
    "TPR = float(tp)/(float(tp)+float(fn))\n",
    "FPR = float(fp)/(float(fp)+float(tn))\n",
    "accuracy = round((float(tp)+float(tn))/(float(tp)+float(fp)+float(fn)+float(tn)),3)\n",
    "specificity = round(float(tn)/(float(tn)+float(fp)),3)\n",
    "sensitivity = round(float(tp)/(float(tp)+float(fn)),3)\n",
    "mcc = round((float(tp)*float(tn)-float(fp)*float(fn))/math.sqrt((float(tp)+float(fp))*(float(tp)+float(fn))*(float(tn)+float(fp))*(float(tn)+float(fn))),3)"
   ]
  },
  {
   "cell_type": "code",
   "execution_count": 91,
   "metadata": {},
   "outputs": [
    {
     "name": "stdout",
     "output_type": "stream",
     "text": [
      "TPR:         0.98\n",
      "FPR:         0.50\n",
      "acc:         0.97\n",
      "specificity: 0.98\n",
      "mcc:         0.48\n"
     ]
    }
   ],
   "source": [
    "print('TPR:         %.2f'%TPR)\n",
    "print('FPR:         %.2f'%FPR)\n",
    "print('acc:         %.2f'%accuracy)\n",
    "print('specificity: %.2f'%sensitivity)\n",
    "print('mcc:         %.2f'%mcc)"
   ]
  },
  {
   "cell_type": "code",
   "execution_count": 92,
   "metadata": {},
   "outputs": [],
   "source": [
    "f_output = open('binary_lstm_open_close_phase3_dropout_batch_Normal_3단계 test.txt', 'a')\n",
    "f_output.write('=======\\n')\n",
    "f_output.write('{}epochs_{}batch\\n'.format(\n",
    "    20, 10))\n",
    "f_output.write('TN: {}\\n'.format(tn))\n",
    "f_output.write('FN: {}\\n'.format(fn))\n",
    "f_output.write('TP: {}\\n'.format(tp))\n",
    "f_output.write('FP: {}\\n'.format(fp))\n",
    "f_output.write('TPR: {}\\n'.format(TPR))\n",
    "f_output.write('FPR: {}\\n'.format(FPR))\n",
    "f_output.write('accuracy: {}\\n'.format(accuracy))\n",
    "f_output.write('specificity: {}\\n'.format(specificity))\n",
    "f_output.write(\"sensitivity : {}\\n\".format(sensitivity))\n",
    "f_output.write(\"mcc : {}\\n\".format(mcc))\n",
    "f_output.write(\"{}\".format(report))\n",
    "f_output.write('=======\\n')\n",
    "f_output.close()"
   ]
  },
  {
   "cell_type": "code",
   "execution_count": 82,
   "metadata": {},
   "outputs": [],
   "source": [
    "%matplotlib inline\n",
    "import matplotlib.pyplot as plt\n",
    "from sklearn.metrics import roc_curve, auc\n",
    "\n",
    "def plot_confusion_matrix(cm, names, title='Confusion matrix', cmap=plt.cm.Blues):\n",
    "    plt.imshow(cm, interpolation='nearest', cmap=cmap)\n",
    "    plt.title(title)\n",
    "    plt.colorbar()\n",
    "    tick_marks = np.arange(len(names))\n",
    "    plt.xticks(tick_marks, names, rotation=45)\n",
    "    plt.yticks(tick_marks, names)\n",
    "    plt.tight_layout()\n",
    "    plt.ylabel('True label')\n",
    "    plt.xlabel('Predicted label')\n",
    "    \n",
    "\n",
    "def plot_roc(pred,y):\n",
    "    fpr, tpr, _ = roc_curve(y, pred)\n",
    "    roc_auc = auc(fpr, tpr)\n",
    "\n",
    "    plt.figure()\n",
    "    plt.plot(fpr, tpr, label='ROC curve (area = %0.2f)' % roc_auc)\n",
    "    plt.plot([0, 1], [0, 1], 'k--')\n",
    "    plt.xlim([0.0, 1.0])\n",
    "    plt.ylim([0.0, 1.05])\n",
    "    plt.xlabel('False Positive Rate')\n",
    "    plt.ylabel('True Positive Rate')\n",
    "    plt.title('Receiver Operating Characteristic (ROC)')\n",
    "    plt.legend(loc=\"lower right\")\n",
    "    plt.show()"
   ]
  },
  {
   "cell_type": "code",
   "execution_count": 84,
   "metadata": {},
   "outputs": [
    {
     "data": {
      "image/png": "[encoded data removed]",
      "text/plain": [
       "<Figure size 432x288 with 1 Axes>"
      ]
     },
     "metadata": {
      "needs_background": "light"
     },
     "output_type": "display_data"
    },
    {
     "name": "stdout",
     "output_type": "stream",
     "text": [
      "ROC AUC 값 : 0.5000\n"
     ]
    }
   ],
   "source": [
    "plot_roc(y_pred,Y_test)\n",
    "from sklearn.metrics import roc_auc_score\n",
    "roc_score = roc_auc_score(Y_test,y_pred)\n",
    "print('ROC AUC 값 : {0:.4f}'.format(roc_score))"
   ]
  },
  {
   "cell_type": "code",
   "execution_count": 85,
   "metadata": {},
   "outputs": [
    {
     "data": {
      "text/plain": [
       "array([1, 1, 1, 1, 1, 1, 1, 1, 1, 1, 1, 1, 1, 1, 1, 1, 1, 1, 1, 1, 1, 1,\n",
       "       1, 1, 1, 1, 1, 1, 1, 1, 1, 1, 1, 1, 1, 1, 1, 1, 1, 1, 1, 1, 1, 1,\n",
       "       1, 1, 1, 1, 1, 1, 1, 1, 1, 1, 1, 1, 1, 1], dtype=int64)"
      ]
     },
     "execution_count": 85,
     "metadata": {},
     "output_type": "execute_result"
    }
   ],
   "source": [
    "y_pred"
   ]
  },
  {
   "cell_type": "code",
   "execution_count": 87,
   "metadata": {},
   "outputs": [
    {
     "name": "stdout",
     "output_type": "stream",
     "text": [
      "58\n",
      "58\n"
     ]
    }
   ],
   "source": [
    "print(len(y_test))\n",
    "print(len(y_pred))"
   ]
  },
  {
   "cell_type": "code",
   "execution_count": 93,
   "metadata": {},
   "outputs": [
    {
     "data": {
      "text/plain": [
       "<matplotlib.axes._subplots.AxesSubplot at 0x14bbabe5548>"
      ]
     },
     "execution_count": 93,
     "metadata": {},
     "output_type": "execute_result"
    },
    {
     "data": {
      "image/png": "[encoded data removed]",
      "text/plain": [
       "<Figure size 432x288 with 1 Axes>"
      ]
     },
     "metadata": {
      "needs_background": "light"
     },
     "output_type": "display_data"
    }
   ],
   "source": [
    "train_sample_df['Adj Close'].plot()"
   ]
  },
  {
   "cell_type": "code",
   "execution_count": 95,
   "metadata": {},
   "outputs": [
    {
     "data": {
      "text/plain": [
       "<matplotlib.axes._subplots.AxesSubplot at 0x14bbababf48>"
      ]
     },
     "execution_count": 95,
     "metadata": {},
     "output_type": "execute_result"
    },
    {
     "data": {
      "image/png": "[encoded data removed]",
      "text/plain": [
       "<Figure size 432x288 with 1 Axes>"
      ]
     },
     "metadata": {
      "needs_background": "light"
     },
     "output_type": "display_data"
    }
   ],
   "source": [
    "test_sample_df['Adj Close'].plot()"
   ]
  },
  {
   "cell_type": "code",
   "execution_count": 98,
   "metadata": {},
   "outputs": [],
   "source": [
    "lstm_book_df = test_sample_df[['Adj Close','next_rtn']].copy()\n",
    "t1 = pd.DataFrame(data=y_pred,columns=['position'],index=lstm_book_df.index[5:])\n",
    "lstm_book_df = lstm_book_df.join(t1,how='left')\n",
    "lstm_book_df.fillna(0,inplace=True)\n",
    "lstm_book_df['ret'] = lstm_book_df['Adj Close'].pct_change()\n",
    "lstm_book_df['lstm_ret'] = lstm_book_df['next_rtn']*lstm_book_df['position'].shift(1)\n",
    "lstm_book_df['lstm_cumret'] = (lstm_book_df['lstm_ret']+1).cumprod()\n",
    "lstm_book_df['bm_cumret'] = (lstm_book_df['ret']+1).cumprod()"
   ]
  },
  {
   "cell_type": "code",
   "execution_count": 99,
   "metadata": {},
   "outputs": [
    {
     "data": {
      "text/plain": [
       "<matplotlib.axes._subplots.AxesSubplot at 0x14bbacd1848>"
      ]
     },
     "execution_count": 99,
     "metadata": {},
     "output_type": "execute_result"
    },
    {
     "data": {
      "image/png": "[encoded data removed]",
      "text/plain": [
       "<Figure size 432x288 with 1 Axes>"
      ]
     },
     "metadata": {
      "needs_background": "light"
     },
     "output_type": "display_data"
    }
   ],
   "source": [
    "lstm_book_df[['lstm_cumret','bm_cumret']].plot()"
   ]
  },
  {
   "cell_type": "markdown",
   "metadata": {},
   "source": [
    "# Backtesting"
   ]
  },
  {
   "cell_type": "code",
   "execution_count": 102,
   "metadata": {},
   "outputs": [
    {
     "data": {
      "text/plain": [
       "<matplotlib.axes._subplots.AxesSubplot at 0x14bbad0c788>"
      ]
     },
     "execution_count": 102,
     "metadata": {},
     "output_type": "execute_result"
    },
    {
     "data": {
      "image/png": "[encoded data removed]",
      "text/plain": [
       "<Figure size 432x288 with 1 Axes>"
      ]
     },
     "metadata": {
      "needs_background": "light"
     },
     "output_type": "display_data"
    }
   ],
   "source": [
    "historical_max = lstm_book_df['Adj Close'].cummax()\n",
    "daily_drawdown = lstm_book_df['Adj Close'] / historical_max - 1.0\n",
    "historical_dd = daily_drawdown.cummin()\n",
    "historical_dd.plot()"
   ]
  },
  {
   "cell_type": "markdown",
   "metadata": {},
   "source": [
    "# BM"
   ]
  },
  {
   "cell_type": "code",
   "execution_count": 103,
   "metadata": {},
   "outputs": [
    {
     "name": "stdout",
     "output_type": "stream",
     "text": [
      "CAGR :  -21.92 %\n",
      "Sharpe :  -1.62\n",
      "VOL :  14.82 %\n",
      "MDD :  9.73 %\n"
     ]
    }
   ],
   "source": [
    "CAGR = lstm_book_df.loc[lstm_book_df.index[-1],'bm_cumret'] ** (252./len(lstm_book_df.index)) -1\n",
    "Sharpe = np.mean(lstm_book_df['ret']) / np.std(lstm_book_df['ret']) * np.sqrt(252.)\n",
    "VOL = np.std(lstm_book_df['ret']) * np.sqrt(252.)\n",
    "MDD = historical_dd.min()\n",
    "print('CAGR : ',round(CAGR*100,2),'%')\n",
    "print('Sharpe : ',round(Sharpe,2))\n",
    "print('VOL : ',round(VOL*100,2),'%')\n",
    "print('MDD : ',round(-1*MDD*100,2),'%')"
   ]
  },
  {
   "cell_type": "markdown",
   "metadata": {},
   "source": [
    "# LSTM"
   ]
  },
  {
   "cell_type": "code",
   "execution_count": 104,
   "metadata": {},
   "outputs": [
    {
     "name": "stdout",
     "output_type": "stream",
     "text": [
      "CAGR :  -11.66 %\n",
      "Sharpe :  -1.08\n",
      "VOL :  11.11 %\n",
      "MDD :  9.73 %\n"
     ]
    }
   ],
   "source": [
    "CAGR = lstm_book_df.loc[lstm_book_df.index[-1],'lstm_cumret'] ** (252./len(lstm_book_df.index)) -1\n",
    "Sharpe = np.mean(lstm_book_df['lstm_ret']) / np.std(lstm_book_df['lstm_ret']) * np.sqrt(252.)\n",
    "VOL = np.std(lstm_book_df['lstm_ret']) * np.sqrt(252.)\n",
    "MDD = historical_dd.min()\n",
    "print('CAGR : ',round(CAGR*100,2),'%')\n",
    "print('Sharpe : ',round(Sharpe,2))\n",
    "print('VOL : ',round(VOL*100,2),'%')\n",
    "print('MDD : ',round(-1*MDD*100,2),'%')"
   ]
  }
 ],
 "metadata": {
  "kernelspec": {
   "display_name": "Python 3",
   "language": "python",
   "name": "python3"
  },
  "language_info": {
   "codemirror_mode": {
    "name": "ipython",
    "version": 3
   },
   "file_extension": ".py",
   "mimetype": "text/x-python",
   "name": "python",
   "nbconvert_exporter": "python",
   "pygments_lexer": "ipython3",
   "version": "3.7.6"
  }
 },
 "nbformat": 4,
 "nbformat_minor": 4
}
