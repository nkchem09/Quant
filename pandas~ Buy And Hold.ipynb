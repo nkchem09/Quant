{
 "cells": [
  {
   "cell_type": "code",
   "execution_count": 1,
   "metadata": {},
   "outputs": [
    {
     "name": "stdout",
     "output_type": "stream",
     "text": [
      "<class 'datetime.datetime'>\n",
      "2018-05-13 12:34:56\n"
     ]
    }
   ],
   "source": [
    "import datetime\n",
    "format = '%Y-%m-%d %H:%M:%S'\n",
    "datetime_str = '2018-05-13 12:34:56'\n",
    "# strptime(변수,형식) -> str타입을 datetime타입으로 변환\n",
    "datetime_dt = datetime.datetime.strptime(datetime_str,format)\n",
    "print(type(datetime_dt))\n",
    "print(datetime_dt)"
   ]
  },
  {
   "cell_type": "code",
   "execution_count": 2,
   "metadata": {},
   "outputs": [
    {
     "name": "stdout",
     "output_type": "stream",
     "text": [
      "<class 'str'>\n",
      "2018-05-13 12:34:56\n"
     ]
    }
   ],
   "source": [
    "datetime_str = datetime_dt.strftime('%Y-%m-%d %H:%M:%S')\n",
    "print(type(datetime_str))\n",
    "print(datetime_str)"
   ]
  },
  {
   "cell_type": "code",
   "execution_count": 3,
   "metadata": {},
   "outputs": [
    {
     "name": "stdout",
     "output_type": "stream",
     "text": [
      "<class 'str'>\n",
      "2018-05-13 12\n"
     ]
    }
   ],
   "source": [
    "datetime_str = datetime_dt.strftime('%Y-%m-%d %H')\n",
    "print(type(datetime_str))\n",
    "print(datetime_str)"
   ]
  },
  {
   "cell_type": "markdown",
   "metadata": {},
   "source": [
    "strptime() : string -> datetime\n",
    "\n",
    "\n",
    "\n",
    "strftime()  : datetime -> string"
   ]
  },
  {
   "cell_type": "markdown",
   "metadata": {},
   "source": [
    "# numpy 날짜 생성방법\n",
    "  1. ISO 8601 국제 표준 방식으로, str타입의 값을 전달해 생성\n",
    "  2. 유닉스 시각 이용"
   ]
  },
  {
   "cell_type": "code",
   "execution_count": 6,
   "metadata": {},
   "outputs": [
    {
     "data": {
      "text/plain": [
       "numpy.datetime64('2019-01-01')"
      ]
     },
     "execution_count": 6,
     "metadata": {},
     "output_type": "execute_result"
    }
   ],
   "source": [
    "1.\n",
    "import numpy as np\n",
    "np.datetime64('2019-01-01')"
   ]
  },
  {
   "cell_type": "code",
   "execution_count": 29,
   "metadata": {},
   "outputs": [
    {
     "name": "stdout",
     "output_type": "stream",
     "text": [
      "1970-01-01T00:00:00.000001000\n",
      "1997-05-19\n",
      "2001-09-09T01:46:40\n"
     ]
    }
   ],
   "source": [
    "2.\n",
    "print(np.datetime64(1000,'ns'))\n",
    "print(np.datetime64(10000,'D'))\n",
    "print(np.datetime64(1000000000,'s'))"
   ]
  },
  {
   "cell_type": "code",
   "execution_count": 30,
   "metadata": {},
   "outputs": [
    {
     "data": {
      "text/plain": [
       "array(['2007-07-13', '2006-01-13', '2010-08-13'], dtype='datetime64[D]')"
      ]
     },
     "execution_count": 30,
     "metadata": {},
     "output_type": "execute_result"
    }
   ],
   "source": [
    "np.array(['2007-07-13','2006-01-13','2010-08-13'],dtype='datetime64')"
   ]
  },
  {
   "cell_type": "code",
   "execution_count": 33,
   "metadata": {},
   "outputs": [
    {
     "name": "stdout",
     "output_type": "stream",
     "text": [
      "<class 'numpy.timedelta64'>\n",
      "366 days\n",
      "12 months\n",
      "366 days\n"
     ]
    }
   ],
   "source": [
    "print(type(np.datetime64('2009-01-01')-np.datetime64('2008-01-01')))\n",
    "print(np.datetime64('2009-01-01')-np.datetime64('2008-01-01'))\n",
    "print(np.datetime64('2009')-np.datetime64('2008-01'))\n",
    "print(np.datetime64('2009-01-01')-np.datetime64('2008-01'))"
   ]
  },
  {
   "cell_type": "markdown",
   "metadata": {},
   "source": [
    "# pandas 라이브러리"
   ]
  },
  {
   "cell_type": "code",
   "execution_count": 35,
   "metadata": {},
   "outputs": [
    {
     "data": {
      "text/plain": [
       "Timestamp('1973-05-24 02:58:24.389760')"
      ]
     },
     "execution_count": 35,
     "metadata": {},
     "output_type": "execute_result"
    }
   ],
   "source": [
    "import pandas as pd\n",
    "pd.Timestamp(1239.1238934,unit='D')"
   ]
  },
  {
   "cell_type": "code",
   "execution_count": 36,
   "metadata": {},
   "outputs": [
    {
     "data": {
      "text/plain": [
       "Timestamp('2019-01-01 00:00:00')"
      ]
     },
     "execution_count": 36,
     "metadata": {},
     "output_type": "execute_result"
    }
   ],
   "source": [
    "pd.Timestamp('2019-1-1')"
   ]
  },
  {
   "cell_type": "code",
   "execution_count": 37,
   "metadata": {},
   "outputs": [
    {
     "data": {
      "text/plain": [
       "DatetimeIndex(['2018-01-01', '2019-01-02'], dtype='datetime64[ns]', freq=None)"
      ]
     },
     "execution_count": 37,
     "metadata": {},
     "output_type": "execute_result"
    }
   ],
   "source": [
    "pd.to_datetime(['2018-1-1','2019-1-2'])"
   ]
  },
  {
   "cell_type": "code",
   "execution_count": 38,
   "metadata": {},
   "outputs": [
    {
     "data": {
      "text/plain": [
       "DatetimeIndex(['2019-01-01', '2019-01-02', '2019-01-03', '2019-01-04',\n",
       "               '2019-01-05', '2019-01-06', '2019-01-07', '2019-01-08',\n",
       "               '2019-01-09', '2019-01-10', '2019-01-11', '2019-01-12',\n",
       "               '2019-01-13', '2019-01-14', '2019-01-15', '2019-01-16',\n",
       "               '2019-01-17', '2019-01-18', '2019-01-19', '2019-01-20',\n",
       "               '2019-01-21', '2019-01-22', '2019-01-23', '2019-01-24',\n",
       "               '2019-01-25', '2019-01-26', '2019-01-27', '2019-01-28',\n",
       "               '2019-01-29', '2019-01-30', '2019-01-31', '2019-02-01'],\n",
       "              dtype='datetime64[ns]', freq='D')"
      ]
     },
     "execution_count": 38,
     "metadata": {},
     "output_type": "execute_result"
    }
   ],
   "source": [
    "pd.date_range('2019-01','2019-02')"
   ]
  },
  {
   "cell_type": "code",
   "execution_count": 179,
   "metadata": {},
   "outputs": [
    {
     "data": {
      "text/plain": [
       "Period('2019-01', 'M')"
      ]
     },
     "execution_count": 179,
     "metadata": {},
     "output_type": "execute_result"
    }
   ],
   "source": [
    "pd.Period('2019-01')"
   ]
  },
  {
   "cell_type": "code",
   "execution_count": 181,
   "metadata": {},
   "outputs": [
    {
     "data": {
      "text/plain": [
       "Period('2019-05-01', 'D')"
      ]
     },
     "execution_count": 181,
     "metadata": {},
     "output_type": "execute_result"
    }
   ],
   "source": [
    "pd.Period('2019-05',freq='D')"
   ]
  },
  {
   "cell_type": "code",
   "execution_count": 185,
   "metadata": {},
   "outputs": [
    {
     "data": {
      "text/plain": [
       "PeriodIndex(['2019-01-01', '2019-01-02', '2019-01-03', '2019-01-04',\n",
       "             '2019-01-05', '2019-01-06', '2019-01-07', '2019-01-08',\n",
       "             '2019-01-09', '2019-01-10', '2019-01-11', '2019-01-12',\n",
       "             '2019-01-13', '2019-01-14', '2019-01-15', '2019-01-16',\n",
       "             '2019-01-17', '2019-01-18', '2019-01-19', '2019-01-20',\n",
       "             '2019-01-21', '2019-01-22', '2019-01-23', '2019-01-24',\n",
       "             '2019-01-25', '2019-01-26', '2019-01-27', '2019-01-28',\n",
       "             '2019-01-29', '2019-01-30', '2019-01-31', '2019-02-01'],\n",
       "            dtype='period[D]', freq='D')"
      ]
     },
     "execution_count": 185,
     "metadata": {},
     "output_type": "execute_result"
    }
   ],
   "source": [
    "# 2019-02-01 까지 생성\n",
    "pd.period_range('2019-01','2019-02',freq='D') # default: freq = 'M'"
   ]
  },
  {
   "cell_type": "code",
   "execution_count": 186,
   "metadata": {},
   "outputs": [
    {
     "data": {
      "text/plain": [
       "True"
      ]
     },
     "execution_count": 186,
     "metadata": {},
     "output_type": "execute_result"
    }
   ],
   "source": [
    "# Period = 기간 , Timestamp = 시점\n",
    "p = pd.Period('2019-06-13')\n",
    "test = pd.Timestamp('2019-06-13 22:11')\n",
    "p.start_time < test < p.end_time"
   ]
  },
  {
   "cell_type": "code",
   "execution_count": 187,
   "metadata": {},
   "outputs": [
    {
     "data": {
      "text/plain": [
       "DatetimeIndex(['2019-01-01', '2019-01-02', '2019-01-03', '2019-01-04',\n",
       "               '2019-01-07', '2019-01-08', '2019-01-09', '2019-01-10',\n",
       "               '2019-01-11', '2019-01-14', '2019-01-15', '2019-01-16',\n",
       "               '2019-01-17', '2019-01-18', '2019-01-21', '2019-01-22',\n",
       "               '2019-01-23', '2019-01-24', '2019-01-25', '2019-01-28',\n",
       "               '2019-01-29', '2019-01-30', '2019-01-31', '2019-02-01'],\n",
       "              dtype='datetime64[ns]', freq='B')"
      ]
     },
     "execution_count": 187,
     "metadata": {},
     "output_type": "execute_result"
    }
   ],
   "source": [
    "pd.date_range('2019-01','2019-02',freq='B') # Business Days (평일)"
   ]
  },
  {
   "cell_type": "code",
   "execution_count": 188,
   "metadata": {},
   "outputs": [
    {
     "data": {
      "text/plain": [
       "DatetimeIndex(['2019-01-06', '2019-01-13', '2019-01-20', '2019-01-27'], dtype='datetime64[ns]', freq='W-SUN')"
      ]
     },
     "execution_count": 188,
     "metadata": {},
     "output_type": "execute_result"
    }
   ],
   "source": [
    "pd.date_range('2019-01','2019-02',freq='W') #주말"
   ]
  },
  {
   "cell_type": "code",
   "execution_count": 189,
   "metadata": {},
   "outputs": [
    {
     "data": {
      "text/plain": [
       "DatetimeIndex(['2019-01-07', '2019-01-14', '2019-01-21', '2019-01-28'], dtype='datetime64[ns]', freq='W-MON')"
      ]
     },
     "execution_count": 189,
     "metadata": {},
     "output_type": "execute_result"
    }
   ],
   "source": [
    "pd.date_range('2019-01','2019-02',freq='W-MON')"
   ]
  },
  {
   "cell_type": "code",
   "execution_count": 190,
   "metadata": {},
   "outputs": [],
   "source": [
    "df = pd.read_csv('C:/Users/oymin/OneDrive/바탕 화면/파이썬-머신러닝/퀸트/^IXIC.csv')"
   ]
  },
  {
   "cell_type": "code",
   "execution_count": 191,
   "metadata": {},
   "outputs": [
    {
     "data": {
      "text/html": [
       "<div>\n",
       "<style scoped>\n",
       "    .dataframe tbody tr th:only-of-type {\n",
       "        vertical-align: middle;\n",
       "    }\n",
       "\n",
       "    .dataframe tbody tr th {\n",
       "        vertical-align: top;\n",
       "    }\n",
       "\n",
       "    .dataframe thead th {\n",
       "        text-align: right;\n",
       "    }\n",
       "</style>\n",
       "<table border=\"1\" class=\"dataframe\">\n",
       "  <thead>\n",
       "    <tr style=\"text-align: right;\">\n",
       "      <th></th>\n",
       "      <th>Date</th>\n",
       "      <th>Open</th>\n",
       "      <th>High</th>\n",
       "      <th>Low</th>\n",
       "      <th>Close</th>\n",
       "      <th>Adj Close</th>\n",
       "      <th>Volume</th>\n",
       "    </tr>\n",
       "  </thead>\n",
       "  <tbody>\n",
       "    <tr>\n",
       "      <th>0</th>\n",
       "      <td>2019-09-16</td>\n",
       "      <td>8121.640137</td>\n",
       "      <td>8165.330078</td>\n",
       "      <td>8121.250000</td>\n",
       "      <td>8153.540039</td>\n",
       "      <td>8153.540039</td>\n",
       "      <td>1869220000</td>\n",
       "    </tr>\n",
       "    <tr>\n",
       "      <th>1</th>\n",
       "      <td>2019-09-17</td>\n",
       "      <td>8148.649902</td>\n",
       "      <td>8188.229980</td>\n",
       "      <td>8139.819824</td>\n",
       "      <td>8186.020020</td>\n",
       "      <td>8186.020020</td>\n",
       "      <td>1850340000</td>\n",
       "    </tr>\n",
       "    <tr>\n",
       "      <th>2</th>\n",
       "      <td>2019-09-18</td>\n",
       "      <td>8174.620117</td>\n",
       "      <td>8179.870117</td>\n",
       "      <td>8086.220215</td>\n",
       "      <td>8177.390137</td>\n",
       "      <td>8177.390137</td>\n",
       "      <td>2034880000</td>\n",
       "    </tr>\n",
       "    <tr>\n",
       "      <th>3</th>\n",
       "      <td>2019-09-19</td>\n",
       "      <td>8193.589844</td>\n",
       "      <td>8237.429688</td>\n",
       "      <td>8174.319824</td>\n",
       "      <td>8182.879883</td>\n",
       "      <td>8182.879883</td>\n",
       "      <td>1792700000</td>\n",
       "    </tr>\n",
       "    <tr>\n",
       "      <th>4</th>\n",
       "      <td>2019-09-20</td>\n",
       "      <td>8184.879883</td>\n",
       "      <td>8202.820313</td>\n",
       "      <td>8086.160156</td>\n",
       "      <td>8117.669922</td>\n",
       "      <td>8117.669922</td>\n",
       "      <td>3359380000</td>\n",
       "    </tr>\n",
       "  </tbody>\n",
       "</table>\n",
       "</div>"
      ],
      "text/plain": [
       "         Date         Open         High          Low        Close  \\\n",
       "0  2019-09-16  8121.640137  8165.330078  8121.250000  8153.540039   \n",
       "1  2019-09-17  8148.649902  8188.229980  8139.819824  8186.020020   \n",
       "2  2019-09-18  8174.620117  8179.870117  8086.220215  8177.390137   \n",
       "3  2019-09-19  8193.589844  8237.429688  8174.319824  8182.879883   \n",
       "4  2019-09-20  8184.879883  8202.820313  8086.160156  8117.669922   \n",
       "\n",
       "     Adj Close      Volume  \n",
       "0  8153.540039  1869220000  \n",
       "1  8186.020020  1850340000  \n",
       "2  8177.390137  2034880000  \n",
       "3  8182.879883  1792700000  \n",
       "4  8117.669922  3359380000  "
      ]
     },
     "execution_count": 191,
     "metadata": {},
     "output_type": "execute_result"
    }
   ],
   "source": [
    "df.head()"
   ]
  },
  {
   "cell_type": "code",
   "execution_count": 192,
   "metadata": {},
   "outputs": [],
   "source": [
    "ixic_df = pd.read_csv('C:/Users/oymin/OneDrive/바탕 화면/파이썬-머신러닝/퀸트/^IXIC.csv',index_col='Date',parse_dates=['Date'])\n",
    "# parse_dates=['Date'] -> 'Date' 컬럼값을 timestamp 타입으로 변환"
   ]
  },
  {
   "cell_type": "code",
   "execution_count": 194,
   "metadata": {},
   "outputs": [
    {
     "name": "stdout",
     "output_type": "stream",
     "text": [
      "                   Open         High          Low        Close    Adj Close  \\\n",
      "Date                                                                          \n",
      "2019-09-16  8121.640137  8165.330078  8121.250000  8153.540039  8153.540039   \n",
      "2019-09-17  8148.649902  8188.229980  8139.819824  8186.020020  8186.020020   \n",
      "2019-09-18  8174.620117  8179.870117  8086.220215  8177.390137  8177.390137   \n",
      "2019-09-19  8193.589844  8237.429688  8174.319824  8182.879883  8182.879883   \n",
      "2019-09-20  8184.879883  8202.820313  8086.160156  8117.669922  8117.669922   \n",
      "\n",
      "                Volume  \n",
      "Date                    \n",
      "2019-09-16  1869220000  \n",
      "2019-09-17  1850340000  \n",
      "2019-09-18  2034880000  \n",
      "2019-09-19  1792700000  \n",
      "2019-09-20  3359380000  \n",
      "<class 'pandas.core.indexes.datetimes.DatetimeIndex'>\n",
      "<class 'pandas._libs.tslibs.timestamps.Timestamp'>\n"
     ]
    }
   ],
   "source": [
    "print(ixic_df.head())\n",
    "print(type(ixic_df.index))\n",
    "print(type(ixic_df.index[0]))"
   ]
  },
  {
   "cell_type": "markdown",
   "metadata": {},
   "source": [
    "# 결측치와 이상치 다루기"
   ]
  },
  {
   "cell_type": "code",
   "execution_count": 211,
   "metadata": {},
   "outputs": [],
   "source": [
    "s1 = pd.Series([1,np.nan,3,4,5])\n",
    "s2 = pd.Series([1,2,np.nan,4,5])\n",
    "s3 = pd.Series([1,2,3,np.nan,5])\n",
    "df = pd.DataFrame({'S1':s1, 'S2':s2, 'S3':s3})"
   ]
  },
  {
   "cell_type": "code",
   "execution_count": 201,
   "metadata": {},
   "outputs": [
    {
     "data": {
      "text/html": [
       "<div>\n",
       "<style scoped>\n",
       "    .dataframe tbody tr th:only-of-type {\n",
       "        vertical-align: middle;\n",
       "    }\n",
       "\n",
       "    .dataframe tbody tr th {\n",
       "        vertical-align: top;\n",
       "    }\n",
       "\n",
       "    .dataframe thead th {\n",
       "        text-align: right;\n",
       "    }\n",
       "</style>\n",
       "<table border=\"1\" class=\"dataframe\">\n",
       "  <thead>\n",
       "    <tr style=\"text-align: right;\">\n",
       "      <th></th>\n",
       "      <th>S1</th>\n",
       "      <th>S2</th>\n",
       "      <th>S3</th>\n",
       "    </tr>\n",
       "  </thead>\n",
       "  <tbody>\n",
       "    <tr>\n",
       "      <th>0</th>\n",
       "      <td>1.0</td>\n",
       "      <td>1.0</td>\n",
       "      <td>1.0</td>\n",
       "    </tr>\n",
       "    <tr>\n",
       "      <th>1</th>\n",
       "      <td>NaN</td>\n",
       "      <td>2.0</td>\n",
       "      <td>2.0</td>\n",
       "    </tr>\n",
       "    <tr>\n",
       "      <th>2</th>\n",
       "      <td>3.0</td>\n",
       "      <td>NaN</td>\n",
       "      <td>3.0</td>\n",
       "    </tr>\n",
       "    <tr>\n",
       "      <th>3</th>\n",
       "      <td>4.0</td>\n",
       "      <td>4.0</td>\n",
       "      <td>NaN</td>\n",
       "    </tr>\n",
       "    <tr>\n",
       "      <th>4</th>\n",
       "      <td>5.0</td>\n",
       "      <td>5.0</td>\n",
       "      <td>5.0</td>\n",
       "    </tr>\n",
       "  </tbody>\n",
       "</table>\n",
       "</div>"
      ],
      "text/plain": [
       "    S1   S2   S3\n",
       "0  1.0  1.0  1.0\n",
       "1  NaN  2.0  2.0\n",
       "2  3.0  NaN  3.0\n",
       "3  4.0  4.0  NaN\n",
       "4  5.0  5.0  5.0"
      ]
     },
     "execution_count": 201,
     "metadata": {},
     "output_type": "execute_result"
    }
   ],
   "source": [
    "df"
   ]
  },
  {
   "cell_type": "code",
   "execution_count": 202,
   "metadata": {},
   "outputs": [
    {
     "data": {
      "text/plain": [
       "0    False\n",
       "1     True\n",
       "2    False\n",
       "3    False\n",
       "4    False\n",
       "Name: S1, dtype: bool"
      ]
     },
     "execution_count": 202,
     "metadata": {},
     "output_type": "execute_result"
    }
   ],
   "source": [
    "df['S1'].isna()"
   ]
  },
  {
   "cell_type": "code",
   "execution_count": 203,
   "metadata": {},
   "outputs": [
    {
     "data": {
      "text/html": [
       "<div>\n",
       "<style scoped>\n",
       "    .dataframe tbody tr th:only-of-type {\n",
       "        vertical-align: middle;\n",
       "    }\n",
       "\n",
       "    .dataframe tbody tr th {\n",
       "        vertical-align: top;\n",
       "    }\n",
       "\n",
       "    .dataframe thead th {\n",
       "        text-align: right;\n",
       "    }\n",
       "</style>\n",
       "<table border=\"1\" class=\"dataframe\">\n",
       "  <thead>\n",
       "    <tr style=\"text-align: right;\">\n",
       "      <th></th>\n",
       "      <th>S1</th>\n",
       "      <th>S2</th>\n",
       "      <th>S3</th>\n",
       "    </tr>\n",
       "  </thead>\n",
       "  <tbody>\n",
       "    <tr>\n",
       "      <th>0</th>\n",
       "      <td>False</td>\n",
       "      <td>False</td>\n",
       "      <td>False</td>\n",
       "    </tr>\n",
       "    <tr>\n",
       "      <th>1</th>\n",
       "      <td>True</td>\n",
       "      <td>False</td>\n",
       "      <td>False</td>\n",
       "    </tr>\n",
       "    <tr>\n",
       "      <th>2</th>\n",
       "      <td>False</td>\n",
       "      <td>True</td>\n",
       "      <td>False</td>\n",
       "    </tr>\n",
       "    <tr>\n",
       "      <th>3</th>\n",
       "      <td>False</td>\n",
       "      <td>False</td>\n",
       "      <td>True</td>\n",
       "    </tr>\n",
       "    <tr>\n",
       "      <th>4</th>\n",
       "      <td>False</td>\n",
       "      <td>False</td>\n",
       "      <td>False</td>\n",
       "    </tr>\n",
       "  </tbody>\n",
       "</table>\n",
       "</div>"
      ],
      "text/plain": [
       "      S1     S2     S3\n",
       "0  False  False  False\n",
       "1   True  False  False\n",
       "2  False   True  False\n",
       "3  False  False   True\n",
       "4  False  False  False"
      ]
     },
     "execution_count": 203,
     "metadata": {},
     "output_type": "execute_result"
    }
   ],
   "source": [
    "df.isna()"
   ]
  },
  {
   "cell_type": "code",
   "execution_count": 204,
   "metadata": {},
   "outputs": [
    {
     "data": {
      "text/plain": [
       "S1    1\n",
       "S2    1\n",
       "S3    1\n",
       "dtype: int64"
      ]
     },
     "execution_count": 204,
     "metadata": {},
     "output_type": "execute_result"
    }
   ],
   "source": [
    "df.isna().sum()"
   ]
  },
  {
   "cell_type": "code",
   "execution_count": 206,
   "metadata": {},
   "outputs": [
    {
     "data": {
      "text/html": [
       "<div>\n",
       "<style scoped>\n",
       "    .dataframe tbody tr th:only-of-type {\n",
       "        vertical-align: middle;\n",
       "    }\n",
       "\n",
       "    .dataframe tbody tr th {\n",
       "        vertical-align: top;\n",
       "    }\n",
       "\n",
       "    .dataframe thead th {\n",
       "        text-align: right;\n",
       "    }\n",
       "</style>\n",
       "<table border=\"1\" class=\"dataframe\">\n",
       "  <thead>\n",
       "    <tr style=\"text-align: right;\">\n",
       "      <th></th>\n",
       "      <th>S1</th>\n",
       "      <th>S2</th>\n",
       "      <th>S3</th>\n",
       "    </tr>\n",
       "  </thead>\n",
       "  <tbody>\n",
       "    <tr>\n",
       "      <th>0</th>\n",
       "      <td>False</td>\n",
       "      <td>False</td>\n",
       "      <td>False</td>\n",
       "    </tr>\n",
       "    <tr>\n",
       "      <th>1</th>\n",
       "      <td>True</td>\n",
       "      <td>False</td>\n",
       "      <td>False</td>\n",
       "    </tr>\n",
       "    <tr>\n",
       "      <th>2</th>\n",
       "      <td>False</td>\n",
       "      <td>True</td>\n",
       "      <td>False</td>\n",
       "    </tr>\n",
       "    <tr>\n",
       "      <th>3</th>\n",
       "      <td>False</td>\n",
       "      <td>False</td>\n",
       "      <td>True</td>\n",
       "    </tr>\n",
       "    <tr>\n",
       "      <th>4</th>\n",
       "      <td>False</td>\n",
       "      <td>False</td>\n",
       "      <td>False</td>\n",
       "    </tr>\n",
       "  </tbody>\n",
       "</table>\n",
       "</div>"
      ],
      "text/plain": [
       "      S1     S2     S3\n",
       "0  False  False  False\n",
       "1   True  False  False\n",
       "2  False   True  False\n",
       "3  False  False   True\n",
       "4  False  False  False"
      ]
     },
     "execution_count": 206,
     "metadata": {},
     "output_type": "execute_result"
    }
   ],
   "source": [
    "df.isin([np.nan])"
   ]
  },
  {
   "cell_type": "code",
   "execution_count": 207,
   "metadata": {},
   "outputs": [
    {
     "data": {
      "text/plain": [
       "S1    1\n",
       "S2    1\n",
       "S3    1\n",
       "dtype: int64"
      ]
     },
     "execution_count": 207,
     "metadata": {},
     "output_type": "execute_result"
    }
   ],
   "source": [
    "df.isin([np.nan]).sum()"
   ]
  },
  {
   "cell_type": "code",
   "execution_count": 208,
   "metadata": {},
   "outputs": [
    {
     "data": {
      "text/html": [
       "<div>\n",
       "<style scoped>\n",
       "    .dataframe tbody tr th:only-of-type {\n",
       "        vertical-align: middle;\n",
       "    }\n",
       "\n",
       "    .dataframe tbody tr th {\n",
       "        vertical-align: top;\n",
       "    }\n",
       "\n",
       "    .dataframe thead th {\n",
       "        text-align: right;\n",
       "    }\n",
       "</style>\n",
       "<table border=\"1\" class=\"dataframe\">\n",
       "  <thead>\n",
       "    <tr style=\"text-align: right;\">\n",
       "      <th></th>\n",
       "      <th>S1</th>\n",
       "      <th>S2</th>\n",
       "      <th>S3</th>\n",
       "    </tr>\n",
       "  </thead>\n",
       "  <tbody>\n",
       "    <tr>\n",
       "      <th>0</th>\n",
       "      <td>False</td>\n",
       "      <td>False</td>\n",
       "      <td>False</td>\n",
       "    </tr>\n",
       "    <tr>\n",
       "      <th>1</th>\n",
       "      <td>True</td>\n",
       "      <td>False</td>\n",
       "      <td>False</td>\n",
       "    </tr>\n",
       "    <tr>\n",
       "      <th>2</th>\n",
       "      <td>False</td>\n",
       "      <td>True</td>\n",
       "      <td>False</td>\n",
       "    </tr>\n",
       "    <tr>\n",
       "      <th>3</th>\n",
       "      <td>False</td>\n",
       "      <td>False</td>\n",
       "      <td>True</td>\n",
       "    </tr>\n",
       "    <tr>\n",
       "      <th>4</th>\n",
       "      <td>False</td>\n",
       "      <td>False</td>\n",
       "      <td>False</td>\n",
       "    </tr>\n",
       "  </tbody>\n",
       "</table>\n",
       "</div>"
      ],
      "text/plain": [
       "      S1     S2     S3\n",
       "0  False  False  False\n",
       "1   True  False  False\n",
       "2  False   True  False\n",
       "3  False  False   True\n",
       "4  False  False  False"
      ]
     },
     "execution_count": 208,
     "metadata": {},
     "output_type": "execute_result"
    }
   ],
   "source": [
    "df.isnull()"
   ]
  },
  {
   "cell_type": "code",
   "execution_count": 209,
   "metadata": {},
   "outputs": [
    {
     "data": {
      "text/plain": [
       "S1    1\n",
       "S2    1\n",
       "S3    1\n",
       "dtype: int64"
      ]
     },
     "execution_count": 209,
     "metadata": {},
     "output_type": "execute_result"
    }
   ],
   "source": [
    "df.isnull().sum()"
   ]
  },
  {
   "cell_type": "markdown",
   "metadata": {},
   "source": [
    "inna() 와 isnull() 은 같은 기능임"
   ]
  },
  {
   "cell_type": "code",
   "execution_count": 210,
   "metadata": {},
   "outputs": [
    {
     "data": {
      "text/html": [
       "<div>\n",
       "<style scoped>\n",
       "    .dataframe tbody tr th:only-of-type {\n",
       "        vertical-align: middle;\n",
       "    }\n",
       "\n",
       "    .dataframe tbody tr th {\n",
       "        vertical-align: top;\n",
       "    }\n",
       "\n",
       "    .dataframe thead th {\n",
       "        text-align: right;\n",
       "    }\n",
       "</style>\n",
       "<table border=\"1\" class=\"dataframe\">\n",
       "  <thead>\n",
       "    <tr style=\"text-align: right;\">\n",
       "      <th></th>\n",
       "      <th>S1</th>\n",
       "      <th>S2</th>\n",
       "      <th>S3</th>\n",
       "    </tr>\n",
       "  </thead>\n",
       "  <tbody>\n",
       "    <tr>\n",
       "      <th>0</th>\n",
       "      <td>1.0</td>\n",
       "      <td>1.0</td>\n",
       "      <td>1.0</td>\n",
       "    </tr>\n",
       "    <tr>\n",
       "      <th>1</th>\n",
       "      <td>0.0</td>\n",
       "      <td>2.0</td>\n",
       "      <td>2.0</td>\n",
       "    </tr>\n",
       "    <tr>\n",
       "      <th>2</th>\n",
       "      <td>3.0</td>\n",
       "      <td>0.0</td>\n",
       "      <td>3.0</td>\n",
       "    </tr>\n",
       "    <tr>\n",
       "      <th>3</th>\n",
       "      <td>4.0</td>\n",
       "      <td>4.0</td>\n",
       "      <td>0.0</td>\n",
       "    </tr>\n",
       "    <tr>\n",
       "      <th>4</th>\n",
       "      <td>5.0</td>\n",
       "      <td>5.0</td>\n",
       "      <td>5.0</td>\n",
       "    </tr>\n",
       "  </tbody>\n",
       "</table>\n",
       "</div>"
      ],
      "text/plain": [
       "    S1   S2   S3\n",
       "0  1.0  1.0  1.0\n",
       "1  0.0  2.0  2.0\n",
       "2  3.0  0.0  3.0\n",
       "3  4.0  4.0  0.0\n",
       "4  5.0  5.0  5.0"
      ]
     },
     "execution_count": 210,
     "metadata": {},
     "output_type": "execute_result"
    }
   ],
   "source": [
    "df.fillna(0)"
   ]
  },
  {
   "cell_type": "code",
   "execution_count": 212,
   "metadata": {},
   "outputs": [
    {
     "data": {
      "text/html": [
       "<div>\n",
       "<style scoped>\n",
       "    .dataframe tbody tr th:only-of-type {\n",
       "        vertical-align: middle;\n",
       "    }\n",
       "\n",
       "    .dataframe tbody tr th {\n",
       "        vertical-align: top;\n",
       "    }\n",
       "\n",
       "    .dataframe thead th {\n",
       "        text-align: right;\n",
       "    }\n",
       "</style>\n",
       "<table border=\"1\" class=\"dataframe\">\n",
       "  <thead>\n",
       "    <tr style=\"text-align: right;\">\n",
       "      <th></th>\n",
       "      <th>S1</th>\n",
       "      <th>S2</th>\n",
       "      <th>S3</th>\n",
       "    </tr>\n",
       "  </thead>\n",
       "  <tbody>\n",
       "    <tr>\n",
       "      <th>0</th>\n",
       "      <td>1.0</td>\n",
       "      <td>1.0</td>\n",
       "      <td>1.0</td>\n",
       "    </tr>\n",
       "    <tr>\n",
       "      <th>1</th>\n",
       "      <td>1.0</td>\n",
       "      <td>2.0</td>\n",
       "      <td>2.0</td>\n",
       "    </tr>\n",
       "    <tr>\n",
       "      <th>2</th>\n",
       "      <td>3.0</td>\n",
       "      <td>2.0</td>\n",
       "      <td>3.0</td>\n",
       "    </tr>\n",
       "    <tr>\n",
       "      <th>3</th>\n",
       "      <td>4.0</td>\n",
       "      <td>4.0</td>\n",
       "      <td>3.0</td>\n",
       "    </tr>\n",
       "    <tr>\n",
       "      <th>4</th>\n",
       "      <td>5.0</td>\n",
       "      <td>5.0</td>\n",
       "      <td>5.0</td>\n",
       "    </tr>\n",
       "  </tbody>\n",
       "</table>\n",
       "</div>"
      ],
      "text/plain": [
       "    S1   S2   S3\n",
       "0  1.0  1.0  1.0\n",
       "1  1.0  2.0  2.0\n",
       "2  3.0  2.0  3.0\n",
       "3  4.0  4.0  3.0\n",
       "4  5.0  5.0  5.0"
      ]
     },
     "execution_count": 212,
     "metadata": {},
     "output_type": "execute_result"
    }
   ],
   "source": [
    "# pad,ffill      = 앞선 행의 값을 가져옴\n",
    "# bfill,backfill = 다음 행의 값을 가져옴\n",
    "df.fillna(method='pad')"
   ]
  },
  {
   "cell_type": "code",
   "execution_count": 214,
   "metadata": {},
   "outputs": [
    {
     "data": {
      "text/html": [
       "<div>\n",
       "<style scoped>\n",
       "    .dataframe tbody tr th:only-of-type {\n",
       "        vertical-align: middle;\n",
       "    }\n",
       "\n",
       "    .dataframe tbody tr th {\n",
       "        vertical-align: top;\n",
       "    }\n",
       "\n",
       "    .dataframe thead th {\n",
       "        text-align: right;\n",
       "    }\n",
       "</style>\n",
       "<table border=\"1\" class=\"dataframe\">\n",
       "  <thead>\n",
       "    <tr style=\"text-align: right;\">\n",
       "      <th></th>\n",
       "      <th>S1</th>\n",
       "      <th>S2</th>\n",
       "      <th>S3</th>\n",
       "    </tr>\n",
       "  </thead>\n",
       "  <tbody>\n",
       "    <tr>\n",
       "      <th>0</th>\n",
       "      <td>1.0</td>\n",
       "      <td>1.0</td>\n",
       "      <td>1.0</td>\n",
       "    </tr>\n",
       "    <tr>\n",
       "      <th>1</th>\n",
       "      <td>3.0</td>\n",
       "      <td>2.0</td>\n",
       "      <td>2.0</td>\n",
       "    </tr>\n",
       "    <tr>\n",
       "      <th>2</th>\n",
       "      <td>3.0</td>\n",
       "      <td>4.0</td>\n",
       "      <td>3.0</td>\n",
       "    </tr>\n",
       "    <tr>\n",
       "      <th>3</th>\n",
       "      <td>4.0</td>\n",
       "      <td>4.0</td>\n",
       "      <td>5.0</td>\n",
       "    </tr>\n",
       "    <tr>\n",
       "      <th>4</th>\n",
       "      <td>5.0</td>\n",
       "      <td>5.0</td>\n",
       "      <td>5.0</td>\n",
       "    </tr>\n",
       "  </tbody>\n",
       "</table>\n",
       "</div>"
      ],
      "text/plain": [
       "    S1   S2   S3\n",
       "0  1.0  1.0  1.0\n",
       "1  3.0  2.0  2.0\n",
       "2  3.0  4.0  3.0\n",
       "3  4.0  4.0  5.0\n",
       "4  5.0  5.0  5.0"
      ]
     },
     "execution_count": 214,
     "metadata": {},
     "output_type": "execute_result"
    }
   ],
   "source": [
    "df.fillna(method='bfill')"
   ]
  },
  {
   "cell_type": "code",
   "execution_count": 216,
   "metadata": {},
   "outputs": [
    {
     "data": {
      "text/html": [
       "<div>\n",
       "<style scoped>\n",
       "    .dataframe tbody tr th:only-of-type {\n",
       "        vertical-align: middle;\n",
       "    }\n",
       "\n",
       "    .dataframe tbody tr th {\n",
       "        vertical-align: top;\n",
       "    }\n",
       "\n",
       "    .dataframe thead th {\n",
       "        text-align: right;\n",
       "    }\n",
       "</style>\n",
       "<table border=\"1\" class=\"dataframe\">\n",
       "  <thead>\n",
       "    <tr style=\"text-align: right;\">\n",
       "      <th></th>\n",
       "      <th>S1</th>\n",
       "      <th>S2</th>\n",
       "      <th>S3</th>\n",
       "    </tr>\n",
       "  </thead>\n",
       "  <tbody>\n",
       "    <tr>\n",
       "      <th>0</th>\n",
       "      <td>1.0</td>\n",
       "      <td>1.0</td>\n",
       "      <td>1.0</td>\n",
       "    </tr>\n",
       "    <tr>\n",
       "      <th>4</th>\n",
       "      <td>5.0</td>\n",
       "      <td>5.0</td>\n",
       "      <td>5.0</td>\n",
       "    </tr>\n",
       "  </tbody>\n",
       "</table>\n",
       "</div>"
      ],
      "text/plain": [
       "    S1   S2   S3\n",
       "0  1.0  1.0  1.0\n",
       "4  5.0  5.0  5.0"
      ]
     },
     "execution_count": 216,
     "metadata": {},
     "output_type": "execute_result"
    }
   ],
   "source": [
    "# axis = 0 : 행방향 , 1 : 열방향\n",
    "df.dropna(axis=0)"
   ]
  },
  {
   "cell_type": "code",
   "execution_count": 218,
   "metadata": {},
   "outputs": [
    {
     "data": {
      "text/html": [
       "<div>\n",
       "<style scoped>\n",
       "    .dataframe tbody tr th:only-of-type {\n",
       "        vertical-align: middle;\n",
       "    }\n",
       "\n",
       "    .dataframe tbody tr th {\n",
       "        vertical-align: top;\n",
       "    }\n",
       "\n",
       "    .dataframe thead th {\n",
       "        text-align: right;\n",
       "    }\n",
       "</style>\n",
       "<table border=\"1\" class=\"dataframe\">\n",
       "  <thead>\n",
       "    <tr style=\"text-align: right;\">\n",
       "      <th></th>\n",
       "    </tr>\n",
       "  </thead>\n",
       "  <tbody>\n",
       "    <tr>\n",
       "      <th>0</th>\n",
       "    </tr>\n",
       "    <tr>\n",
       "      <th>1</th>\n",
       "    </tr>\n",
       "    <tr>\n",
       "      <th>2</th>\n",
       "    </tr>\n",
       "    <tr>\n",
       "      <th>3</th>\n",
       "    </tr>\n",
       "    <tr>\n",
       "      <th>4</th>\n",
       "    </tr>\n",
       "  </tbody>\n",
       "</table>\n",
       "</div>"
      ],
      "text/plain": [
       "Empty DataFrame\n",
       "Columns: []\n",
       "Index: [0, 1, 2, 3, 4]"
      ]
     },
     "execution_count": 218,
     "metadata": {},
     "output_type": "execute_result"
    }
   ],
   "source": [
    "df.dropna(axis=1)"
   ]
  },
  {
   "cell_type": "code",
   "execution_count": 222,
   "metadata": {},
   "outputs": [
    {
     "data": {
      "text/html": [
       "<div>\n",
       "<style scoped>\n",
       "    .dataframe tbody tr th:only-of-type {\n",
       "        vertical-align: middle;\n",
       "    }\n",
       "\n",
       "    .dataframe tbody tr th {\n",
       "        vertical-align: top;\n",
       "    }\n",
       "\n",
       "    .dataframe thead th {\n",
       "        text-align: right;\n",
       "    }\n",
       "</style>\n",
       "<table border=\"1\" class=\"dataframe\">\n",
       "  <thead>\n",
       "    <tr style=\"text-align: right;\">\n",
       "      <th></th>\n",
       "      <th>Open</th>\n",
       "      <th>High</th>\n",
       "      <th>Low</th>\n",
       "      <th>Close</th>\n",
       "      <th>Adj Close</th>\n",
       "      <th>Volume</th>\n",
       "    </tr>\n",
       "    <tr>\n",
       "      <th>Date</th>\n",
       "      <th></th>\n",
       "      <th></th>\n",
       "      <th></th>\n",
       "      <th></th>\n",
       "      <th></th>\n",
       "      <th></th>\n",
       "    </tr>\n",
       "  </thead>\n",
       "  <tbody>\n",
       "  </tbody>\n",
       "</table>\n",
       "</div>"
      ],
      "text/plain": [
       "Empty DataFrame\n",
       "Columns: [Open, High, Low, Close, Adj Close, Volume]\n",
       "Index: []"
      ]
     },
     "execution_count": 222,
     "metadata": {},
     "output_type": "execute_result"
    }
   ],
   "source": [
    "# any(1) -> True 값의 열을 표시\n",
    "ixic_df[ixic_df.isin([np.nan,np.inf,-np.inf]).any(1)]"
   ]
  },
  {
   "cell_type": "markdown",
   "metadata": {},
   "source": [
    "# 데이터 선택 방법"
   ]
  },
  {
   "cell_type": "code",
   "execution_count": 224,
   "metadata": {},
   "outputs": [
    {
     "data": {
      "text/plain": [
       "Date\n",
       "2019-09-16     8121.640137\n",
       "2019-09-17     8148.649902\n",
       "2019-09-18     8174.620117\n",
       "2019-09-19     8193.589844\n",
       "2019-09-20     8184.879883\n",
       "                  ...     \n",
       "2020-09-09    11064.759766\n",
       "2020-09-10    11235.530273\n",
       "2020-09-11    11010.070313\n",
       "2020-09-14    11010.139648\n",
       "2020-09-15    11193.959961\n",
       "Name: Open, Length: 253, dtype: float64"
      ]
     },
     "execution_count": 224,
     "metadata": {},
     "output_type": "execute_result"
    }
   ],
   "source": [
    "ixic_df['Open']"
   ]
  },
  {
   "cell_type": "code",
   "execution_count": 226,
   "metadata": {},
   "outputs": [
    {
     "data": {
      "text/html": [
       "<div>\n",
       "<style scoped>\n",
       "    .dataframe tbody tr th:only-of-type {\n",
       "        vertical-align: middle;\n",
       "    }\n",
       "\n",
       "    .dataframe tbody tr th {\n",
       "        vertical-align: top;\n",
       "    }\n",
       "\n",
       "    .dataframe thead th {\n",
       "        text-align: right;\n",
       "    }\n",
       "</style>\n",
       "<table border=\"1\" class=\"dataframe\">\n",
       "  <thead>\n",
       "    <tr style=\"text-align: right;\">\n",
       "      <th></th>\n",
       "      <th>Open</th>\n",
       "      <th>Close</th>\n",
       "    </tr>\n",
       "    <tr>\n",
       "      <th>Date</th>\n",
       "      <th></th>\n",
       "      <th></th>\n",
       "    </tr>\n",
       "  </thead>\n",
       "  <tbody>\n",
       "    <tr>\n",
       "      <th>2019-09-16</th>\n",
       "      <td>8121.640137</td>\n",
       "      <td>8153.540039</td>\n",
       "    </tr>\n",
       "    <tr>\n",
       "      <th>2019-09-17</th>\n",
       "      <td>8148.649902</td>\n",
       "      <td>8186.020020</td>\n",
       "    </tr>\n",
       "    <tr>\n",
       "      <th>2019-09-18</th>\n",
       "      <td>8174.620117</td>\n",
       "      <td>8177.390137</td>\n",
       "    </tr>\n",
       "    <tr>\n",
       "      <th>2019-09-19</th>\n",
       "      <td>8193.589844</td>\n",
       "      <td>8182.879883</td>\n",
       "    </tr>\n",
       "    <tr>\n",
       "      <th>2019-09-20</th>\n",
       "      <td>8184.879883</td>\n",
       "      <td>8117.669922</td>\n",
       "    </tr>\n",
       "    <tr>\n",
       "      <th>...</th>\n",
       "      <td>...</td>\n",
       "      <td>...</td>\n",
       "    </tr>\n",
       "    <tr>\n",
       "      <th>2020-09-09</th>\n",
       "      <td>11064.759766</td>\n",
       "      <td>11141.559570</td>\n",
       "    </tr>\n",
       "    <tr>\n",
       "      <th>2020-09-10</th>\n",
       "      <td>11235.530273</td>\n",
       "      <td>10919.589844</td>\n",
       "    </tr>\n",
       "    <tr>\n",
       "      <th>2020-09-11</th>\n",
       "      <td>11010.070313</td>\n",
       "      <td>10853.549805</td>\n",
       "    </tr>\n",
       "    <tr>\n",
       "      <th>2020-09-14</th>\n",
       "      <td>11010.139648</td>\n",
       "      <td>11056.650391</td>\n",
       "    </tr>\n",
       "    <tr>\n",
       "      <th>2020-09-15</th>\n",
       "      <td>11193.959961</td>\n",
       "      <td>11190.320313</td>\n",
       "    </tr>\n",
       "  </tbody>\n",
       "</table>\n",
       "<p>253 rows × 2 columns</p>\n",
       "</div>"
      ],
      "text/plain": [
       "                    Open         Close\n",
       "Date                                  \n",
       "2019-09-16   8121.640137   8153.540039\n",
       "2019-09-17   8148.649902   8186.020020\n",
       "2019-09-18   8174.620117   8177.390137\n",
       "2019-09-19   8193.589844   8182.879883\n",
       "2019-09-20   8184.879883   8117.669922\n",
       "...                  ...           ...\n",
       "2020-09-09  11064.759766  11141.559570\n",
       "2020-09-10  11235.530273  10919.589844\n",
       "2020-09-11  11010.070313  10853.549805\n",
       "2020-09-14  11010.139648  11056.650391\n",
       "2020-09-15  11193.959961  11190.320313\n",
       "\n",
       "[253 rows x 2 columns]"
      ]
     },
     "execution_count": 226,
     "metadata": {},
     "output_type": "execute_result"
    }
   ],
   "source": [
    "# 2개 이상의 컬럼을 선택할 때는 리스트 형식으로 전달\n",
    "ixic_df[['Open','Close']]"
   ]
  },
  {
   "cell_type": "code",
   "execution_count": 227,
   "metadata": {},
   "outputs": [
    {
     "data": {
      "text/html": [
       "<div>\n",
       "<style scoped>\n",
       "    .dataframe tbody tr th:only-of-type {\n",
       "        vertical-align: middle;\n",
       "    }\n",
       "\n",
       "    .dataframe tbody tr th {\n",
       "        vertical-align: top;\n",
       "    }\n",
       "\n",
       "    .dataframe thead th {\n",
       "        text-align: right;\n",
       "    }\n",
       "</style>\n",
       "<table border=\"1\" class=\"dataframe\">\n",
       "  <thead>\n",
       "    <tr style=\"text-align: right;\">\n",
       "      <th></th>\n",
       "      <th>Open</th>\n",
       "      <th>High</th>\n",
       "      <th>Low</th>\n",
       "      <th>Close</th>\n",
       "      <th>Adj Close</th>\n",
       "      <th>Volume</th>\n",
       "    </tr>\n",
       "    <tr>\n",
       "      <th>Date</th>\n",
       "      <th></th>\n",
       "      <th></th>\n",
       "      <th></th>\n",
       "      <th></th>\n",
       "      <th></th>\n",
       "      <th></th>\n",
       "    </tr>\n",
       "  </thead>\n",
       "  <tbody>\n",
       "    <tr>\n",
       "      <th>2019-09-16</th>\n",
       "      <td>8121.640137</td>\n",
       "      <td>8165.330078</td>\n",
       "      <td>8121.250000</td>\n",
       "      <td>8153.540039</td>\n",
       "      <td>8153.540039</td>\n",
       "      <td>1869220000</td>\n",
       "    </tr>\n",
       "    <tr>\n",
       "      <th>2019-09-17</th>\n",
       "      <td>8148.649902</td>\n",
       "      <td>8188.229980</td>\n",
       "      <td>8139.819824</td>\n",
       "      <td>8186.020020</td>\n",
       "      <td>8186.020020</td>\n",
       "      <td>1850340000</td>\n",
       "    </tr>\n",
       "    <tr>\n",
       "      <th>2019-09-18</th>\n",
       "      <td>8174.620117</td>\n",
       "      <td>8179.870117</td>\n",
       "      <td>8086.220215</td>\n",
       "      <td>8177.390137</td>\n",
       "      <td>8177.390137</td>\n",
       "      <td>2034880000</td>\n",
       "    </tr>\n",
       "    <tr>\n",
       "      <th>2019-09-19</th>\n",
       "      <td>8193.589844</td>\n",
       "      <td>8237.429688</td>\n",
       "      <td>8174.319824</td>\n",
       "      <td>8182.879883</td>\n",
       "      <td>8182.879883</td>\n",
       "      <td>1792700000</td>\n",
       "    </tr>\n",
       "    <tr>\n",
       "      <th>2019-09-20</th>\n",
       "      <td>8184.879883</td>\n",
       "      <td>8202.820313</td>\n",
       "      <td>8086.160156</td>\n",
       "      <td>8117.669922</td>\n",
       "      <td>8117.669922</td>\n",
       "      <td>3359380000</td>\n",
       "    </tr>\n",
       "    <tr>\n",
       "      <th>2019-09-23</th>\n",
       "      <td>8106.490234</td>\n",
       "      <td>8135.810059</td>\n",
       "      <td>8085.339844</td>\n",
       "      <td>8112.459961</td>\n",
       "      <td>8112.459961</td>\n",
       "      <td>1780160000</td>\n",
       "    </tr>\n",
       "    <tr>\n",
       "      <th>2019-09-24</th>\n",
       "      <td>8147.229980</td>\n",
       "      <td>8158.830078</td>\n",
       "      <td>7969.649902</td>\n",
       "      <td>7993.629883</td>\n",
       "      <td>7993.629883</td>\n",
       "      <td>2302600000</td>\n",
       "    </tr>\n",
       "    <tr>\n",
       "      <th>2019-09-25</th>\n",
       "      <td>7990.660156</td>\n",
       "      <td>8095.000000</td>\n",
       "      <td>7935.569824</td>\n",
       "      <td>8077.379883</td>\n",
       "      <td>8077.379883</td>\n",
       "      <td>2015270000</td>\n",
       "    </tr>\n",
       "    <tr>\n",
       "      <th>2019-09-26</th>\n",
       "      <td>8070.120117</td>\n",
       "      <td>8072.109863</td>\n",
       "      <td>7991.020020</td>\n",
       "      <td>8030.660156</td>\n",
       "      <td>8030.660156</td>\n",
       "      <td>1832800000</td>\n",
       "    </tr>\n",
       "    <tr>\n",
       "      <th>2019-09-27</th>\n",
       "      <td>8047.109863</td>\n",
       "      <td>8051.830078</td>\n",
       "      <td>7890.279785</td>\n",
       "      <td>7939.629883</td>\n",
       "      <td>7939.629883</td>\n",
       "      <td>2037720000</td>\n",
       "    </tr>\n",
       "    <tr>\n",
       "      <th>2019-09-30</th>\n",
       "      <td>7964.089844</td>\n",
       "      <td>8012.160156</td>\n",
       "      <td>7949.629883</td>\n",
       "      <td>7999.339844</td>\n",
       "      <td>7999.339844</td>\n",
       "      <td>1805820000</td>\n",
       "    </tr>\n",
       "    <tr>\n",
       "      <th>2019-10-01</th>\n",
       "      <td>8026.830078</td>\n",
       "      <td>8062.500000</td>\n",
       "      <td>7906.290039</td>\n",
       "      <td>7908.680176</td>\n",
       "      <td>7908.680176</td>\n",
       "      <td>2243650000</td>\n",
       "    </tr>\n",
       "  </tbody>\n",
       "</table>\n",
       "</div>"
      ],
      "text/plain": [
       "                   Open         High          Low        Close    Adj Close  \\\n",
       "Date                                                                          \n",
       "2019-09-16  8121.640137  8165.330078  8121.250000  8153.540039  8153.540039   \n",
       "2019-09-17  8148.649902  8188.229980  8139.819824  8186.020020  8186.020020   \n",
       "2019-09-18  8174.620117  8179.870117  8086.220215  8177.390137  8177.390137   \n",
       "2019-09-19  8193.589844  8237.429688  8174.319824  8182.879883  8182.879883   \n",
       "2019-09-20  8184.879883  8202.820313  8086.160156  8117.669922  8117.669922   \n",
       "2019-09-23  8106.490234  8135.810059  8085.339844  8112.459961  8112.459961   \n",
       "2019-09-24  8147.229980  8158.830078  7969.649902  7993.629883  7993.629883   \n",
       "2019-09-25  7990.660156  8095.000000  7935.569824  8077.379883  8077.379883   \n",
       "2019-09-26  8070.120117  8072.109863  7991.020020  8030.660156  8030.660156   \n",
       "2019-09-27  8047.109863  8051.830078  7890.279785  7939.629883  7939.629883   \n",
       "2019-09-30  7964.089844  8012.160156  7949.629883  7999.339844  7999.339844   \n",
       "2019-10-01  8026.830078  8062.500000  7906.290039  7908.680176  7908.680176   \n",
       "\n",
       "                Volume  \n",
       "Date                    \n",
       "2019-09-16  1869220000  \n",
       "2019-09-17  1850340000  \n",
       "2019-09-18  2034880000  \n",
       "2019-09-19  1792700000  \n",
       "2019-09-20  3359380000  \n",
       "2019-09-23  1780160000  \n",
       "2019-09-24  2302600000  \n",
       "2019-09-25  2015270000  \n",
       "2019-09-26  1832800000  \n",
       "2019-09-27  2037720000  \n",
       "2019-09-30  1805820000  \n",
       "2019-10-01  2243650000  "
      ]
     },
     "execution_count": 227,
     "metadata": {},
     "output_type": "execute_result"
    }
   ],
   "source": [
    "ixic_df['2019-09-16':'2019-10-01']"
   ]
  },
  {
   "cell_type": "code",
   "execution_count": 228,
   "metadata": {},
   "outputs": [
    {
     "name": "stdout",
     "output_type": "stream",
     "text": [
      "         Date         Open         High          Low        Close  \\\n",
      "0  2019-09-16  8121.640137  8165.330078  8121.250000  8153.540039   \n",
      "1  2019-09-17  8148.649902  8188.229980  8139.819824  8186.020020   \n",
      "2  2019-09-18  8174.620117  8179.870117  8086.220215  8177.390137   \n",
      "3  2019-09-19  8193.589844  8237.429688  8174.319824  8182.879883   \n",
      "4  2019-09-20  8184.879883  8202.820313  8086.160156  8117.669922   \n",
      "\n",
      "     Adj Close      Volume  \n",
      "0  8153.540039  1869220000  \n",
      "1  8186.020020  1850340000  \n",
      "2  8177.390137  2034880000  \n",
      "3  8182.879883  1792700000  \n",
      "4  8117.669922  3359380000  \n",
      "<class 'pandas.core.indexes.range.RangeIndex'>\n",
      "<class 'int'>\n"
     ]
    }
   ],
   "source": [
    "df = pd.read_csv('C:/Users/oymin/OneDrive/바탕 화면/파이썬-머신러닝/퀸트/^IXIC.csv')\n",
    "print(df.head())\n",
    "print(type(df.index))\n",
    "print(type(df.index[0]))"
   ]
  },
  {
   "cell_type": "code",
   "execution_count": 230,
   "metadata": {},
   "outputs": [
    {
     "name": "stdout",
     "output_type": "stream",
     "text": [
      "                   Open         High          Low        Close    Adj Close  \\\n",
      "Date                                                                          \n",
      "2019-09-16  8121.640137  8165.330078  8121.250000  8153.540039  8153.540039   \n",
      "2019-09-17  8148.649902  8188.229980  8139.819824  8186.020020  8186.020020   \n",
      "2019-09-18  8174.620117  8179.870117  8086.220215  8177.390137  8177.390137   \n",
      "2019-09-19  8193.589844  8237.429688  8174.319824  8182.879883  8182.879883   \n",
      "2019-09-20  8184.879883  8202.820313  8086.160156  8117.669922  8117.669922   \n",
      "\n",
      "                Volume  \n",
      "Date                    \n",
      "2019-09-16  1869220000  \n",
      "2019-09-17  1850340000  \n",
      "2019-09-18  2034880000  \n",
      "2019-09-19  1792700000  \n",
      "2019-09-20  3359380000  \n",
      "<class 'pandas.core.indexes.datetimes.DatetimeIndex'>\n",
      "<class 'pandas._libs.tslibs.timestamps.Timestamp'>\n"
     ]
    }
   ],
   "source": [
    "df = pd.read_csv('C:/Users/oymin/OneDrive/바탕 화면/파이썬-머신러닝/퀸트/^IXIC.csv',index_col='Date',parse_dates=['Date'])\n",
    "print(df.head())\n",
    "print(type(df.index))\n",
    "print(type(df.index[0]))"
   ]
  },
  {
   "cell_type": "code",
   "execution_count": 233,
   "metadata": {},
   "outputs": [
    {
     "data": {
      "text/plain": [
       "Open         8.121640e+03\n",
       "High         8.165330e+03\n",
       "Low          8.121250e+03\n",
       "Close        8.153540e+03\n",
       "Adj Close    8.153540e+03\n",
       "Volume       1.869220e+09\n",
       "Name: 2019-09-16 00:00:00, dtype: float64"
      ]
     },
     "execution_count": 233,
     "metadata": {},
     "output_type": "execute_result"
    }
   ],
   "source": [
    "df.loc['2019-09-16']"
   ]
  },
  {
   "cell_type": "code",
   "execution_count": 234,
   "metadata": {},
   "outputs": [
    {
     "data": {
      "text/plain": [
       "Open         8.121640e+03\n",
       "High         8.165330e+03\n",
       "Low          8.121250e+03\n",
       "Close        8.153540e+03\n",
       "Adj Close    8.153540e+03\n",
       "Volume       1.869220e+09\n",
       "Name: 2019-09-16 00:00:00, dtype: float64"
      ]
     },
     "execution_count": 234,
     "metadata": {},
     "output_type": "execute_result"
    }
   ],
   "source": [
    "df.iloc[0]"
   ]
  },
  {
   "cell_type": "code",
   "execution_count": 235,
   "metadata": {},
   "outputs": [
    {
     "data": {
      "text/plain": [
       "pandas.core.series.Series"
      ]
     },
     "execution_count": 235,
     "metadata": {},
     "output_type": "execute_result"
    }
   ],
   "source": [
    "type(df.loc['2019-09-16'])"
   ]
  },
  {
   "cell_type": "code",
   "execution_count": 236,
   "metadata": {},
   "outputs": [
    {
     "data": {
      "text/plain": [
       "pandas.core.series.Series"
      ]
     },
     "execution_count": 236,
     "metadata": {},
     "output_type": "execute_result"
    }
   ],
   "source": [
    "type(df.iloc[0])"
   ]
  },
  {
   "cell_type": "code",
   "execution_count": 237,
   "metadata": {},
   "outputs": [
    {
     "data": {
      "text/html": [
       "<div>\n",
       "<style scoped>\n",
       "    .dataframe tbody tr th:only-of-type {\n",
       "        vertical-align: middle;\n",
       "    }\n",
       "\n",
       "    .dataframe tbody tr th {\n",
       "        vertical-align: top;\n",
       "    }\n",
       "\n",
       "    .dataframe thead th {\n",
       "        text-align: right;\n",
       "    }\n",
       "</style>\n",
       "<table border=\"1\" class=\"dataframe\">\n",
       "  <thead>\n",
       "    <tr style=\"text-align: right;\">\n",
       "      <th></th>\n",
       "      <th>Open</th>\n",
       "      <th>Close</th>\n",
       "      <th>High</th>\n",
       "      <th>Low</th>\n",
       "    </tr>\n",
       "    <tr>\n",
       "      <th>Date</th>\n",
       "      <th></th>\n",
       "      <th></th>\n",
       "      <th></th>\n",
       "      <th></th>\n",
       "    </tr>\n",
       "  </thead>\n",
       "  <tbody>\n",
       "    <tr>\n",
       "      <th>2019-09-16</th>\n",
       "      <td>8121.640137</td>\n",
       "      <td>8153.540039</td>\n",
       "      <td>8165.330078</td>\n",
       "      <td>8121.250000</td>\n",
       "    </tr>\n",
       "    <tr>\n",
       "      <th>2019-09-17</th>\n",
       "      <td>8148.649902</td>\n",
       "      <td>8186.020020</td>\n",
       "      <td>8188.229980</td>\n",
       "      <td>8139.819824</td>\n",
       "    </tr>\n",
       "    <tr>\n",
       "      <th>2019-09-18</th>\n",
       "      <td>8174.620117</td>\n",
       "      <td>8177.390137</td>\n",
       "      <td>8179.870117</td>\n",
       "      <td>8086.220215</td>\n",
       "    </tr>\n",
       "    <tr>\n",
       "      <th>2019-09-19</th>\n",
       "      <td>8193.589844</td>\n",
       "      <td>8182.879883</td>\n",
       "      <td>8237.429688</td>\n",
       "      <td>8174.319824</td>\n",
       "    </tr>\n",
       "    <tr>\n",
       "      <th>2019-09-20</th>\n",
       "      <td>8184.879883</td>\n",
       "      <td>8117.669922</td>\n",
       "      <td>8202.820313</td>\n",
       "      <td>8086.160156</td>\n",
       "    </tr>\n",
       "    <tr>\n",
       "      <th>2019-09-23</th>\n",
       "      <td>8106.490234</td>\n",
       "      <td>8112.459961</td>\n",
       "      <td>8135.810059</td>\n",
       "      <td>8085.339844</td>\n",
       "    </tr>\n",
       "    <tr>\n",
       "      <th>2019-09-24</th>\n",
       "      <td>8147.229980</td>\n",
       "      <td>7993.629883</td>\n",
       "      <td>8158.830078</td>\n",
       "      <td>7969.649902</td>\n",
       "    </tr>\n",
       "    <tr>\n",
       "      <th>2019-09-25</th>\n",
       "      <td>7990.660156</td>\n",
       "      <td>8077.379883</td>\n",
       "      <td>8095.000000</td>\n",
       "      <td>7935.569824</td>\n",
       "    </tr>\n",
       "    <tr>\n",
       "      <th>2019-09-26</th>\n",
       "      <td>8070.120117</td>\n",
       "      <td>8030.660156</td>\n",
       "      <td>8072.109863</td>\n",
       "      <td>7991.020020</td>\n",
       "    </tr>\n",
       "    <tr>\n",
       "      <th>2019-09-27</th>\n",
       "      <td>8047.109863</td>\n",
       "      <td>7939.629883</td>\n",
       "      <td>8051.830078</td>\n",
       "      <td>7890.279785</td>\n",
       "    </tr>\n",
       "    <tr>\n",
       "      <th>2019-09-30</th>\n",
       "      <td>7964.089844</td>\n",
       "      <td>7999.339844</td>\n",
       "      <td>8012.160156</td>\n",
       "      <td>7949.629883</td>\n",
       "    </tr>\n",
       "    <tr>\n",
       "      <th>2019-10-01</th>\n",
       "      <td>8026.830078</td>\n",
       "      <td>7908.680176</td>\n",
       "      <td>8062.500000</td>\n",
       "      <td>7906.290039</td>\n",
       "    </tr>\n",
       "  </tbody>\n",
       "</table>\n",
       "</div>"
      ],
      "text/plain": [
       "                   Open        Close         High          Low\n",
       "Date                                                          \n",
       "2019-09-16  8121.640137  8153.540039  8165.330078  8121.250000\n",
       "2019-09-17  8148.649902  8186.020020  8188.229980  8139.819824\n",
       "2019-09-18  8174.620117  8177.390137  8179.870117  8086.220215\n",
       "2019-09-19  8193.589844  8182.879883  8237.429688  8174.319824\n",
       "2019-09-20  8184.879883  8117.669922  8202.820313  8086.160156\n",
       "2019-09-23  8106.490234  8112.459961  8135.810059  8085.339844\n",
       "2019-09-24  8147.229980  7993.629883  8158.830078  7969.649902\n",
       "2019-09-25  7990.660156  8077.379883  8095.000000  7935.569824\n",
       "2019-09-26  8070.120117  8030.660156  8072.109863  7991.020020\n",
       "2019-09-27  8047.109863  7939.629883  8051.830078  7890.279785\n",
       "2019-09-30  7964.089844  7999.339844  8012.160156  7949.629883\n",
       "2019-10-01  8026.830078  7908.680176  8062.500000  7906.290039"
      ]
     },
     "execution_count": 237,
     "metadata": {},
     "output_type": "execute_result"
    }
   ],
   "source": [
    "df.loc['2019-09-16':'2019-10-01',['Open','Close','High','Low']]"
   ]
  },
  {
   "cell_type": "code",
   "execution_count": 239,
   "metadata": {},
   "outputs": [
    {
     "data": {
      "text/html": [
       "<div>\n",
       "<style scoped>\n",
       "    .dataframe tbody tr th:only-of-type {\n",
       "        vertical-align: middle;\n",
       "    }\n",
       "\n",
       "    .dataframe tbody tr th {\n",
       "        vertical-align: top;\n",
       "    }\n",
       "\n",
       "    .dataframe thead th {\n",
       "        text-align: right;\n",
       "    }\n",
       "</style>\n",
       "<table border=\"1\" class=\"dataframe\">\n",
       "  <thead>\n",
       "    <tr style=\"text-align: right;\">\n",
       "      <th></th>\n",
       "      <th>Open</th>\n",
       "      <th>High</th>\n",
       "      <th>Low</th>\n",
       "      <th>Close</th>\n",
       "    </tr>\n",
       "    <tr>\n",
       "      <th>Date</th>\n",
       "      <th></th>\n",
       "      <th></th>\n",
       "      <th></th>\n",
       "      <th></th>\n",
       "    </tr>\n",
       "  </thead>\n",
       "  <tbody>\n",
       "    <tr>\n",
       "      <th>2019-09-30</th>\n",
       "      <td>7964.089844</td>\n",
       "      <td>8012.160156</td>\n",
       "      <td>7949.629883</td>\n",
       "      <td>7999.339844</td>\n",
       "    </tr>\n",
       "    <tr>\n",
       "      <th>2019-10-01</th>\n",
       "      <td>8026.830078</td>\n",
       "      <td>8062.500000</td>\n",
       "      <td>7906.290039</td>\n",
       "      <td>7908.680176</td>\n",
       "    </tr>\n",
       "    <tr>\n",
       "      <th>2019-10-02</th>\n",
       "      <td>7851.129883</td>\n",
       "      <td>7852.700195</td>\n",
       "      <td>7744.959961</td>\n",
       "      <td>7785.250000</td>\n",
       "    </tr>\n",
       "    <tr>\n",
       "      <th>2019-10-03</th>\n",
       "      <td>7787.020020</td>\n",
       "      <td>7872.259766</td>\n",
       "      <td>7700.000000</td>\n",
       "      <td>7872.259766</td>\n",
       "    </tr>\n",
       "    <tr>\n",
       "      <th>2019-10-04</th>\n",
       "      <td>7908.439941</td>\n",
       "      <td>7986.620117</td>\n",
       "      <td>7899.390137</td>\n",
       "      <td>7982.470215</td>\n",
       "    </tr>\n",
       "    <tr>\n",
       "      <th>2019-10-07</th>\n",
       "      <td>7956.410156</td>\n",
       "      <td>8013.310059</td>\n",
       "      <td>7942.080078</td>\n",
       "      <td>7956.290039</td>\n",
       "    </tr>\n",
       "    <tr>\n",
       "      <th>2019-10-08</th>\n",
       "      <td>7898.270020</td>\n",
       "      <td>7921.879883</td>\n",
       "      <td>7823.729980</td>\n",
       "      <td>7823.779785</td>\n",
       "    </tr>\n",
       "    <tr>\n",
       "      <th>2019-10-09</th>\n",
       "      <td>7895.959961</td>\n",
       "      <td>7930.919922</td>\n",
       "      <td>7873.520020</td>\n",
       "      <td>7903.740234</td>\n",
       "    </tr>\n",
       "    <tr>\n",
       "      <th>2019-10-10</th>\n",
       "      <td>7904.560059</td>\n",
       "      <td>7982.839844</td>\n",
       "      <td>7899.810059</td>\n",
       "      <td>7950.779785</td>\n",
       "    </tr>\n",
       "    <tr>\n",
       "      <th>2019-10-11</th>\n",
       "      <td>8047.339844</td>\n",
       "      <td>8115.799805</td>\n",
       "      <td>8046.799805</td>\n",
       "      <td>8057.040039</td>\n",
       "    </tr>\n",
       "  </tbody>\n",
       "</table>\n",
       "</div>"
      ],
      "text/plain": [
       "                   Open         High          Low        Close\n",
       "Date                                                          \n",
       "2019-09-30  7964.089844  8012.160156  7949.629883  7999.339844\n",
       "2019-10-01  8026.830078  8062.500000  7906.290039  7908.680176\n",
       "2019-10-02  7851.129883  7852.700195  7744.959961  7785.250000\n",
       "2019-10-03  7787.020020  7872.259766  7700.000000  7872.259766\n",
       "2019-10-04  7908.439941  7986.620117  7899.390137  7982.470215\n",
       "2019-10-07  7956.410156  8013.310059  7942.080078  7956.290039\n",
       "2019-10-08  7898.270020  7921.879883  7823.729980  7823.779785\n",
       "2019-10-09  7895.959961  7930.919922  7873.520020  7903.740234\n",
       "2019-10-10  7904.560059  7982.839844  7899.810059  7950.779785\n",
       "2019-10-11  8047.339844  8115.799805  8046.799805  8057.040039"
      ]
     },
     "execution_count": 239,
     "metadata": {},
     "output_type": "execute_result"
    }
   ],
   "source": [
    "# 마지막 원소는 포함하지 않음\n",
    "df.iloc[10:20,[0,1,2,3]]"
   ]
  },
  {
   "cell_type": "code",
   "execution_count": 240,
   "metadata": {},
   "outputs": [
    {
     "data": {
      "text/html": [
       "<div>\n",
       "<style scoped>\n",
       "    .dataframe tbody tr th:only-of-type {\n",
       "        vertical-align: middle;\n",
       "    }\n",
       "\n",
       "    .dataframe tbody tr th {\n",
       "        vertical-align: top;\n",
       "    }\n",
       "\n",
       "    .dataframe thead th {\n",
       "        text-align: right;\n",
       "    }\n",
       "</style>\n",
       "<table border=\"1\" class=\"dataframe\">\n",
       "  <thead>\n",
       "    <tr style=\"text-align: right;\">\n",
       "      <th></th>\n",
       "      <th>Open</th>\n",
       "      <th>High</th>\n",
       "      <th>Low</th>\n",
       "      <th>Close</th>\n",
       "      <th>Adj Close</th>\n",
       "      <th>Volume</th>\n",
       "    </tr>\n",
       "    <tr>\n",
       "      <th>Date</th>\n",
       "      <th></th>\n",
       "      <th></th>\n",
       "      <th></th>\n",
       "      <th></th>\n",
       "      <th></th>\n",
       "      <th></th>\n",
       "    </tr>\n",
       "  </thead>\n",
       "  <tbody>\n",
       "    <tr>\n",
       "      <th>2020-02-03</th>\n",
       "      <td>9190.719727</td>\n",
       "      <td>9299.849609</td>\n",
       "      <td>9188.549805</td>\n",
       "      <td>9273.400391</td>\n",
       "      <td>9273.400391</td>\n",
       "      <td>2420510000</td>\n",
       "    </tr>\n",
       "    <tr>\n",
       "      <th>2020-02-04</th>\n",
       "      <td>9398.389648</td>\n",
       "      <td>9485.379883</td>\n",
       "      <td>9374.049805</td>\n",
       "      <td>9467.969727</td>\n",
       "      <td>9467.969727</td>\n",
       "      <td>2445420000</td>\n",
       "    </tr>\n",
       "    <tr>\n",
       "      <th>2020-02-05</th>\n",
       "      <td>9574.099609</td>\n",
       "      <td>9574.940430</td>\n",
       "      <td>9454.929688</td>\n",
       "      <td>9508.679688</td>\n",
       "      <td>9508.679688</td>\n",
       "      <td>2462470000</td>\n",
       "    </tr>\n",
       "    <tr>\n",
       "      <th>2020-02-06</th>\n",
       "      <td>9540.980469</td>\n",
       "      <td>9575.660156</td>\n",
       "      <td>9505.679688</td>\n",
       "      <td>9572.150391</td>\n",
       "      <td>9572.150391</td>\n",
       "      <td>2267300000</td>\n",
       "    </tr>\n",
       "    <tr>\n",
       "      <th>2020-02-07</th>\n",
       "      <td>9526.639648</td>\n",
       "      <td>9570.089844</td>\n",
       "      <td>9496.530273</td>\n",
       "      <td>9520.509766</td>\n",
       "      <td>9520.509766</td>\n",
       "      <td>2238670000</td>\n",
       "    </tr>\n",
       "  </tbody>\n",
       "</table>\n",
       "</div>"
      ],
      "text/plain": [
       "                   Open         High          Low        Close    Adj Close  \\\n",
       "Date                                                                          \n",
       "2020-02-03  9190.719727  9299.849609  9188.549805  9273.400391  9273.400391   \n",
       "2020-02-04  9398.389648  9485.379883  9374.049805  9467.969727  9467.969727   \n",
       "2020-02-05  9574.099609  9574.940430  9454.929688  9508.679688  9508.679688   \n",
       "2020-02-06  9540.980469  9575.660156  9505.679688  9572.150391  9572.150391   \n",
       "2020-02-07  9526.639648  9570.089844  9496.530273  9520.509766  9520.509766   \n",
       "\n",
       "                Volume  \n",
       "Date                    \n",
       "2020-02-03  2420510000  \n",
       "2020-02-04  2445420000  \n",
       "2020-02-05  2462470000  \n",
       "2020-02-06  2267300000  \n",
       "2020-02-07  2238670000  "
      ]
     },
     "execution_count": 240,
     "metadata": {},
     "output_type": "execute_result"
    }
   ],
   "source": [
    "df.loc['2020-02'].head()"
   ]
  },
  {
   "cell_type": "code",
   "execution_count": 242,
   "metadata": {},
   "outputs": [
    {
     "data": {
      "text/html": [
       "<div>\n",
       "<style scoped>\n",
       "    .dataframe tbody tr th:only-of-type {\n",
       "        vertical-align: middle;\n",
       "    }\n",
       "\n",
       "    .dataframe tbody tr th {\n",
       "        vertical-align: top;\n",
       "    }\n",
       "\n",
       "    .dataframe thead th {\n",
       "        text-align: right;\n",
       "    }\n",
       "</style>\n",
       "<table border=\"1\" class=\"dataframe\">\n",
       "  <thead>\n",
       "    <tr style=\"text-align: right;\">\n",
       "      <th></th>\n",
       "      <th>Open</th>\n",
       "      <th>High</th>\n",
       "      <th>Low</th>\n",
       "      <th>Close</th>\n",
       "      <th>Adj Close</th>\n",
       "      <th>Volume</th>\n",
       "    </tr>\n",
       "    <tr>\n",
       "      <th>Date</th>\n",
       "      <th></th>\n",
       "      <th></th>\n",
       "      <th></th>\n",
       "      <th></th>\n",
       "      <th></th>\n",
       "      <th></th>\n",
       "    </tr>\n",
       "  </thead>\n",
       "  <tbody>\n",
       "    <tr>\n",
       "      <th>2019-11-01</th>\n",
       "      <td>8335.049805</td>\n",
       "      <td>8386.750000</td>\n",
       "      <td>8326.559570</td>\n",
       "      <td>8386.400391</td>\n",
       "      <td>8386.400391</td>\n",
       "      <td>2057310000</td>\n",
       "    </tr>\n",
       "    <tr>\n",
       "      <th>2019-11-04</th>\n",
       "      <td>8445.500000</td>\n",
       "      <td>8451.370117</td>\n",
       "      <td>8421.299805</td>\n",
       "      <td>8433.200195</td>\n",
       "      <td>8433.200195</td>\n",
       "      <td>2149910000</td>\n",
       "    </tr>\n",
       "    <tr>\n",
       "      <th>2019-11-05</th>\n",
       "      <td>8446.620117</td>\n",
       "      <td>8457.389648</td>\n",
       "      <td>8421.049805</td>\n",
       "      <td>8434.679688</td>\n",
       "      <td>8434.679688</td>\n",
       "      <td>2316710000</td>\n",
       "    </tr>\n",
       "    <tr>\n",
       "      <th>2019-11-06</th>\n",
       "      <td>8426.570313</td>\n",
       "      <td>8426.570313</td>\n",
       "      <td>8379.330078</td>\n",
       "      <td>8410.629883</td>\n",
       "      <td>8410.629883</td>\n",
       "      <td>2332650000</td>\n",
       "    </tr>\n",
       "    <tr>\n",
       "      <th>2019-11-07</th>\n",
       "      <td>8455.110352</td>\n",
       "      <td>8483.160156</td>\n",
       "      <td>8415.870117</td>\n",
       "      <td>8434.519531</td>\n",
       "      <td>8434.519531</td>\n",
       "      <td>2393950000</td>\n",
       "    </tr>\n",
       "  </tbody>\n",
       "</table>\n",
       "</div>"
      ],
      "text/plain": [
       "                   Open         High          Low        Close    Adj Close  \\\n",
       "Date                                                                          \n",
       "2019-11-01  8335.049805  8386.750000  8326.559570  8386.400391  8386.400391   \n",
       "2019-11-04  8445.500000  8451.370117  8421.299805  8433.200195  8433.200195   \n",
       "2019-11-05  8446.620117  8457.389648  8421.049805  8434.679688  8434.679688   \n",
       "2019-11-06  8426.570313  8426.570313  8379.330078  8410.629883  8410.629883   \n",
       "2019-11-07  8455.110352  8483.160156  8415.870117  8434.519531  8434.519531   \n",
       "\n",
       "                Volume  \n",
       "Date                    \n",
       "2019-11-01  2057310000  \n",
       "2019-11-04  2149910000  \n",
       "2019-11-05  2316710000  \n",
       "2019-11-06  2332650000  \n",
       "2019-11-07  2393950000  "
      ]
     },
     "execution_count": 242,
     "metadata": {},
     "output_type": "execute_result"
    }
   ],
   "source": [
    "df.loc['2019-Nov-1':'2019-Nov-16'].head()"
   ]
  },
  {
   "cell_type": "code",
   "execution_count": 245,
   "metadata": {},
   "outputs": [
    {
     "data": {
      "text/html": [
       "<div>\n",
       "<style scoped>\n",
       "    .dataframe tbody tr th:only-of-type {\n",
       "        vertical-align: middle;\n",
       "    }\n",
       "\n",
       "    .dataframe tbody tr th {\n",
       "        vertical-align: top;\n",
       "    }\n",
       "\n",
       "    .dataframe thead th {\n",
       "        text-align: right;\n",
       "    }\n",
       "</style>\n",
       "<table border=\"1\" class=\"dataframe\">\n",
       "  <thead>\n",
       "    <tr style=\"text-align: right;\">\n",
       "      <th></th>\n",
       "      <th>Open</th>\n",
       "      <th>High</th>\n",
       "      <th>Low</th>\n",
       "      <th>Close</th>\n",
       "      <th>Adj Close</th>\n",
       "      <th>Volume</th>\n",
       "    </tr>\n",
       "    <tr>\n",
       "      <th>Date</th>\n",
       "      <th></th>\n",
       "      <th></th>\n",
       "      <th></th>\n",
       "      <th></th>\n",
       "      <th></th>\n",
       "      <th></th>\n",
       "    </tr>\n",
       "  </thead>\n",
       "  <tbody>\n",
       "    <tr>\n",
       "      <th>2019-11-01</th>\n",
       "      <td>8335.049805</td>\n",
       "      <td>8386.750000</td>\n",
       "      <td>8326.559570</td>\n",
       "      <td>8386.400391</td>\n",
       "      <td>8386.400391</td>\n",
       "      <td>2057310000</td>\n",
       "    </tr>\n",
       "    <tr>\n",
       "      <th>2019-11-04</th>\n",
       "      <td>8445.500000</td>\n",
       "      <td>8451.370117</td>\n",
       "      <td>8421.299805</td>\n",
       "      <td>8433.200195</td>\n",
       "      <td>8433.200195</td>\n",
       "      <td>2149910000</td>\n",
       "    </tr>\n",
       "    <tr>\n",
       "      <th>2019-11-05</th>\n",
       "      <td>8446.620117</td>\n",
       "      <td>8457.389648</td>\n",
       "      <td>8421.049805</td>\n",
       "      <td>8434.679688</td>\n",
       "      <td>8434.679688</td>\n",
       "      <td>2316710000</td>\n",
       "    </tr>\n",
       "    <tr>\n",
       "      <th>2019-11-06</th>\n",
       "      <td>8426.570313</td>\n",
       "      <td>8426.570313</td>\n",
       "      <td>8379.330078</td>\n",
       "      <td>8410.629883</td>\n",
       "      <td>8410.629883</td>\n",
       "      <td>2332650000</td>\n",
       "    </tr>\n",
       "    <tr>\n",
       "      <th>2019-11-07</th>\n",
       "      <td>8455.110352</td>\n",
       "      <td>8483.160156</td>\n",
       "      <td>8415.870117</td>\n",
       "      <td>8434.519531</td>\n",
       "      <td>8434.519531</td>\n",
       "      <td>2393950000</td>\n",
       "    </tr>\n",
       "  </tbody>\n",
       "</table>\n",
       "</div>"
      ],
      "text/plain": [
       "                   Open         High          Low        Close    Adj Close  \\\n",
       "Date                                                                          \n",
       "2019-11-01  8335.049805  8386.750000  8326.559570  8386.400391  8386.400391   \n",
       "2019-11-04  8445.500000  8451.370117  8421.299805  8433.200195  8433.200195   \n",
       "2019-11-05  8446.620117  8457.389648  8421.049805  8434.679688  8434.679688   \n",
       "2019-11-06  8426.570313  8426.570313  8379.330078  8410.629883  8410.629883   \n",
       "2019-11-07  8455.110352  8483.160156  8415.870117  8434.519531  8434.519531   \n",
       "\n",
       "                Volume  \n",
       "Date                    \n",
       "2019-11-01  2057310000  \n",
       "2019-11-04  2149910000  \n",
       "2019-11-05  2316710000  \n",
       "2019-11-06  2332650000  \n",
       "2019-11-07  2393950000  "
      ]
     },
     "execution_count": 245,
     "metadata": {},
     "output_type": "execute_result"
    }
   ],
   "source": [
    "df.loc['November 1, 2019':'November 16, 2019'].head()"
   ]
  },
  {
   "cell_type": "markdown",
   "metadata": {},
   "source": [
    "# 금융 시계열 데이터 분석에 유용한 판다스 함수"
   ]
  },
  {
   "cell_type": "code",
   "execution_count": 246,
   "metadata": {},
   "outputs": [
    {
     "data": {
      "text/html": [
       "<div>\n",
       "<style scoped>\n",
       "    .dataframe tbody tr th:only-of-type {\n",
       "        vertical-align: middle;\n",
       "    }\n",
       "\n",
       "    .dataframe tbody tr th {\n",
       "        vertical-align: top;\n",
       "    }\n",
       "\n",
       "    .dataframe thead th {\n",
       "        text-align: right;\n",
       "    }\n",
       "</style>\n",
       "<table border=\"1\" class=\"dataframe\">\n",
       "  <thead>\n",
       "    <tr style=\"text-align: right;\">\n",
       "      <th></th>\n",
       "      <th>Open</th>\n",
       "      <th>High</th>\n",
       "      <th>Low</th>\n",
       "      <th>Close</th>\n",
       "      <th>Adj Close</th>\n",
       "      <th>Volume</th>\n",
       "      <th>Close_lag1</th>\n",
       "    </tr>\n",
       "    <tr>\n",
       "      <th>Date</th>\n",
       "      <th></th>\n",
       "      <th></th>\n",
       "      <th></th>\n",
       "      <th></th>\n",
       "      <th></th>\n",
       "      <th></th>\n",
       "      <th></th>\n",
       "    </tr>\n",
       "  </thead>\n",
       "  <tbody>\n",
       "    <tr>\n",
       "      <th>2019-09-16</th>\n",
       "      <td>8121.640137</td>\n",
       "      <td>8165.330078</td>\n",
       "      <td>8121.250000</td>\n",
       "      <td>8153.540039</td>\n",
       "      <td>8153.540039</td>\n",
       "      <td>1869220000</td>\n",
       "      <td>NaN</td>\n",
       "    </tr>\n",
       "    <tr>\n",
       "      <th>2019-09-17</th>\n",
       "      <td>8148.649902</td>\n",
       "      <td>8188.229980</td>\n",
       "      <td>8139.819824</td>\n",
       "      <td>8186.020020</td>\n",
       "      <td>8186.020020</td>\n",
       "      <td>1850340000</td>\n",
       "      <td>8153.540039</td>\n",
       "    </tr>\n",
       "    <tr>\n",
       "      <th>2019-09-18</th>\n",
       "      <td>8174.620117</td>\n",
       "      <td>8179.870117</td>\n",
       "      <td>8086.220215</td>\n",
       "      <td>8177.390137</td>\n",
       "      <td>8177.390137</td>\n",
       "      <td>2034880000</td>\n",
       "      <td>8186.020020</td>\n",
       "    </tr>\n",
       "    <tr>\n",
       "      <th>2019-09-19</th>\n",
       "      <td>8193.589844</td>\n",
       "      <td>8237.429688</td>\n",
       "      <td>8174.319824</td>\n",
       "      <td>8182.879883</td>\n",
       "      <td>8182.879883</td>\n",
       "      <td>1792700000</td>\n",
       "      <td>8177.390137</td>\n",
       "    </tr>\n",
       "    <tr>\n",
       "      <th>2019-09-20</th>\n",
       "      <td>8184.879883</td>\n",
       "      <td>8202.820313</td>\n",
       "      <td>8086.160156</td>\n",
       "      <td>8117.669922</td>\n",
       "      <td>8117.669922</td>\n",
       "      <td>3359380000</td>\n",
       "      <td>8182.879883</td>\n",
       "    </tr>\n",
       "  </tbody>\n",
       "</table>\n",
       "</div>"
      ],
      "text/plain": [
       "                   Open         High          Low        Close    Adj Close  \\\n",
       "Date                                                                          \n",
       "2019-09-16  8121.640137  8165.330078  8121.250000  8153.540039  8153.540039   \n",
       "2019-09-17  8148.649902  8188.229980  8139.819824  8186.020020  8186.020020   \n",
       "2019-09-18  8174.620117  8179.870117  8086.220215  8177.390137  8177.390137   \n",
       "2019-09-19  8193.589844  8237.429688  8174.319824  8182.879883  8182.879883   \n",
       "2019-09-20  8184.879883  8202.820313  8086.160156  8117.669922  8117.669922   \n",
       "\n",
       "                Volume   Close_lag1  \n",
       "Date                                 \n",
       "2019-09-16  1869220000          NaN  \n",
       "2019-09-17  1850340000  8153.540039  \n",
       "2019-09-18  2034880000  8186.020020  \n",
       "2019-09-19  1792700000  8177.390137  \n",
       "2019-09-20  3359380000  8182.879883  "
      ]
     },
     "execution_count": 246,
     "metadata": {},
     "output_type": "execute_result"
    }
   ],
   "source": [
    "# 전달 Close 값이 다음 날 Close_lag1로 시프트\n",
    "# axis, period\n",
    "ixic_df['Close_lag1'] = ixic_df['Close'].shift()\n",
    "ixic_df.head()"
   ]
  },
  {
   "cell_type": "code",
   "execution_count": 248,
   "metadata": {},
   "outputs": [
    {
     "data": {
      "text/html": [
       "<div>\n",
       "<style scoped>\n",
       "    .dataframe tbody tr th:only-of-type {\n",
       "        vertical-align: middle;\n",
       "    }\n",
       "\n",
       "    .dataframe tbody tr th {\n",
       "        vertical-align: top;\n",
       "    }\n",
       "\n",
       "    .dataframe thead th {\n",
       "        text-align: right;\n",
       "    }\n",
       "</style>\n",
       "<table border=\"1\" class=\"dataframe\">\n",
       "  <thead>\n",
       "    <tr style=\"text-align: right;\">\n",
       "      <th></th>\n",
       "      <th>Open</th>\n",
       "      <th>High</th>\n",
       "      <th>Low</th>\n",
       "      <th>Close</th>\n",
       "      <th>Adj Close</th>\n",
       "      <th>Volume</th>\n",
       "      <th>Close_lag1</th>\n",
       "      <th>%_change</th>\n",
       "    </tr>\n",
       "    <tr>\n",
       "      <th>Date</th>\n",
       "      <th></th>\n",
       "      <th></th>\n",
       "      <th></th>\n",
       "      <th></th>\n",
       "      <th></th>\n",
       "      <th></th>\n",
       "      <th></th>\n",
       "      <th></th>\n",
       "    </tr>\n",
       "  </thead>\n",
       "  <tbody>\n",
       "    <tr>\n",
       "      <th>2019-09-16</th>\n",
       "      <td>8121.640137</td>\n",
       "      <td>8165.330078</td>\n",
       "      <td>8121.250000</td>\n",
       "      <td>8153.540039</td>\n",
       "      <td>8153.540039</td>\n",
       "      <td>1869220000</td>\n",
       "      <td>NaN</td>\n",
       "      <td>NaN</td>\n",
       "    </tr>\n",
       "    <tr>\n",
       "      <th>2019-09-17</th>\n",
       "      <td>8148.649902</td>\n",
       "      <td>8188.229980</td>\n",
       "      <td>8139.819824</td>\n",
       "      <td>8186.020020</td>\n",
       "      <td>8186.020020</td>\n",
       "      <td>1850340000</td>\n",
       "      <td>8153.540039</td>\n",
       "      <td>0.003984</td>\n",
       "    </tr>\n",
       "    <tr>\n",
       "      <th>2019-09-18</th>\n",
       "      <td>8174.620117</td>\n",
       "      <td>8179.870117</td>\n",
       "      <td>8086.220215</td>\n",
       "      <td>8177.390137</td>\n",
       "      <td>8177.390137</td>\n",
       "      <td>2034880000</td>\n",
       "      <td>8186.020020</td>\n",
       "      <td>-0.001054</td>\n",
       "    </tr>\n",
       "    <tr>\n",
       "      <th>2019-09-19</th>\n",
       "      <td>8193.589844</td>\n",
       "      <td>8237.429688</td>\n",
       "      <td>8174.319824</td>\n",
       "      <td>8182.879883</td>\n",
       "      <td>8182.879883</td>\n",
       "      <td>1792700000</td>\n",
       "      <td>8177.390137</td>\n",
       "      <td>0.000671</td>\n",
       "    </tr>\n",
       "    <tr>\n",
       "      <th>2019-09-20</th>\n",
       "      <td>8184.879883</td>\n",
       "      <td>8202.820313</td>\n",
       "      <td>8086.160156</td>\n",
       "      <td>8117.669922</td>\n",
       "      <td>8117.669922</td>\n",
       "      <td>3359380000</td>\n",
       "      <td>8182.879883</td>\n",
       "      <td>-0.007969</td>\n",
       "    </tr>\n",
       "    <tr>\n",
       "      <th>2019-09-23</th>\n",
       "      <td>8106.490234</td>\n",
       "      <td>8135.810059</td>\n",
       "      <td>8085.339844</td>\n",
       "      <td>8112.459961</td>\n",
       "      <td>8112.459961</td>\n",
       "      <td>1780160000</td>\n",
       "      <td>8117.669922</td>\n",
       "      <td>-0.000642</td>\n",
       "    </tr>\n",
       "    <tr>\n",
       "      <th>2019-09-24</th>\n",
       "      <td>8147.229980</td>\n",
       "      <td>8158.830078</td>\n",
       "      <td>7969.649902</td>\n",
       "      <td>7993.629883</td>\n",
       "      <td>7993.629883</td>\n",
       "      <td>2302600000</td>\n",
       "      <td>8112.459961</td>\n",
       "      <td>-0.014648</td>\n",
       "    </tr>\n",
       "    <tr>\n",
       "      <th>2019-09-25</th>\n",
       "      <td>7990.660156</td>\n",
       "      <td>8095.000000</td>\n",
       "      <td>7935.569824</td>\n",
       "      <td>8077.379883</td>\n",
       "      <td>8077.379883</td>\n",
       "      <td>2015270000</td>\n",
       "      <td>7993.629883</td>\n",
       "      <td>0.010477</td>\n",
       "    </tr>\n",
       "    <tr>\n",
       "      <th>2019-09-26</th>\n",
       "      <td>8070.120117</td>\n",
       "      <td>8072.109863</td>\n",
       "      <td>7991.020020</td>\n",
       "      <td>8030.660156</td>\n",
       "      <td>8030.660156</td>\n",
       "      <td>1832800000</td>\n",
       "      <td>8077.379883</td>\n",
       "      <td>-0.005784</td>\n",
       "    </tr>\n",
       "    <tr>\n",
       "      <th>2019-09-27</th>\n",
       "      <td>8047.109863</td>\n",
       "      <td>8051.830078</td>\n",
       "      <td>7890.279785</td>\n",
       "      <td>7939.629883</td>\n",
       "      <td>7939.629883</td>\n",
       "      <td>2037720000</td>\n",
       "      <td>8030.660156</td>\n",
       "      <td>-0.011335</td>\n",
       "    </tr>\n",
       "  </tbody>\n",
       "</table>\n",
       "</div>"
      ],
      "text/plain": [
       "                   Open         High          Low        Close    Adj Close  \\\n",
       "Date                                                                          \n",
       "2019-09-16  8121.640137  8165.330078  8121.250000  8153.540039  8153.540039   \n",
       "2019-09-17  8148.649902  8188.229980  8139.819824  8186.020020  8186.020020   \n",
       "2019-09-18  8174.620117  8179.870117  8086.220215  8177.390137  8177.390137   \n",
       "2019-09-19  8193.589844  8237.429688  8174.319824  8182.879883  8182.879883   \n",
       "2019-09-20  8184.879883  8202.820313  8086.160156  8117.669922  8117.669922   \n",
       "2019-09-23  8106.490234  8135.810059  8085.339844  8112.459961  8112.459961   \n",
       "2019-09-24  8147.229980  8158.830078  7969.649902  7993.629883  7993.629883   \n",
       "2019-09-25  7990.660156  8095.000000  7935.569824  8077.379883  8077.379883   \n",
       "2019-09-26  8070.120117  8072.109863  7991.020020  8030.660156  8030.660156   \n",
       "2019-09-27  8047.109863  8051.830078  7890.279785  7939.629883  7939.629883   \n",
       "\n",
       "                Volume   Close_lag1  %_change  \n",
       "Date                                           \n",
       "2019-09-16  1869220000          NaN       NaN  \n",
       "2019-09-17  1850340000  8153.540039  0.003984  \n",
       "2019-09-18  2034880000  8186.020020 -0.001054  \n",
       "2019-09-19  1792700000  8177.390137  0.000671  \n",
       "2019-09-20  3359380000  8182.879883 -0.007969  \n",
       "2019-09-23  1780160000  8117.669922 -0.000642  \n",
       "2019-09-24  2302600000  8112.459961 -0.014648  \n",
       "2019-09-25  2015270000  7993.629883  0.010477  \n",
       "2019-09-26  1832800000  8077.379883 -0.005784  \n",
       "2019-09-27  2037720000  8030.660156 -0.011335  "
      ]
     },
     "execution_count": 248,
     "metadata": {},
     "output_type": "execute_result"
    }
   ],
   "source": [
    "ixic_df['%_change'] = ixic_df['Close'].pct_change()\n",
    "ixic_df.head(10)"
   ]
  },
  {
   "cell_type": "code",
   "execution_count": 249,
   "metadata": {},
   "outputs": [
    {
     "data": {
      "text/html": [
       "<div>\n",
       "<style scoped>\n",
       "    .dataframe tbody tr th:only-of-type {\n",
       "        vertical-align: middle;\n",
       "    }\n",
       "\n",
       "    .dataframe tbody tr th {\n",
       "        vertical-align: top;\n",
       "    }\n",
       "\n",
       "    .dataframe thead th {\n",
       "        text-align: right;\n",
       "    }\n",
       "</style>\n",
       "<table border=\"1\" class=\"dataframe\">\n",
       "  <thead>\n",
       "    <tr style=\"text-align: right;\">\n",
       "      <th></th>\n",
       "      <th>Open</th>\n",
       "      <th>High</th>\n",
       "      <th>Low</th>\n",
       "      <th>Close</th>\n",
       "      <th>Adj Close</th>\n",
       "      <th>Volume</th>\n",
       "      <th>Close_lag1</th>\n",
       "      <th>%_change</th>\n",
       "      <th>Close_diff</th>\n",
       "    </tr>\n",
       "    <tr>\n",
       "      <th>Date</th>\n",
       "      <th></th>\n",
       "      <th></th>\n",
       "      <th></th>\n",
       "      <th></th>\n",
       "      <th></th>\n",
       "      <th></th>\n",
       "      <th></th>\n",
       "      <th></th>\n",
       "      <th></th>\n",
       "    </tr>\n",
       "  </thead>\n",
       "  <tbody>\n",
       "    <tr>\n",
       "      <th>2019-09-16</th>\n",
       "      <td>8121.640137</td>\n",
       "      <td>8165.330078</td>\n",
       "      <td>8121.250000</td>\n",
       "      <td>8153.540039</td>\n",
       "      <td>8153.540039</td>\n",
       "      <td>1869220000</td>\n",
       "      <td>NaN</td>\n",
       "      <td>NaN</td>\n",
       "      <td>NaN</td>\n",
       "    </tr>\n",
       "    <tr>\n",
       "      <th>2019-09-17</th>\n",
       "      <td>8148.649902</td>\n",
       "      <td>8188.229980</td>\n",
       "      <td>8139.819824</td>\n",
       "      <td>8186.020020</td>\n",
       "      <td>8186.020020</td>\n",
       "      <td>1850340000</td>\n",
       "      <td>8153.540039</td>\n",
       "      <td>0.003984</td>\n",
       "      <td>32.479981</td>\n",
       "    </tr>\n",
       "    <tr>\n",
       "      <th>2019-09-18</th>\n",
       "      <td>8174.620117</td>\n",
       "      <td>8179.870117</td>\n",
       "      <td>8086.220215</td>\n",
       "      <td>8177.390137</td>\n",
       "      <td>8177.390137</td>\n",
       "      <td>2034880000</td>\n",
       "      <td>8186.020020</td>\n",
       "      <td>-0.001054</td>\n",
       "      <td>-8.629883</td>\n",
       "    </tr>\n",
       "    <tr>\n",
       "      <th>2019-09-19</th>\n",
       "      <td>8193.589844</td>\n",
       "      <td>8237.429688</td>\n",
       "      <td>8174.319824</td>\n",
       "      <td>8182.879883</td>\n",
       "      <td>8182.879883</td>\n",
       "      <td>1792700000</td>\n",
       "      <td>8177.390137</td>\n",
       "      <td>0.000671</td>\n",
       "      <td>5.489746</td>\n",
       "    </tr>\n",
       "    <tr>\n",
       "      <th>2019-09-20</th>\n",
       "      <td>8184.879883</td>\n",
       "      <td>8202.820313</td>\n",
       "      <td>8086.160156</td>\n",
       "      <td>8117.669922</td>\n",
       "      <td>8117.669922</td>\n",
       "      <td>3359380000</td>\n",
       "      <td>8182.879883</td>\n",
       "      <td>-0.007969</td>\n",
       "      <td>-65.209961</td>\n",
       "    </tr>\n",
       "  </tbody>\n",
       "</table>\n",
       "</div>"
      ],
      "text/plain": [
       "                   Open         High          Low        Close    Adj Close  \\\n",
       "Date                                                                          \n",
       "2019-09-16  8121.640137  8165.330078  8121.250000  8153.540039  8153.540039   \n",
       "2019-09-17  8148.649902  8188.229980  8139.819824  8186.020020  8186.020020   \n",
       "2019-09-18  8174.620117  8179.870117  8086.220215  8177.390137  8177.390137   \n",
       "2019-09-19  8193.589844  8237.429688  8174.319824  8182.879883  8182.879883   \n",
       "2019-09-20  8184.879883  8202.820313  8086.160156  8117.669922  8117.669922   \n",
       "\n",
       "                Volume   Close_lag1  %_change  Close_diff  \n",
       "Date                                                       \n",
       "2019-09-16  1869220000          NaN       NaN         NaN  \n",
       "2019-09-17  1850340000  8153.540039  0.003984   32.479981  \n",
       "2019-09-18  2034880000  8186.020020 -0.001054   -8.629883  \n",
       "2019-09-19  1792700000  8177.390137  0.000671    5.489746  \n",
       "2019-09-20  3359380000  8182.879883 -0.007969  -65.209961  "
      ]
     },
     "execution_count": 249,
     "metadata": {},
     "output_type": "execute_result"
    }
   ],
   "source": [
    "ixic_df['Close_diff'] = ixic_df['Close'].diff()\n",
    "ixic_df.head()"
   ]
  },
  {
   "cell_type": "code",
   "execution_count": 250,
   "metadata": {},
   "outputs": [
    {
     "data": {
      "text/html": [
       "<div>\n",
       "<style scoped>\n",
       "    .dataframe tbody tr th:only-of-type {\n",
       "        vertical-align: middle;\n",
       "    }\n",
       "\n",
       "    .dataframe tbody tr th {\n",
       "        vertical-align: top;\n",
       "    }\n",
       "\n",
       "    .dataframe thead th {\n",
       "        text-align: right;\n",
       "    }\n",
       "</style>\n",
       "<table border=\"1\" class=\"dataframe\">\n",
       "  <thead>\n",
       "    <tr style=\"text-align: right;\">\n",
       "      <th></th>\n",
       "      <th>Open</th>\n",
       "      <th>High</th>\n",
       "      <th>Low</th>\n",
       "      <th>Close</th>\n",
       "      <th>Adj Close</th>\n",
       "      <th>Volume</th>\n",
       "      <th>MA</th>\n",
       "    </tr>\n",
       "    <tr>\n",
       "      <th>Date</th>\n",
       "      <th></th>\n",
       "      <th></th>\n",
       "      <th></th>\n",
       "      <th></th>\n",
       "      <th></th>\n",
       "      <th></th>\n",
       "      <th></th>\n",
       "    </tr>\n",
       "  </thead>\n",
       "  <tbody>\n",
       "    <tr>\n",
       "      <th>2019-09-16</th>\n",
       "      <td>8121.640137</td>\n",
       "      <td>8165.330078</td>\n",
       "      <td>8121.250000</td>\n",
       "      <td>8153.540039</td>\n",
       "      <td>8153.540039</td>\n",
       "      <td>1869220000</td>\n",
       "      <td>NaN</td>\n",
       "    </tr>\n",
       "    <tr>\n",
       "      <th>2019-09-17</th>\n",
       "      <td>8148.649902</td>\n",
       "      <td>8188.229980</td>\n",
       "      <td>8139.819824</td>\n",
       "      <td>8186.020020</td>\n",
       "      <td>8186.020020</td>\n",
       "      <td>1850340000</td>\n",
       "      <td>NaN</td>\n",
       "    </tr>\n",
       "    <tr>\n",
       "      <th>2019-09-18</th>\n",
       "      <td>8174.620117</td>\n",
       "      <td>8179.870117</td>\n",
       "      <td>8086.220215</td>\n",
       "      <td>8177.390137</td>\n",
       "      <td>8177.390137</td>\n",
       "      <td>2034880000</td>\n",
       "      <td>NaN</td>\n",
       "    </tr>\n",
       "    <tr>\n",
       "      <th>2019-09-19</th>\n",
       "      <td>8193.589844</td>\n",
       "      <td>8237.429688</td>\n",
       "      <td>8174.319824</td>\n",
       "      <td>8182.879883</td>\n",
       "      <td>8182.879883</td>\n",
       "      <td>1792700000</td>\n",
       "      <td>NaN</td>\n",
       "    </tr>\n",
       "    <tr>\n",
       "      <th>2019-09-20</th>\n",
       "      <td>8184.879883</td>\n",
       "      <td>8202.820313</td>\n",
       "      <td>8086.160156</td>\n",
       "      <td>8117.669922</td>\n",
       "      <td>8117.669922</td>\n",
       "      <td>3359380000</td>\n",
       "      <td>8163.500000</td>\n",
       "    </tr>\n",
       "    <tr>\n",
       "      <th>2019-09-23</th>\n",
       "      <td>8106.490234</td>\n",
       "      <td>8135.810059</td>\n",
       "      <td>8085.339844</td>\n",
       "      <td>8112.459961</td>\n",
       "      <td>8112.459961</td>\n",
       "      <td>1780160000</td>\n",
       "      <td>8155.283985</td>\n",
       "    </tr>\n",
       "    <tr>\n",
       "      <th>2019-09-24</th>\n",
       "      <td>8147.229980</td>\n",
       "      <td>8158.830078</td>\n",
       "      <td>7969.649902</td>\n",
       "      <td>7993.629883</td>\n",
       "      <td>7993.629883</td>\n",
       "      <td>2302600000</td>\n",
       "      <td>8116.805957</td>\n",
       "    </tr>\n",
       "    <tr>\n",
       "      <th>2019-09-25</th>\n",
       "      <td>7990.660156</td>\n",
       "      <td>8095.000000</td>\n",
       "      <td>7935.569824</td>\n",
       "      <td>8077.379883</td>\n",
       "      <td>8077.379883</td>\n",
       "      <td>2015270000</td>\n",
       "      <td>8096.803906</td>\n",
       "    </tr>\n",
       "    <tr>\n",
       "      <th>2019-09-26</th>\n",
       "      <td>8070.120117</td>\n",
       "      <td>8072.109863</td>\n",
       "      <td>7991.020020</td>\n",
       "      <td>8030.660156</td>\n",
       "      <td>8030.660156</td>\n",
       "      <td>1832800000</td>\n",
       "      <td>8066.359961</td>\n",
       "    </tr>\n",
       "    <tr>\n",
       "      <th>2019-09-27</th>\n",
       "      <td>8047.109863</td>\n",
       "      <td>8051.830078</td>\n",
       "      <td>7890.279785</td>\n",
       "      <td>7939.629883</td>\n",
       "      <td>7939.629883</td>\n",
       "      <td>2037720000</td>\n",
       "      <td>8030.751953</td>\n",
       "    </tr>\n",
       "  </tbody>\n",
       "</table>\n",
       "</div>"
      ],
      "text/plain": [
       "                   Open         High          Low        Close    Adj Close  \\\n",
       "Date                                                                          \n",
       "2019-09-16  8121.640137  8165.330078  8121.250000  8153.540039  8153.540039   \n",
       "2019-09-17  8148.649902  8188.229980  8139.819824  8186.020020  8186.020020   \n",
       "2019-09-18  8174.620117  8179.870117  8086.220215  8177.390137  8177.390137   \n",
       "2019-09-19  8193.589844  8237.429688  8174.319824  8182.879883  8182.879883   \n",
       "2019-09-20  8184.879883  8202.820313  8086.160156  8117.669922  8117.669922   \n",
       "2019-09-23  8106.490234  8135.810059  8085.339844  8112.459961  8112.459961   \n",
       "2019-09-24  8147.229980  8158.830078  7969.649902  7993.629883  7993.629883   \n",
       "2019-09-25  7990.660156  8095.000000  7935.569824  8077.379883  8077.379883   \n",
       "2019-09-26  8070.120117  8072.109863  7991.020020  8030.660156  8030.660156   \n",
       "2019-09-27  8047.109863  8051.830078  7890.279785  7939.629883  7939.629883   \n",
       "\n",
       "                Volume           MA  \n",
       "Date                                 \n",
       "2019-09-16  1869220000          NaN  \n",
       "2019-09-17  1850340000          NaN  \n",
       "2019-09-18  2034880000          NaN  \n",
       "2019-09-19  1792700000          NaN  \n",
       "2019-09-20  3359380000  8163.500000  \n",
       "2019-09-23  1780160000  8155.283985  \n",
       "2019-09-24  2302600000  8116.805957  \n",
       "2019-09-25  2015270000  8096.803906  \n",
       "2019-09-26  1832800000  8066.359961  \n",
       "2019-09-27  2037720000  8030.751953  "
      ]
     },
     "execution_count": 250,
     "metadata": {},
     "output_type": "execute_result"
    }
   ],
   "source": [
    "# rolling : window 구간 속의 퍙균,최소,최대 값을 구할 수 있음\n",
    "df['MA'] = df['Close'].rolling(window = 5).mean()\n",
    "df.head(10)"
   ]
  },
  {
   "cell_type": "code",
   "execution_count": 251,
   "metadata": {},
   "outputs": [
    {
     "data": {
      "text/plain": [
       "pandas.core.window.rolling.Rolling"
      ]
     },
     "execution_count": 251,
     "metadata": {},
     "output_type": "execute_result"
    }
   ],
   "source": [
    "type(df['Close'].rolling(window=5))"
   ]
  },
  {
   "cell_type": "code",
   "execution_count": 334,
   "metadata": {},
   "outputs": [
    {
     "data": {
      "text/plain": [
       "2019-01-01      0\n",
       "2019-01-02      1\n",
       "2019-01-03      2\n",
       "2019-01-04      3\n",
       "2019-01-07      4\n",
       "             ... \n",
       "2019-09-25    191\n",
       "2019-09-26    192\n",
       "2019-09-27    193\n",
       "2019-09-30    194\n",
       "2019-10-01    195\n",
       "Freq: B, Length: 196, dtype: int64"
      ]
     },
     "execution_count": 334,
     "metadata": {},
     "output_type": "execute_result"
    }
   ],
   "source": [
    "index = pd.date_range(start='2019-01-01',end='2019-10-01',freq='B') # B는 영업일\n",
    "series = pd.Series(range(len(index)),index=index)\n",
    "series"
   ]
  },
  {
   "cell_type": "code",
   "execution_count": 335,
   "metadata": {},
   "outputs": [
    {
     "data": {
      "text/plain": [
       "2019-01-31     253\n",
       "2019-02-28     650\n",
       "2019-03-31    1113\n",
       "2019-04-30    1639\n",
       "2019-05-31    2231\n",
       "2019-06-30    2370\n",
       "2019-07-31    3220\n",
       "2019-08-31    3575\n",
       "2019-09-30    3864\n",
       "2019-10-31     195\n",
       "Freq: M, dtype: int64"
      ]
     },
     "execution_count": 335,
     "metadata": {},
     "output_type": "execute_result"
    }
   ],
   "source": [
    "series.resample(rule='M').sum()"
   ]
  },
  {
   "cell_type": "code",
   "execution_count": 340,
   "metadata": {},
   "outputs": [
    {
     "data": {
      "text/plain": [
       "2019-01-31     22\n",
       "2019-02-28     42\n",
       "2019-03-31     63\n",
       "2019-04-30     85\n",
       "2019-05-31    108\n",
       "2019-06-30    128\n",
       "2019-07-31    151\n",
       "2019-08-31    173\n",
       "2019-09-30    194\n",
       "2019-10-31    195\n",
       "Freq: M, dtype: int64"
      ]
     },
     "execution_count": 340,
     "metadata": {},
     "output_type": "execute_result"
    }
   ],
   "source": [
    "series.resample(rule='M').last()"
   ]
  },
  {
   "cell_type": "code",
   "execution_count": 338,
   "metadata": {},
   "outputs": [
    {
     "data": {
      "text/plain": [
       "2019-01-01      0\n",
       "2019-02-01     23\n",
       "2019-03-01     43\n",
       "2019-04-01     64\n",
       "2019-05-01     86\n",
       "2019-06-01    109\n",
       "2019-07-01    129\n",
       "2019-08-01    152\n",
       "2019-09-01    174\n",
       "2019-10-01    195\n",
       "Freq: MS, dtype: int64"
      ]
     },
     "execution_count": 338,
     "metadata": {},
     "output_type": "execute_result"
    }
   ],
   "source": [
    "series.resample(rule='MS').first()"
   ]
  },
  {
   "cell_type": "markdown",
   "metadata": {},
   "source": [
    "# Finance Data Reader"
   ]
  },
  {
   "cell_type": "code",
   "execution_count": 341,
   "metadata": {},
   "outputs": [
    {
     "name": "stdout",
     "output_type": "stream",
     "text": [
      "Collecting finance_datareader\n",
      "  Downloading finance_datareader-0.9.6-py3-none-any.whl (17 kB)\n",
      "Requirement already satisfied, skipping upgrade: pandas>=0.19.2 in c:\\programdata\\anaconda3\\lib\\site-packages (from finance_datareader) (1.0.1)\n",
      "Requirement already satisfied, skipping upgrade: requests>=2.3.0 in c:\\programdata\\anaconda3\\lib\\site-packages (from finance_datareader) (2.22.0)\n",
      "Collecting requests-file\n",
      "  Downloading requests_file-1.5.1-py2.py3-none-any.whl (3.7 kB)\n",
      "Requirement already satisfied, skipping upgrade: lxml in c:\\programdata\\anaconda3\\lib\\site-packages (from finance_datareader) (4.5.0)\n",
      "Requirement already satisfied, skipping upgrade: python-dateutil>=2.6.1 in c:\\programdata\\anaconda3\\lib\\site-packages (from pandas>=0.19.2->finance_datareader) (2.8.1)\n",
      "Requirement already satisfied, skipping upgrade: pytz>=2017.2 in c:\\programdata\\anaconda3\\lib\\site-packages (from pandas>=0.19.2->finance_datareader) (2019.3)\n",
      "Requirement already satisfied, skipping upgrade: numpy>=1.13.3 in c:\\programdata\\anaconda3\\lib\\site-packages (from pandas>=0.19.2->finance_datareader) (1.18.1)\n",
      "Requirement already satisfied, skipping upgrade: certifi>=2017.4.17 in c:\\programdata\\anaconda3\\lib\\site-packages (from requests>=2.3.0->finance_datareader) (2019.11.28)\n",
      "Requirement already satisfied, skipping upgrade: urllib3!=1.25.0,!=1.25.1,<1.26,>=1.21.1 in c:\\programdata\\anaconda3\\lib\\site-packages (from requests>=2.3.0->finance_datareader) (1.25.8)\n",
      "Requirement already satisfied, skipping upgrade: chardet<3.1.0,>=3.0.2 in c:\\programdata\\anaconda3\\lib\\site-packages (from requests>=2.3.0->finance_datareader) (3.0.4)\n",
      "Requirement already satisfied, skipping upgrade: idna<2.9,>=2.5 in c:\\programdata\\anaconda3\\lib\\site-packages (from requests>=2.3.0->finance_datareader) (2.8)\n",
      "Requirement already satisfied, skipping upgrade: six in c:\\programdata\\anaconda3\\lib\\site-packages (from requests-file->finance_datareader) (1.14.0)\n",
      "Installing collected packages: requests-file, finance-datareader\n",
      "Successfully installed finance-datareader-0.9.6 requests-file-1.5.1\n",
      "Note: you may need to restart the kernel to use updated packages.\n"
     ]
    }
   ],
   "source": [
    "pip install -U finance_datareader"
   ]
  },
  {
   "cell_type": "code",
   "execution_count": 342,
   "metadata": {},
   "outputs": [
    {
     "name": "stdout",
     "output_type": "stream",
     "text": [
      "2572\n"
     ]
    },
    {
     "data": {
      "text/html": [
       "<div>\n",
       "<style scoped>\n",
       "    .dataframe tbody tr th:only-of-type {\n",
       "        vertical-align: middle;\n",
       "    }\n",
       "\n",
       "    .dataframe tbody tr th {\n",
       "        vertical-align: top;\n",
       "    }\n",
       "\n",
       "    .dataframe thead th {\n",
       "        text-align: right;\n",
       "    }\n",
       "</style>\n",
       "<table border=\"1\" class=\"dataframe\">\n",
       "  <thead>\n",
       "    <tr style=\"text-align: right;\">\n",
       "      <th></th>\n",
       "      <th>Symbol</th>\n",
       "      <th>Market</th>\n",
       "      <th>Name</th>\n",
       "      <th>Sector</th>\n",
       "      <th>Industry</th>\n",
       "      <th>ListingDate</th>\n",
       "      <th>SettleMonth</th>\n",
       "      <th>Representative</th>\n",
       "      <th>HomePage</th>\n",
       "      <th>Region</th>\n",
       "    </tr>\n",
       "  </thead>\n",
       "  <tbody>\n",
       "    <tr>\n",
       "      <th>0</th>\n",
       "      <td>060310</td>\n",
       "      <td>KOSDAQ</td>\n",
       "      <td>3S</td>\n",
       "      <td>특수 목적용 기계 제조업</td>\n",
       "      <td>반도체 웨이퍼 캐리어</td>\n",
       "      <td>2002-04-23</td>\n",
       "      <td>03월</td>\n",
       "      <td>박종익, 김세완 (각자 대표이사)</td>\n",
       "      <td>http://www.3sref.com</td>\n",
       "      <td>서울특별시</td>\n",
       "    </tr>\n",
       "    <tr>\n",
       "      <th>1</th>\n",
       "      <td>095570</td>\n",
       "      <td>KOSPI</td>\n",
       "      <td>AJ네트웍스</td>\n",
       "      <td>산업용 기계 및 장비 임대업</td>\n",
       "      <td>렌탈(파렛트, OA장비, 건설장비)</td>\n",
       "      <td>2015-08-21</td>\n",
       "      <td>12월</td>\n",
       "      <td>윤규선, 이현우(각자대표)</td>\n",
       "      <td>http://www.ajnet.co.kr</td>\n",
       "      <td>서울특별시</td>\n",
       "    </tr>\n",
       "    <tr>\n",
       "      <th>2</th>\n",
       "      <td>006840</td>\n",
       "      <td>KOSPI</td>\n",
       "      <td>AK홀딩스</td>\n",
       "      <td>기타 금융업</td>\n",
       "      <td>지주사업</td>\n",
       "      <td>1999-08-11</td>\n",
       "      <td>12월</td>\n",
       "      <td>채형석, 이석주(각자 대표이사)</td>\n",
       "      <td>http://www.aekyunggroup.co.kr</td>\n",
       "      <td>서울특별시</td>\n",
       "    </tr>\n",
       "    <tr>\n",
       "      <th>3</th>\n",
       "      <td>054620</td>\n",
       "      <td>KOSDAQ</td>\n",
       "      <td>APS홀딩스</td>\n",
       "      <td>기타 금융업</td>\n",
       "      <td>인터넷 트래픽 솔루션</td>\n",
       "      <td>2001-12-04</td>\n",
       "      <td>12월</td>\n",
       "      <td>정기로</td>\n",
       "      <td>http://www.apsholdings.co.kr</td>\n",
       "      <td>경기도</td>\n",
       "    </tr>\n",
       "    <tr>\n",
       "      <th>4</th>\n",
       "      <td>265520</td>\n",
       "      <td>KOSDAQ</td>\n",
       "      <td>AP시스템</td>\n",
       "      <td>특수 목적용 기계 제조업</td>\n",
       "      <td>디스플레이 제조 장비</td>\n",
       "      <td>2017-04-07</td>\n",
       "      <td>12월</td>\n",
       "      <td>김영주</td>\n",
       "      <td>http://www.apsystems.co.kr</td>\n",
       "      <td>경기도</td>\n",
       "    </tr>\n",
       "  </tbody>\n",
       "</table>\n",
       "</div>"
      ],
      "text/plain": [
       "   Symbol  Market    Name           Sector             Industry ListingDate  \\\n",
       "0  060310  KOSDAQ      3S    특수 목적용 기계 제조업          반도체 웨이퍼 캐리어  2002-04-23   \n",
       "1  095570   KOSPI  AJ네트웍스  산업용 기계 및 장비 임대업  렌탈(파렛트, OA장비, 건설장비)  2015-08-21   \n",
       "2  006840   KOSPI   AK홀딩스           기타 금융업                 지주사업  1999-08-11   \n",
       "3  054620  KOSDAQ  APS홀딩스           기타 금융업          인터넷 트래픽 솔루션  2001-12-04   \n",
       "4  265520  KOSDAQ   AP시스템    특수 목적용 기계 제조업          디스플레이 제조 장비  2017-04-07   \n",
       "\n",
       "  SettleMonth      Representative                       HomePage Region  \n",
       "0         03월  박종익, 김세완 (각자 대표이사)           http://www.3sref.com  서울특별시  \n",
       "1         12월      윤규선, 이현우(각자대표)         http://www.ajnet.co.kr  서울특별시  \n",
       "2         12월   채형석, 이석주(각자 대표이사)  http://www.aekyunggroup.co.kr  서울특별시  \n",
       "3         12월                 정기로   http://www.apsholdings.co.kr    경기도  \n",
       "4         12월                 김영주     http://www.apsystems.co.kr    경기도  "
      ]
     },
     "execution_count": 342,
     "metadata": {},
     "output_type": "execute_result"
    }
   ],
   "source": [
    "import FinanceDataReader as fdr\n",
    "df_krx = fdr.StockListing('KRX')\n",
    "print(len(df_krx))\n",
    "df_krx.head()"
   ]
  },
  {
   "cell_type": "code",
   "execution_count": 343,
   "metadata": {},
   "outputs": [
    {
     "name": "stdout",
     "output_type": "stream",
     "text": [
      "505\n"
     ]
    },
    {
     "data": {
      "text/html": [
       "<div>\n",
       "<style scoped>\n",
       "    .dataframe tbody tr th:only-of-type {\n",
       "        vertical-align: middle;\n",
       "    }\n",
       "\n",
       "    .dataframe tbody tr th {\n",
       "        vertical-align: top;\n",
       "    }\n",
       "\n",
       "    .dataframe thead th {\n",
       "        text-align: right;\n",
       "    }\n",
       "</style>\n",
       "<table border=\"1\" class=\"dataframe\">\n",
       "  <thead>\n",
       "    <tr style=\"text-align: right;\">\n",
       "      <th></th>\n",
       "      <th>Symbol</th>\n",
       "      <th>Name</th>\n",
       "      <th>Sector</th>\n",
       "      <th>Industry</th>\n",
       "    </tr>\n",
       "  </thead>\n",
       "  <tbody>\n",
       "    <tr>\n",
       "      <th>0</th>\n",
       "      <td>MMM</td>\n",
       "      <td>3M Company</td>\n",
       "      <td>Industrials</td>\n",
       "      <td>Industrial Conglomerates</td>\n",
       "    </tr>\n",
       "    <tr>\n",
       "      <th>1</th>\n",
       "      <td>ABT</td>\n",
       "      <td>Abbott Laboratories</td>\n",
       "      <td>Health Care</td>\n",
       "      <td>Health Care Equipment</td>\n",
       "    </tr>\n",
       "    <tr>\n",
       "      <th>2</th>\n",
       "      <td>ABBV</td>\n",
       "      <td>AbbVie Inc.</td>\n",
       "      <td>Health Care</td>\n",
       "      <td>Pharmaceuticals</td>\n",
       "    </tr>\n",
       "    <tr>\n",
       "      <th>3</th>\n",
       "      <td>ABMD</td>\n",
       "      <td>ABIOMED Inc</td>\n",
       "      <td>Health Care</td>\n",
       "      <td>Health Care Equipment</td>\n",
       "    </tr>\n",
       "    <tr>\n",
       "      <th>4</th>\n",
       "      <td>ACN</td>\n",
       "      <td>Accenture plc</td>\n",
       "      <td>Information Technology</td>\n",
       "      <td>IT Consulting &amp; Other Services</td>\n",
       "    </tr>\n",
       "  </tbody>\n",
       "</table>\n",
       "</div>"
      ],
      "text/plain": [
       "  Symbol                 Name                  Sector  \\\n",
       "0    MMM           3M Company             Industrials   \n",
       "1    ABT  Abbott Laboratories             Health Care   \n",
       "2   ABBV          AbbVie Inc.             Health Care   \n",
       "3   ABMD          ABIOMED Inc             Health Care   \n",
       "4    ACN        Accenture plc  Information Technology   \n",
       "\n",
       "                         Industry  \n",
       "0        Industrial Conglomerates  \n",
       "1           Health Care Equipment  \n",
       "2                 Pharmaceuticals  \n",
       "3           Health Care Equipment  \n",
       "4  IT Consulting & Other Services  "
      ]
     },
     "execution_count": 343,
     "metadata": {},
     "output_type": "execute_result"
    }
   ],
   "source": [
    "df_spx = fdr.StockListing('S&P500')\n",
    "print(len(df_spx))\n",
    "df_spx.head()"
   ]
  },
  {
   "cell_type": "code",
   "execution_count": 345,
   "metadata": {},
   "outputs": [
    {
     "data": {
      "text/html": [
       "<div>\n",
       "<style scoped>\n",
       "    .dataframe tbody tr th:only-of-type {\n",
       "        vertical-align: middle;\n",
       "    }\n",
       "\n",
       "    .dataframe tbody tr th {\n",
       "        vertical-align: top;\n",
       "    }\n",
       "\n",
       "    .dataframe thead th {\n",
       "        text-align: right;\n",
       "    }\n",
       "</style>\n",
       "<table border=\"1\" class=\"dataframe\">\n",
       "  <thead>\n",
       "    <tr style=\"text-align: right;\">\n",
       "      <th></th>\n",
       "      <th>Open</th>\n",
       "      <th>High</th>\n",
       "      <th>Low</th>\n",
       "      <th>Close</th>\n",
       "      <th>Volume</th>\n",
       "      <th>Change</th>\n",
       "    </tr>\n",
       "    <tr>\n",
       "      <th>Date</th>\n",
       "      <th></th>\n",
       "      <th></th>\n",
       "      <th></th>\n",
       "      <th></th>\n",
       "      <th></th>\n",
       "      <th></th>\n",
       "    </tr>\n",
       "  </thead>\n",
       "  <tbody>\n",
       "    <tr>\n",
       "      <th>2018-01-02</th>\n",
       "      <td>2795</td>\n",
       "      <td>2860</td>\n",
       "      <td>2795</td>\n",
       "      <td>2850</td>\n",
       "      <td>118224</td>\n",
       "      <td>0.019678</td>\n",
       "    </tr>\n",
       "    <tr>\n",
       "      <th>2018-01-03</th>\n",
       "      <td>2850</td>\n",
       "      <td>2860</td>\n",
       "      <td>2820</td>\n",
       "      <td>2845</td>\n",
       "      <td>152892</td>\n",
       "      <td>-0.001754</td>\n",
       "    </tr>\n",
       "    <tr>\n",
       "      <th>2018-01-04</th>\n",
       "      <td>2845</td>\n",
       "      <td>2860</td>\n",
       "      <td>2815</td>\n",
       "      <td>2820</td>\n",
       "      <td>195786</td>\n",
       "      <td>-0.008787</td>\n",
       "    </tr>\n",
       "    <tr>\n",
       "      <th>2018-01-05</th>\n",
       "      <td>2820</td>\n",
       "      <td>2920</td>\n",
       "      <td>2820</td>\n",
       "      <td>2900</td>\n",
       "      <td>283369</td>\n",
       "      <td>0.028369</td>\n",
       "    </tr>\n",
       "    <tr>\n",
       "      <th>2018-01-08</th>\n",
       "      <td>2900</td>\n",
       "      <td>2940</td>\n",
       "      <td>2870</td>\n",
       "      <td>2900</td>\n",
       "      <td>179173</td>\n",
       "      <td>0.000000</td>\n",
       "    </tr>\n",
       "  </tbody>\n",
       "</table>\n",
       "</div>"
      ],
      "text/plain": [
       "            Open  High   Low  Close  Volume    Change\n",
       "Date                                                 \n",
       "2018-01-02  2795  2860  2795   2850  118224  0.019678\n",
       "2018-01-03  2850  2860  2820   2845  152892 -0.001754\n",
       "2018-01-04  2845  2860  2815   2820  195786 -0.008787\n",
       "2018-01-05  2820  2920  2820   2900  283369  0.028369\n",
       "2018-01-08  2900  2940  2870   2900  179173  0.000000"
      ]
     },
     "execution_count": 345,
     "metadata": {},
     "output_type": "execute_result"
    }
   ],
   "source": [
    "df = fdr.DataReader('001250','2018')\n",
    "df.head()"
   ]
  },
  {
   "cell_type": "code",
   "execution_count": 346,
   "metadata": {},
   "outputs": [
    {
     "data": {
      "text/plain": [
       "<matplotlib.axes._subplots.AxesSubplot at 0x212ce098cc8>"
      ]
     },
     "execution_count": 346,
     "metadata": {},
     "output_type": "execute_result"
    },
    {
     "data": {
      "image/png": "[encoded data removed]",
      "text/plain": [
       "<Figure size 432x288 with 1 Axes>"
      ]
     },
     "metadata": {
      "needs_background": "light"
     },
     "output_type": "display_data"
    }
   ],
   "source": [
    "df['Close'].plot()"
   ]
  },
  {
   "cell_type": "code",
   "execution_count": 351,
   "metadata": {},
   "outputs": [
    {
     "data": {
      "text/html": [
       "<div>\n",
       "<style scoped>\n",
       "    .dataframe tbody tr th:only-of-type {\n",
       "        vertical-align: middle;\n",
       "    }\n",
       "\n",
       "    .dataframe tbody tr th {\n",
       "        vertical-align: top;\n",
       "    }\n",
       "\n",
       "    .dataframe thead th {\n",
       "        text-align: right;\n",
       "    }\n",
       "</style>\n",
       "<table border=\"1\" class=\"dataframe\">\n",
       "  <thead>\n",
       "    <tr style=\"text-align: right;\">\n",
       "      <th></th>\n",
       "      <th>Close</th>\n",
       "      <th>Open</th>\n",
       "      <th>High</th>\n",
       "      <th>Low</th>\n",
       "      <th>Volume</th>\n",
       "      <th>Change</th>\n",
       "    </tr>\n",
       "    <tr>\n",
       "      <th>Date</th>\n",
       "      <th></th>\n",
       "      <th></th>\n",
       "      <th></th>\n",
       "      <th></th>\n",
       "      <th></th>\n",
       "      <th></th>\n",
       "    </tr>\n",
       "  </thead>\n",
       "  <tbody>\n",
       "    <tr>\n",
       "      <th>2020-01-02</th>\n",
       "      <td>75.09</td>\n",
       "      <td>74.06</td>\n",
       "      <td>75.15</td>\n",
       "      <td>73.80</td>\n",
       "      <td>135650000.0</td>\n",
       "      <td>0.0228</td>\n",
       "    </tr>\n",
       "    <tr>\n",
       "      <th>2020-01-03</th>\n",
       "      <td>74.36</td>\n",
       "      <td>74.29</td>\n",
       "      <td>75.14</td>\n",
       "      <td>74.13</td>\n",
       "      <td>146540000.0</td>\n",
       "      <td>-0.0097</td>\n",
       "    </tr>\n",
       "    <tr>\n",
       "      <th>2020-01-06</th>\n",
       "      <td>74.95</td>\n",
       "      <td>73.45</td>\n",
       "      <td>74.99</td>\n",
       "      <td>73.19</td>\n",
       "      <td>118580000.0</td>\n",
       "      <td>0.0080</td>\n",
       "    </tr>\n",
       "    <tr>\n",
       "      <th>2020-01-07</th>\n",
       "      <td>74.60</td>\n",
       "      <td>74.96</td>\n",
       "      <td>75.22</td>\n",
       "      <td>74.37</td>\n",
       "      <td>111510000.0</td>\n",
       "      <td>-0.0047</td>\n",
       "    </tr>\n",
       "    <tr>\n",
       "      <th>2020-01-08</th>\n",
       "      <td>75.80</td>\n",
       "      <td>74.29</td>\n",
       "      <td>76.11</td>\n",
       "      <td>74.29</td>\n",
       "      <td>132360000.0</td>\n",
       "      <td>0.0161</td>\n",
       "    </tr>\n",
       "    <tr>\n",
       "      <th>2020-01-09</th>\n",
       "      <td>77.41</td>\n",
       "      <td>76.81</td>\n",
       "      <td>77.61</td>\n",
       "      <td>76.55</td>\n",
       "      <td>170490000.0</td>\n",
       "      <td>0.0212</td>\n",
       "    </tr>\n",
       "    <tr>\n",
       "      <th>2020-01-10</th>\n",
       "      <td>77.58</td>\n",
       "      <td>77.65</td>\n",
       "      <td>78.17</td>\n",
       "      <td>77.06</td>\n",
       "      <td>140870000.0</td>\n",
       "      <td>0.0023</td>\n",
       "    </tr>\n",
       "    <tr>\n",
       "      <th>2020-01-13</th>\n",
       "      <td>79.24</td>\n",
       "      <td>77.91</td>\n",
       "      <td>79.27</td>\n",
       "      <td>77.79</td>\n",
       "      <td>122090000.0</td>\n",
       "      <td>0.0214</td>\n",
       "    </tr>\n",
       "    <tr>\n",
       "      <th>2020-01-14</th>\n",
       "      <td>78.17</td>\n",
       "      <td>79.18</td>\n",
       "      <td>79.39</td>\n",
       "      <td>78.04</td>\n",
       "      <td>162610000.0</td>\n",
       "      <td>-0.0135</td>\n",
       "    </tr>\n",
       "    <tr>\n",
       "      <th>2020-01-15</th>\n",
       "      <td>77.83</td>\n",
       "      <td>77.96</td>\n",
       "      <td>78.88</td>\n",
       "      <td>77.39</td>\n",
       "      <td>121920000.0</td>\n",
       "      <td>-0.0043</td>\n",
       "    </tr>\n",
       "  </tbody>\n",
       "</table>\n",
       "</div>"
      ],
      "text/plain": [
       "            Close   Open   High    Low       Volume  Change\n",
       "Date                                                       \n",
       "2020-01-02  75.09  74.06  75.15  73.80  135650000.0  0.0228\n",
       "2020-01-03  74.36  74.29  75.14  74.13  146540000.0 -0.0097\n",
       "2020-01-06  74.95  73.45  74.99  73.19  118580000.0  0.0080\n",
       "2020-01-07  74.60  74.96  75.22  74.37  111510000.0 -0.0047\n",
       "2020-01-08  75.80  74.29  76.11  74.29  132360000.0  0.0161\n",
       "2020-01-09  77.41  76.81  77.61  76.55  170490000.0  0.0212\n",
       "2020-01-10  77.58  77.65  78.17  77.06  140870000.0  0.0023\n",
       "2020-01-13  79.24  77.91  79.27  77.79  122090000.0  0.0214\n",
       "2020-01-14  78.17  79.18  79.39  78.04  162610000.0 -0.0135\n",
       "2020-01-15  77.83  77.96  78.88  77.39  121920000.0 -0.0043"
      ]
     },
     "execution_count": 351,
     "metadata": {},
     "output_type": "execute_result"
    }
   ],
   "source": [
    "df = fdr.DataReader('AAPL','2020')\n",
    "df.head(10)"
   ]
  },
  {
   "cell_type": "code",
   "execution_count": 352,
   "metadata": {
    "scrolled": true
   },
   "outputs": [
    {
     "data": {
      "text/plain": [
       "<matplotlib.axes._subplots.AxesSubplot at 0x212ce1bf4c8>"
      ]
     },
     "execution_count": 352,
     "metadata": {},
     "output_type": "execute_result"
    },
    {
     "data": {
      "image/png": "[encoded data removed]",
      "text/plain": [
       "<Figure size 432x288 with 1 Axes>"
      ]
     },
     "metadata": {
      "needs_background": "light"
     },
     "output_type": "display_data"
    }
   ],
   "source": [
    "df['Close'].plot()"
   ]
  },
  {
   "cell_type": "code",
   "execution_count": 353,
   "metadata": {},
   "outputs": [],
   "source": [
    "exchange_map = {\n",
    "    'KRX':'Seoul','한국 거래소':'Seoul',\n",
    "    'NASDAQ':'NASDAQ','나스닥':'NASDAQ',\n",
    "    'NYSE':'NYSE','뉴욕증권거래소':'NYSE',\n",
    "    'AMEX':'AMEX','미국증권거래소':'AMEX',\n",
    "    'SSE':'Shanghai','상해':'Shanghai','상하이':'Shanghai',\n",
    "    'SZSE':'Shenzhen','심천':'Shenzhen',\n",
    "    'HKEX':'Hong Kong','홍콩':'Hong Kong',\n",
    "    'TSE':'Tokyo','도쿄':'Tokyo'\n",
    "}"
   ]
  },
  {
   "cell_type": "code",
   "execution_count": 355,
   "metadata": {},
   "outputs": [],
   "source": [
    "# 캐논\n",
    "jp_df1 = fdr.DataReader(symbol='7751',start='2019-01-01',exchange='TSE')\n",
    "jp_df2 = fdr.DataReader(symbol='7751',start='2019-01-01',exchange='도쿄')"
   ]
  },
  {
   "cell_type": "code",
   "execution_count": 357,
   "metadata": {},
   "outputs": [
    {
     "data": {
      "text/plain": [
       "<matplotlib.axes._subplots.AxesSubplot at 0x212ce57dc88>"
      ]
     },
     "execution_count": 357,
     "metadata": {},
     "output_type": "execute_result"
    },
    {
     "data": {
      "image/png": "[encoded data removed]",
      "text/plain": [
       "<Figure size 432x288 with 1 Axes>"
      ]
     },
     "metadata": {
      "needs_background": "light"
     },
     "output_type": "display_data"
    }
   ],
   "source": [
    "jp_df2['Close'].plot()"
   ]
  },
  {
   "cell_type": "code",
   "execution_count": 358,
   "metadata": {},
   "outputs": [],
   "source": [
    "# 중국 철도 건설 공사\n",
    "ch_df1 = fdr.DataReader(symbol='601186',start='2019-01-01',exchange='SSE')\n",
    "ch_df1 = fdr.DataReader(symbol='601186',start='2019-01-01',exchange='상해')"
   ]
  },
  {
   "cell_type": "code",
   "execution_count": 360,
   "metadata": {},
   "outputs": [
    {
     "data": {
      "text/plain": [
       "<matplotlib.axes._subplots.AxesSubplot at 0x212ce6a8d88>"
      ]
     },
     "execution_count": 360,
     "metadata": {},
     "output_type": "execute_result"
    },
    {
     "data": {
      "image/png": "[encoded data removed]",
      "text/plain": [
       "<Figure size 432x288 with 1 Axes>"
      ]
     },
     "metadata": {
      "needs_background": "light"
     },
     "output_type": "display_data"
    }
   ],
   "source": [
    "ch_df1['Close'].plot()"
   ]
  },
  {
   "cell_type": "markdown",
   "metadata": {},
   "source": [
    "#  바이앤홀드 전략"
   ]
  },
  {
   "cell_type": "code",
   "execution_count": 368,
   "metadata": {},
   "outputs": [],
   "source": [
    "df = pd.read_csv('C:/Users/oymin/OneDrive/바탕 화면/파이썬-머신러닝/퀸트/AMZN.csv',index_col='Date',parse_dates=['Date'])"
   ]
  },
  {
   "cell_type": "code",
   "execution_count": 369,
   "metadata": {},
   "outputs": [
    {
     "data": {
      "text/html": [
       "<div>\n",
       "<style scoped>\n",
       "    .dataframe tbody tr th:only-of-type {\n",
       "        vertical-align: middle;\n",
       "    }\n",
       "\n",
       "    .dataframe tbody tr th {\n",
       "        vertical-align: top;\n",
       "    }\n",
       "\n",
       "    .dataframe thead th {\n",
       "        text-align: right;\n",
       "    }\n",
       "</style>\n",
       "<table border=\"1\" class=\"dataframe\">\n",
       "  <thead>\n",
       "    <tr style=\"text-align: right;\">\n",
       "      <th></th>\n",
       "      <th>Open</th>\n",
       "      <th>High</th>\n",
       "      <th>Low</th>\n",
       "      <th>Close</th>\n",
       "      <th>Adj Close</th>\n",
       "      <th>Volume</th>\n",
       "    </tr>\n",
       "    <tr>\n",
       "      <th>Date</th>\n",
       "      <th></th>\n",
       "      <th></th>\n",
       "      <th></th>\n",
       "      <th></th>\n",
       "      <th></th>\n",
       "      <th></th>\n",
       "    </tr>\n",
       "  </thead>\n",
       "  <tbody>\n",
       "    <tr>\n",
       "      <th>1997-05-15</th>\n",
       "      <td>2.437500</td>\n",
       "      <td>2.500000</td>\n",
       "      <td>1.927083</td>\n",
       "      <td>1.958333</td>\n",
       "      <td>1.958333</td>\n",
       "      <td>72156000</td>\n",
       "    </tr>\n",
       "    <tr>\n",
       "      <th>1997-05-16</th>\n",
       "      <td>1.968750</td>\n",
       "      <td>1.979167</td>\n",
       "      <td>1.708333</td>\n",
       "      <td>1.729167</td>\n",
       "      <td>1.729167</td>\n",
       "      <td>14700000</td>\n",
       "    </tr>\n",
       "    <tr>\n",
       "      <th>1997-05-19</th>\n",
       "      <td>1.760417</td>\n",
       "      <td>1.770833</td>\n",
       "      <td>1.625000</td>\n",
       "      <td>1.708333</td>\n",
       "      <td>1.708333</td>\n",
       "      <td>6106800</td>\n",
       "    </tr>\n",
       "    <tr>\n",
       "      <th>1997-05-20</th>\n",
       "      <td>1.729167</td>\n",
       "      <td>1.750000</td>\n",
       "      <td>1.635417</td>\n",
       "      <td>1.635417</td>\n",
       "      <td>1.635417</td>\n",
       "      <td>5467200</td>\n",
       "    </tr>\n",
       "    <tr>\n",
       "      <th>1997-05-21</th>\n",
       "      <td>1.635417</td>\n",
       "      <td>1.645833</td>\n",
       "      <td>1.375000</td>\n",
       "      <td>1.427083</td>\n",
       "      <td>1.427083</td>\n",
       "      <td>18853200</td>\n",
       "    </tr>\n",
       "  </tbody>\n",
       "</table>\n",
       "</div>"
      ],
      "text/plain": [
       "                Open      High       Low     Close  Adj Close    Volume\n",
       "Date                                                                   \n",
       "1997-05-15  2.437500  2.500000  1.927083  1.958333   1.958333  72156000\n",
       "1997-05-16  1.968750  1.979167  1.708333  1.729167   1.729167  14700000\n",
       "1997-05-19  1.760417  1.770833  1.625000  1.708333   1.708333   6106800\n",
       "1997-05-20  1.729167  1.750000  1.635417  1.635417   1.635417   5467200\n",
       "1997-05-21  1.635417  1.645833  1.375000  1.427083   1.427083  18853200"
      ]
     },
     "execution_count": 369,
     "metadata": {},
     "output_type": "execute_result"
    }
   ],
   "source": [
    "df.head()"
   ]
  },
  {
   "cell_type": "code",
   "execution_count": 370,
   "metadata": {},
   "outputs": [
    {
     "data": {
      "text/html": [
       "<div>\n",
       "<style scoped>\n",
       "    .dataframe tbody tr th:only-of-type {\n",
       "        vertical-align: middle;\n",
       "    }\n",
       "\n",
       "    .dataframe tbody tr th {\n",
       "        vertical-align: top;\n",
       "    }\n",
       "\n",
       "    .dataframe thead th {\n",
       "        text-align: right;\n",
       "    }\n",
       "</style>\n",
       "<table border=\"1\" class=\"dataframe\">\n",
       "  <thead>\n",
       "    <tr style=\"text-align: right;\">\n",
       "      <th></th>\n",
       "      <th>Open</th>\n",
       "      <th>High</th>\n",
       "      <th>Low</th>\n",
       "      <th>Close</th>\n",
       "      <th>Adj Close</th>\n",
       "      <th>Volume</th>\n",
       "    </tr>\n",
       "    <tr>\n",
       "      <th>Date</th>\n",
       "      <th></th>\n",
       "      <th></th>\n",
       "      <th></th>\n",
       "      <th></th>\n",
       "      <th></th>\n",
       "      <th></th>\n",
       "    </tr>\n",
       "  </thead>\n",
       "  <tbody>\n",
       "  </tbody>\n",
       "</table>\n",
       "</div>"
      ],
      "text/plain": [
       "Empty DataFrame\n",
       "Columns: [Open, High, Low, Close, Adj Close, Volume]\n",
       "Index: []"
      ]
     },
     "execution_count": 370,
     "metadata": {},
     "output_type": "execute_result"
    }
   ],
   "source": [
    "df[df.isin([np.nan,np.inf,-np.inf]).any(1)]"
   ]
  },
  {
   "cell_type": "code",
   "execution_count": 371,
   "metadata": {},
   "outputs": [
    {
     "data": {
      "text/plain": [
       "<matplotlib.axes._subplots.AxesSubplot at 0x212cd7b6748>"
      ]
     },
     "execution_count": 371,
     "metadata": {},
     "output_type": "execute_result"
    },
    {
     "data": {
      "image/png": "[encoded data removed]",
      "text/plain": [
       "<Figure size 1152x648 with 1 Axes>"
      ]
     },
     "metadata": {
      "needs_background": "light"
     },
     "output_type": "display_data"
    }
   ],
   "source": [
    "price_df = df.loc[:,['Adj Close']].copy()\n",
    "price_df.plot(figsize=(16,9))"
   ]
  },
  {
   "cell_type": "code",
   "execution_count": 373,
   "metadata": {},
   "outputs": [
    {
     "data": {
      "text/plain": [
       "<matplotlib.axes._subplots.AxesSubplot at 0x212ce578e08>"
      ]
     },
     "execution_count": 373,
     "metadata": {},
     "output_type": "execute_result"
    },
    {
     "data": {
      "image/png": "[encoded data removed]",
      "text/plain": [
       "<Figure size 1152x648 with 1 Axes>"
      ]
     },
     "metadata": {
      "needs_background": "light"
     },
     "output_type": "display_data"
    }
   ],
   "source": [
    "from_date = '1997-01-03'\n",
    "to_date = '2003-01-03'\n",
    "price_df.loc[from_date:to_date].plot(figsize=(16,9))"
   ]
  },
  {
   "cell_type": "code",
   "execution_count": 374,
   "metadata": {},
   "outputs": [
    {
     "data": {
      "text/html": [
       "<div>\n",
       "<style scoped>\n",
       "    .dataframe tbody tr th:only-of-type {\n",
       "        vertical-align: middle;\n",
       "    }\n",
       "\n",
       "    .dataframe tbody tr th {\n",
       "        vertical-align: top;\n",
       "    }\n",
       "\n",
       "    .dataframe thead th {\n",
       "        text-align: right;\n",
       "    }\n",
       "</style>\n",
       "<table border=\"1\" class=\"dataframe\">\n",
       "  <thead>\n",
       "    <tr style=\"text-align: right;\">\n",
       "      <th></th>\n",
       "      <th>Adj Close</th>\n",
       "      <th>daily_rtn</th>\n",
       "    </tr>\n",
       "    <tr>\n",
       "      <th>Date</th>\n",
       "      <th></th>\n",
       "      <th></th>\n",
       "    </tr>\n",
       "  </thead>\n",
       "  <tbody>\n",
       "    <tr>\n",
       "      <th>1997-05-15</th>\n",
       "      <td>1.958333</td>\n",
       "      <td>NaN</td>\n",
       "    </tr>\n",
       "    <tr>\n",
       "      <th>1997-05-16</th>\n",
       "      <td>1.729167</td>\n",
       "      <td>-0.117021</td>\n",
       "    </tr>\n",
       "    <tr>\n",
       "      <th>1997-05-19</th>\n",
       "      <td>1.708333</td>\n",
       "      <td>-0.012049</td>\n",
       "    </tr>\n",
       "    <tr>\n",
       "      <th>1997-05-20</th>\n",
       "      <td>1.635417</td>\n",
       "      <td>-0.042683</td>\n",
       "    </tr>\n",
       "    <tr>\n",
       "      <th>1997-05-21</th>\n",
       "      <td>1.427083</td>\n",
       "      <td>-0.127389</td>\n",
       "    </tr>\n",
       "    <tr>\n",
       "      <th>1997-05-22</th>\n",
       "      <td>1.395833</td>\n",
       "      <td>-0.021898</td>\n",
       "    </tr>\n",
       "    <tr>\n",
       "      <th>1997-05-23</th>\n",
       "      <td>1.500000</td>\n",
       "      <td>0.074627</td>\n",
       "    </tr>\n",
       "    <tr>\n",
       "      <th>1997-05-27</th>\n",
       "      <td>1.583333</td>\n",
       "      <td>0.055555</td>\n",
       "    </tr>\n",
       "    <tr>\n",
       "      <th>1997-05-28</th>\n",
       "      <td>1.531250</td>\n",
       "      <td>-0.032895</td>\n",
       "    </tr>\n",
       "    <tr>\n",
       "      <th>1997-05-29</th>\n",
       "      <td>1.505208</td>\n",
       "      <td>-0.017007</td>\n",
       "    </tr>\n",
       "  </tbody>\n",
       "</table>\n",
       "</div>"
      ],
      "text/plain": [
       "            Adj Close  daily_rtn\n",
       "Date                            \n",
       "1997-05-15   1.958333        NaN\n",
       "1997-05-16   1.729167  -0.117021\n",
       "1997-05-19   1.708333  -0.012049\n",
       "1997-05-20   1.635417  -0.042683\n",
       "1997-05-21   1.427083  -0.127389\n",
       "1997-05-22   1.395833  -0.021898\n",
       "1997-05-23   1.500000   0.074627\n",
       "1997-05-27   1.583333   0.055555\n",
       "1997-05-28   1.531250  -0.032895\n",
       "1997-05-29   1.505208  -0.017007"
      ]
     },
     "execution_count": 374,
     "metadata": {},
     "output_type": "execute_result"
    }
   ],
   "source": [
    "# pct_change() = (p_n / p_n-1)*100\n",
    "price_df['daily_rtn'] = price_df['Adj Close'].pct_change()\n",
    "price_df.head(10)"
   ]
  },
  {
   "cell_type": "code",
   "execution_count": 375,
   "metadata": {},
   "outputs": [
    {
     "data": {
      "text/html": [
       "<div>\n",
       "<style scoped>\n",
       "    .dataframe tbody tr th:only-of-type {\n",
       "        vertical-align: middle;\n",
       "    }\n",
       "\n",
       "    .dataframe tbody tr th {\n",
       "        vertical-align: top;\n",
       "    }\n",
       "\n",
       "    .dataframe thead th {\n",
       "        text-align: right;\n",
       "    }\n",
       "</style>\n",
       "<table border=\"1\" class=\"dataframe\">\n",
       "  <thead>\n",
       "    <tr style=\"text-align: right;\">\n",
       "      <th></th>\n",
       "      <th>Adj Close</th>\n",
       "      <th>daily_rtn</th>\n",
       "      <th>st_rtn</th>\n",
       "    </tr>\n",
       "    <tr>\n",
       "      <th>Date</th>\n",
       "      <th></th>\n",
       "      <th></th>\n",
       "      <th></th>\n",
       "    </tr>\n",
       "  </thead>\n",
       "  <tbody>\n",
       "    <tr>\n",
       "      <th>1997-05-15</th>\n",
       "      <td>1.958333</td>\n",
       "      <td>NaN</td>\n",
       "      <td>NaN</td>\n",
       "    </tr>\n",
       "    <tr>\n",
       "      <th>1997-05-16</th>\n",
       "      <td>1.729167</td>\n",
       "      <td>-0.117021</td>\n",
       "      <td>0.882979</td>\n",
       "    </tr>\n",
       "    <tr>\n",
       "      <th>1997-05-19</th>\n",
       "      <td>1.708333</td>\n",
       "      <td>-0.012049</td>\n",
       "      <td>0.872340</td>\n",
       "    </tr>\n",
       "    <tr>\n",
       "      <th>1997-05-20</th>\n",
       "      <td>1.635417</td>\n",
       "      <td>-0.042683</td>\n",
       "      <td>0.835107</td>\n",
       "    </tr>\n",
       "    <tr>\n",
       "      <th>1997-05-21</th>\n",
       "      <td>1.427083</td>\n",
       "      <td>-0.127389</td>\n",
       "      <td>0.728723</td>\n",
       "    </tr>\n",
       "    <tr>\n",
       "      <th>1997-05-22</th>\n",
       "      <td>1.395833</td>\n",
       "      <td>-0.021898</td>\n",
       "      <td>0.712766</td>\n",
       "    </tr>\n",
       "    <tr>\n",
       "      <th>1997-05-23</th>\n",
       "      <td>1.500000</td>\n",
       "      <td>0.074627</td>\n",
       "      <td>0.765958</td>\n",
       "    </tr>\n",
       "    <tr>\n",
       "      <th>1997-05-27</th>\n",
       "      <td>1.583333</td>\n",
       "      <td>0.055555</td>\n",
       "      <td>0.808511</td>\n",
       "    </tr>\n",
       "    <tr>\n",
       "      <th>1997-05-28</th>\n",
       "      <td>1.531250</td>\n",
       "      <td>-0.032895</td>\n",
       "      <td>0.781915</td>\n",
       "    </tr>\n",
       "    <tr>\n",
       "      <th>1997-05-29</th>\n",
       "      <td>1.505208</td>\n",
       "      <td>-0.017007</td>\n",
       "      <td>0.768617</td>\n",
       "    </tr>\n",
       "  </tbody>\n",
       "</table>\n",
       "</div>"
      ],
      "text/plain": [
       "            Adj Close  daily_rtn    st_rtn\n",
       "Date                                      \n",
       "1997-05-15   1.958333        NaN       NaN\n",
       "1997-05-16   1.729167  -0.117021  0.882979\n",
       "1997-05-19   1.708333  -0.012049  0.872340\n",
       "1997-05-20   1.635417  -0.042683  0.835107\n",
       "1997-05-21   1.427083  -0.127389  0.728723\n",
       "1997-05-22   1.395833  -0.021898  0.712766\n",
       "1997-05-23   1.500000   0.074627  0.765958\n",
       "1997-05-27   1.583333   0.055555  0.808511\n",
       "1997-05-28   1.531250  -0.032895  0.781915\n",
       "1997-05-29   1.505208  -0.017007  0.768617"
      ]
     },
     "execution_count": 375,
     "metadata": {},
     "output_type": "execute_result"
    }
   ],
   "source": [
    "# 누적 수익률 = pct_change 값을 모두 곱함\n",
    "price_df['st_rtn'] = (1+price_df['daily_rtn']).cumprod()\n",
    "price_df.head(10)"
   ]
  },
  {
   "cell_type": "code",
   "execution_count": 376,
   "metadata": {},
   "outputs": [
    {
     "data": {
      "text/plain": [
       "<matplotlib.axes._subplots.AxesSubplot at 0x212ce42a748>"
      ]
     },
     "execution_count": 376,
     "metadata": {},
     "output_type": "execute_result"
    },
    {
     "data": {
      "image/png": "[encoded data removed]",
      "text/plain": [
       "<Figure size 1152x648 with 1 Axes>"
      ]
     },
     "metadata": {
      "needs_background": "light"
     },
     "output_type": "display_data"
    }
   ],
   "source": [
    "price_df['st_rtn'].plot(figsize=(16,9))"
   ]
  },
  {
   "cell_type": "code",
   "execution_count": 379,
   "metadata": {},
   "outputs": [
    {
     "name": "stdout",
     "output_type": "stream",
     "text": [
      "누적 수익 :  16.708826844485838\n"
     ]
    },
    {
     "data": {
      "text/plain": [
       "<matplotlib.axes._subplots.AxesSubplot at 0x212ced93148>"
      ]
     },
     "execution_count": 379,
     "metadata": {},
     "output_type": "execute_result"
    },
    {
     "data": {
      "image/png": "[encoded data removed]",
      "text/plain": [
       "<Figure size 1152x648 with 1 Axes>"
      ]
     },
     "metadata": {
      "needs_background": "light"
     },
     "output_type": "display_data"
    }
   ],
   "source": [
    "base_date = '2011-01-03'\n",
    "tmp_df = price_df.loc[base_date:,['st_rtn']]/price_df.loc[base_date,['st_rtn']]\n",
    "last_date = tmp_df.index[-1]\n",
    "print('누적 수익 : ',tmp_df.loc[last_date,'st_rtn'])\n",
    "tmp_df.plot(figsize=(16,9))"
   ]
  }
 ],
 "metadata": {
  "kernelspec": {
   "display_name": "Python 3",
   "language": "python",
   "name": "python3"
  },
  "language_info": {
   "codemirror_mode": {
    "name": "ipython",
    "version": 3
   },
   "file_extension": ".py",
   "mimetype": "text/x-python",
   "name": "python",
   "nbconvert_exporter": "python",
   "pygments_lexer": "ipython3",
   "version": "3.7.6"
  }
 },
 "nbformat": 4,
 "nbformat_minor": 4
}
