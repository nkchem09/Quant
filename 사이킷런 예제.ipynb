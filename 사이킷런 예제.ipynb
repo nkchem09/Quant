{
 "cells": [
  {
   "cell_type": "code",
   "execution_count": 31,
   "metadata": {},
   "outputs": [],
   "source": [
    "from sklearn.datasets import load_boston\n",
    "import numpy as np\n",
    "from sklearn.linear_model import LinearRegression\n",
    "from sklearn.model_selection import train_test_split"
   ]
  },
  {
   "cell_type": "code",
   "execution_count": 32,
   "metadata": {},
   "outputs": [],
   "source": [
    "boston_data = load_boston()"
   ]
  },
  {
   "cell_type": "code",
   "execution_count": 33,
   "metadata": {},
   "outputs": [
    {
     "data": {
      "text/plain": [
       "{'data': array([[6.3200e-03, 1.8000e+01, 2.3100e+00, ..., 1.5300e+01, 3.9690e+02,\n",
       "         4.9800e+00],\n",
       "        [2.7310e-02, 0.0000e+00, 7.0700e+00, ..., 1.7800e+01, 3.9690e+02,\n",
       "         9.1400e+00],\n",
       "        [2.7290e-02, 0.0000e+00, 7.0700e+00, ..., 1.7800e+01, 3.9283e+02,\n",
       "         4.0300e+00],\n",
       "        ...,\n",
       "        [6.0760e-02, 0.0000e+00, 1.1930e+01, ..., 2.1000e+01, 3.9690e+02,\n",
       "         5.6400e+00],\n",
       "        [1.0959e-01, 0.0000e+00, 1.1930e+01, ..., 2.1000e+01, 3.9345e+02,\n",
       "         6.4800e+00],\n",
       "        [4.7410e-02, 0.0000e+00, 1.1930e+01, ..., 2.1000e+01, 3.9690e+02,\n",
       "         7.8800e+00]]),\n",
       " 'target': array([24. , 21.6, 34.7, 33.4, 36.2, 28.7, 22.9, 27.1, 16.5, 18.9, 15. ,\n",
       "        18.9, 21.7, 20.4, 18.2, 19.9, 23.1, 17.5, 20.2, 18.2, 13.6, 19.6,\n",
       "        15.2, 14.5, 15.6, 13.9, 16.6, 14.8, 18.4, 21. , 12.7, 14.5, 13.2,\n",
       "        13.1, 13.5, 18.9, 20. , 21. , 24.7, 30.8, 34.9, 26.6, 25.3, 24.7,\n",
       "        21.2, 19.3, 20. , 16.6, 14.4, 19.4, 19.7, 20.5, 25. , 23.4, 18.9,\n",
       "        35.4, 24.7, 31.6, 23.3, 19.6, 18.7, 16. , 22.2, 25. , 33. , 23.5,\n",
       "        19.4, 22. , 17.4, 20.9, 24.2, 21.7, 22.8, 23.4, 24.1, 21.4, 20. ,\n",
       "        20.8, 21.2, 20.3, 28. , 23.9, 24.8, 22.9, 23.9, 26.6, 22.5, 22.2,\n",
       "        23.6, 28.7, 22.6, 22. , 22.9, 25. , 20.6, 28.4, 21.4, 38.7, 43.8,\n",
       "        33.2, 27.5, 26.5, 18.6, 19.3, 20.1, 19.5, 19.5, 20.4, 19.8, 19.4,\n",
       "        21.7, 22.8, 18.8, 18.7, 18.5, 18.3, 21.2, 19.2, 20.4, 19.3, 22. ,\n",
       "        20.3, 20.5, 17.3, 18.8, 21.4, 15.7, 16.2, 18. , 14.3, 19.2, 19.6,\n",
       "        23. , 18.4, 15.6, 18.1, 17.4, 17.1, 13.3, 17.8, 14. , 14.4, 13.4,\n",
       "        15.6, 11.8, 13.8, 15.6, 14.6, 17.8, 15.4, 21.5, 19.6, 15.3, 19.4,\n",
       "        17. , 15.6, 13.1, 41.3, 24.3, 23.3, 27. , 50. , 50. , 50. , 22.7,\n",
       "        25. , 50. , 23.8, 23.8, 22.3, 17.4, 19.1, 23.1, 23.6, 22.6, 29.4,\n",
       "        23.2, 24.6, 29.9, 37.2, 39.8, 36.2, 37.9, 32.5, 26.4, 29.6, 50. ,\n",
       "        32. , 29.8, 34.9, 37. , 30.5, 36.4, 31.1, 29.1, 50. , 33.3, 30.3,\n",
       "        34.6, 34.9, 32.9, 24.1, 42.3, 48.5, 50. , 22.6, 24.4, 22.5, 24.4,\n",
       "        20. , 21.7, 19.3, 22.4, 28.1, 23.7, 25. , 23.3, 28.7, 21.5, 23. ,\n",
       "        26.7, 21.7, 27.5, 30.1, 44.8, 50. , 37.6, 31.6, 46.7, 31.5, 24.3,\n",
       "        31.7, 41.7, 48.3, 29. , 24. , 25.1, 31.5, 23.7, 23.3, 22. , 20.1,\n",
       "        22.2, 23.7, 17.6, 18.5, 24.3, 20.5, 24.5, 26.2, 24.4, 24.8, 29.6,\n",
       "        42.8, 21.9, 20.9, 44. , 50. , 36. , 30.1, 33.8, 43.1, 48.8, 31. ,\n",
       "        36.5, 22.8, 30.7, 50. , 43.5, 20.7, 21.1, 25.2, 24.4, 35.2, 32.4,\n",
       "        32. , 33.2, 33.1, 29.1, 35.1, 45.4, 35.4, 46. , 50. , 32.2, 22. ,\n",
       "        20.1, 23.2, 22.3, 24.8, 28.5, 37.3, 27.9, 23.9, 21.7, 28.6, 27.1,\n",
       "        20.3, 22.5, 29. , 24.8, 22. , 26.4, 33.1, 36.1, 28.4, 33.4, 28.2,\n",
       "        22.8, 20.3, 16.1, 22.1, 19.4, 21.6, 23.8, 16.2, 17.8, 19.8, 23.1,\n",
       "        21. , 23.8, 23.1, 20.4, 18.5, 25. , 24.6, 23. , 22.2, 19.3, 22.6,\n",
       "        19.8, 17.1, 19.4, 22.2, 20.7, 21.1, 19.5, 18.5, 20.6, 19. , 18.7,\n",
       "        32.7, 16.5, 23.9, 31.2, 17.5, 17.2, 23.1, 24.5, 26.6, 22.9, 24.1,\n",
       "        18.6, 30.1, 18.2, 20.6, 17.8, 21.7, 22.7, 22.6, 25. , 19.9, 20.8,\n",
       "        16.8, 21.9, 27.5, 21.9, 23.1, 50. , 50. , 50. , 50. , 50. , 13.8,\n",
       "        13.8, 15. , 13.9, 13.3, 13.1, 10.2, 10.4, 10.9, 11.3, 12.3,  8.8,\n",
       "         7.2, 10.5,  7.4, 10.2, 11.5, 15.1, 23.2,  9.7, 13.8, 12.7, 13.1,\n",
       "        12.5,  8.5,  5. ,  6.3,  5.6,  7.2, 12.1,  8.3,  8.5,  5. , 11.9,\n",
       "        27.9, 17.2, 27.5, 15. , 17.2, 17.9, 16.3,  7. ,  7.2,  7.5, 10.4,\n",
       "         8.8,  8.4, 16.7, 14.2, 20.8, 13.4, 11.7,  8.3, 10.2, 10.9, 11. ,\n",
       "         9.5, 14.5, 14.1, 16.1, 14.3, 11.7, 13.4,  9.6,  8.7,  8.4, 12.8,\n",
       "        10.5, 17.1, 18.4, 15.4, 10.8, 11.8, 14.9, 12.6, 14.1, 13. , 13.4,\n",
       "        15.2, 16.1, 17.8, 14.9, 14.1, 12.7, 13.5, 14.9, 20. , 16.4, 17.7,\n",
       "        19.5, 20.2, 21.4, 19.9, 19. , 19.1, 19.1, 20.1, 19.9, 19.6, 23.2,\n",
       "        29.8, 13.8, 13.3, 16.7, 12. , 14.6, 21.4, 23. , 23.7, 25. , 21.8,\n",
       "        20.6, 21.2, 19.1, 20.6, 15.2,  7. ,  8.1, 13.6, 20.1, 21.8, 24.5,\n",
       "        23.1, 19.7, 18.3, 21.2, 17.5, 16.8, 22.4, 20.6, 23.9, 22. , 11.9]),\n",
       " 'feature_names': array(['CRIM', 'ZN', 'INDUS', 'CHAS', 'NOX', 'RM', 'AGE', 'DIS', 'RAD',\n",
       "        'TAX', 'PTRATIO', 'B', 'LSTAT'], dtype='<U7'),\n",
       " 'DESCR': \".. _boston_dataset:\\n\\nBoston house prices dataset\\n---------------------------\\n\\n**Data Set Characteristics:**  \\n\\n    :Number of Instances: 506 \\n\\n    :Number of Attributes: 13 numeric/categorical predictive. Median Value (attribute 14) is usually the target.\\n\\n    :Attribute Information (in order):\\n        - CRIM     per capita crime rate by town\\n        - ZN       proportion of residential land zoned for lots over 25,000 sq.ft.\\n        - INDUS    proportion of non-retail business acres per town\\n        - CHAS     Charles River dummy variable (= 1 if tract bounds river; 0 otherwise)\\n        - NOX      nitric oxides concentration (parts per 10 million)\\n        - RM       average number of rooms per dwelling\\n        - AGE      proportion of owner-occupied units built prior to 1940\\n        - DIS      weighted distances to five Boston employment centres\\n        - RAD      index of accessibility to radial highways\\n        - TAX      full-value property-tax rate per $10,000\\n        - PTRATIO  pupil-teacher ratio by town\\n        - B        1000(Bk - 0.63)^2 where Bk is the proportion of blacks by town\\n        - LSTAT    % lower status of the population\\n        - MEDV     Median value of owner-occupied homes in $1000's\\n\\n    :Missing Attribute Values: None\\n\\n    :Creator: Harrison, D. and Rubinfeld, D.L.\\n\\nThis is a copy of UCI ML housing dataset.\\nhttps://archive.ics.uci.edu/ml/machine-learning-databases/housing/\\n\\n\\nThis dataset was taken from the StatLib library which is maintained at Carnegie Mellon University.\\n\\nThe Boston house-price data of Harrison, D. and Rubinfeld, D.L. 'Hedonic\\nprices and the demand for clean air', J. Environ. Economics & Management,\\nvol.5, 81-102, 1978.   Used in Belsley, Kuh & Welsch, 'Regression diagnostics\\n...', Wiley, 1980.   N.B. Various transformations are used in the table on\\npages 244-261 of the latter.\\n\\nThe Boston house-price data has been used in many machine learning papers that address regression\\nproblems.   \\n     \\n.. topic:: References\\n\\n   - Belsley, Kuh & Welsch, 'Regression diagnostics: Identifying Influential Data and Sources of Collinearity', Wiley, 1980. 244-261.\\n   - Quinlan,R. (1993). Combining Instance-Based and Model-Based Learning. In Proceedings on the Tenth International Conference of Machine Learning, 236-243, University of Massachusetts, Amherst. Morgan Kaufmann.\\n\",\n",
       " 'filename': 'C:\\\\ProgramData\\\\Anaconda3\\\\lib\\\\site-packages\\\\sklearn\\\\datasets\\\\data\\\\boston_house_prices.csv'}"
      ]
     },
     "execution_count": 33,
     "metadata": {},
     "output_type": "execute_result"
    }
   ],
   "source": [
    "boston_data"
   ]
  },
  {
   "cell_type": "code",
   "execution_count": 34,
   "metadata": {},
   "outputs": [],
   "source": [
    "X_val = boston_data['data']\n",
    "y_val = boston_data['target']"
   ]
  },
  {
   "cell_type": "code",
   "execution_count": 35,
   "metadata": {},
   "outputs": [],
   "source": [
    "model = LinearRegression()"
   ]
  },
  {
   "cell_type": "code",
   "execution_count": 36,
   "metadata": {},
   "outputs": [
    {
     "data": {
      "text/plain": [
       "LinearRegression(copy_X=True, fit_intercept=True, n_jobs=None, normalize=False)"
      ]
     },
     "execution_count": 36,
     "metadata": {},
     "output_type": "execute_result"
    }
   ],
   "source": [
    "model.fit(X_val,y_val)"
   ]
  },
  {
   "cell_type": "code",
   "execution_count": 37,
   "metadata": {},
   "outputs": [],
   "source": [
    "from sklearn.metrics import mean_squared_error\n",
    "y_pred = model.predict(X_val)\n",
    "rmse = np.sqrt(mean_squared_error(y_val, y_pred))"
   ]
  },
  {
   "cell_type": "code",
   "execution_count": 38,
   "metadata": {},
   "outputs": [
    {
     "data": {
      "text/plain": [
       "4.679191295697282"
      ]
     },
     "execution_count": 38,
     "metadata": {},
     "output_type": "execute_result"
    }
   ],
   "source": [
    "rmse"
   ]
  },
  {
   "cell_type": "code",
   "execution_count": 39,
   "metadata": {},
   "outputs": [],
   "source": [
    "import warnings\n",
    "warnings.filterwarnings('ignore')\n",
    "import glob\n",
    "import os\n",
    "import datetime\n",
    "import matplotlib.pyplot as plt\n",
    "import pandas as pd\n",
    "from sklearn.preprocessing import StandardScaler\n",
    "from sklearn.model_selection import train_test_split\n",
    "from sklearn.model_selection import cross_validate\n",
    "from sklearn.model_selection import TimeSeriesSplit\n",
    "from sklearn.model_selection import GridSearchCV\n",
    "from xgboost import XGBClassifier\n",
    "from xgboost import plot_importance\n",
    "from sklearn.metrics import f1_score\n",
    "from sklearn.metrics import r2_score, confusion_matrix, precision_score, recall_score, roc_auc_score\n",
    "from sklearn import svm\n",
    "import seaborn as sns;sns.set()"
   ]
  },
  {
   "cell_type": "code",
   "execution_count": 40,
   "metadata": {},
   "outputs": [
    {
     "data": {
      "text/html": [
       "<div>\n",
       "<style scoped>\n",
       "    .dataframe tbody tr th:only-of-type {\n",
       "        vertical-align: middle;\n",
       "    }\n",
       "\n",
       "    .dataframe tbody tr th {\n",
       "        vertical-align: top;\n",
       "    }\n",
       "\n",
       "    .dataframe thead th {\n",
       "        text-align: right;\n",
       "    }\n",
       "</style>\n",
       "<table border=\"1\" class=\"dataframe\">\n",
       "  <thead>\n",
       "    <tr style=\"text-align: right;\">\n",
       "      <th></th>\n",
       "      <th>Dates</th>\n",
       "      <th>CLOSE_SPY</th>\n",
       "      <th>OPEN</th>\n",
       "      <th>HIGH</th>\n",
       "      <th>LOW</th>\n",
       "      <th>VOLUME</th>\n",
       "      <th>CLOSE_GLD</th>\n",
       "      <th>CLOSE_FXY</th>\n",
       "      <th>CLOSE_T10Y2Y</th>\n",
       "      <th>CLOSE_TED</th>\n",
       "      <th>CLOSE_USO</th>\n",
       "      <th>CLOSE_UUP</th>\n",
       "      <th>CLOSE_VIX</th>\n",
       "      <th>CLOSE_VWO</th>\n",
       "    </tr>\n",
       "  </thead>\n",
       "  <tbody>\n",
       "    <tr>\n",
       "      <th>0</th>\n",
       "      <td>2007-02-20</td>\n",
       "      <td>146.04</td>\n",
       "      <td>145.56</td>\n",
       "      <td>146.20</td>\n",
       "      <td>144.0</td>\n",
       "      <td>56909500.0</td>\n",
       "      <td>65.31</td>\n",
       "      <td>83.51</td>\n",
       "      <td>2.3263</td>\n",
       "      <td>0.31</td>\n",
       "      <td>48.67</td>\n",
       "      <td>25.07</td>\n",
       "      <td>10.24</td>\n",
       "      <td>40.055</td>\n",
       "    </tr>\n",
       "    <tr>\n",
       "      <th>1</th>\n",
       "      <td>2007-02-21</td>\n",
       "      <td>145.98</td>\n",
       "      <td>145.61</td>\n",
       "      <td>146.07</td>\n",
       "      <td>145.0</td>\n",
       "      <td>63971500.0</td>\n",
       "      <td>67.28</td>\n",
       "      <td>82.90</td>\n",
       "      <td>2.3653</td>\n",
       "      <td>0.32</td>\n",
       "      <td>49.86</td>\n",
       "      <td>25.12</td>\n",
       "      <td>10.20</td>\n",
       "      <td>39.975</td>\n",
       "    </tr>\n",
       "    <tr>\n",
       "      <th>2</th>\n",
       "      <td>2007-02-22</td>\n",
       "      <td>145.87</td>\n",
       "      <td>146.05</td>\n",
       "      <td>146.42</td>\n",
       "      <td>145.0</td>\n",
       "      <td>79067398.0</td>\n",
       "      <td>67.15</td>\n",
       "      <td>82.46</td>\n",
       "      <td>2.3871</td>\n",
       "      <td>0.31</td>\n",
       "      <td>50.33</td>\n",
       "      <td>25.12</td>\n",
       "      <td>10.18</td>\n",
       "      <td>40.220</td>\n",
       "    </tr>\n",
       "    <tr>\n",
       "      <th>3</th>\n",
       "      <td>2007-02-23</td>\n",
       "      <td>145.30</td>\n",
       "      <td>145.74</td>\n",
       "      <td>145.79</td>\n",
       "      <td>145.0</td>\n",
       "      <td>71962797.0</td>\n",
       "      <td>67.72</td>\n",
       "      <td>82.78</td>\n",
       "      <td>2.3809</td>\n",
       "      <td>0.31</td>\n",
       "      <td>50.46</td>\n",
       "      <td>25.04</td>\n",
       "      <td>10.58</td>\n",
       "      <td>40.035</td>\n",
       "    </tr>\n",
       "    <tr>\n",
       "      <th>4</th>\n",
       "      <td>2007-02-26</td>\n",
       "      <td>145.17</td>\n",
       "      <td>145.83</td>\n",
       "      <td>145.95</td>\n",
       "      <td>145.0</td>\n",
       "      <td>69320062.0</td>\n",
       "      <td>68.10</td>\n",
       "      <td>83.08</td>\n",
       "      <td>2.3795</td>\n",
       "      <td>0.31</td>\n",
       "      <td>50.90</td>\n",
       "      <td>25.04</td>\n",
       "      <td>11.15</td>\n",
       "      <td>39.960</td>\n",
       "    </tr>\n",
       "  </tbody>\n",
       "</table>\n",
       "</div>"
      ],
      "text/plain": [
       "        Dates  CLOSE_SPY    OPEN    HIGH    LOW      VOLUME  CLOSE_GLD  \\\n",
       "0  2007-02-20     146.04  145.56  146.20  144.0  56909500.0      65.31   \n",
       "1  2007-02-21     145.98  145.61  146.07  145.0  63971500.0      67.28   \n",
       "2  2007-02-22     145.87  146.05  146.42  145.0  79067398.0      67.15   \n",
       "3  2007-02-23     145.30  145.74  145.79  145.0  71962797.0      67.72   \n",
       "4  2007-02-26     145.17  145.83  145.95  145.0  69320062.0      68.10   \n",
       "\n",
       "   CLOSE_FXY  CLOSE_T10Y2Y  CLOSE_TED  CLOSE_USO  CLOSE_UUP  CLOSE_VIX  \\\n",
       "0      83.51        2.3263       0.31      48.67      25.07      10.24   \n",
       "1      82.90        2.3653       0.32      49.86      25.12      10.20   \n",
       "2      82.46        2.3871       0.31      50.33      25.12      10.18   \n",
       "3      82.78        2.3809       0.31      50.46      25.04      10.58   \n",
       "4      83.08        2.3795       0.31      50.90      25.04      11.15   \n",
       "\n",
       "   CLOSE_VWO  \n",
       "0     40.055  \n",
       "1     39.975  \n",
       "2     40.220  \n",
       "3     40.035  \n",
       "4     39.960  "
      ]
     },
     "execution_count": 40,
     "metadata": {},
     "output_type": "execute_result"
    }
   ],
   "source": [
    "df = pd.read_csv('./algoTrade-master/ch06/ETFs_main.csv')\n",
    "df.head()"
   ]
  },
  {
   "cell_type": "code",
   "execution_count": 41,
   "metadata": {},
   "outputs": [],
   "source": [
    "def moving_average(df,n):\n",
    "    MA = pd.Series(df['CLOSE_SPY'].rolling(n,min_periods=n).mean(),name='MA_'+str(n))\n",
    "    df = df.join(MA)\n",
    "    return df\n",
    "\n",
    "def volume_moving_average(df,n):\n",
    "    VMA = pd.Series(df['VOLUME'].rolling(n,min_periods=n).mean(),name='VMA_'+str(n))\n",
    "    df = df.join(VMA)\n",
    "    return df\n",
    "\n",
    "def relative_strength_index(df,n):\n",
    "    i=0\n",
    "    UpI=[0]\n",
    "    DoI=[0]\n",
    "    while i+1 <= df.index[-1]:\n",
    "        UpMove = df.loc[i+1,'HIGH'] - df.loc[i,'HIGH']\n",
    "        DoMove = df.loc[i,'LOW'] - df.loc[i+1,'LOW']\n",
    "        if UpMove > DoMove and UpMove > 0:\n",
    "            UpD = UpMove\n",
    "        else:\n",
    "            UpD = 0\n",
    "        UpI.append(UpD)\n",
    "        if DoMove > UpMove and DoMove > 0:\n",
    "            DoD = DoMove\n",
    "        else:\n",
    "            DoD = 0\n",
    "        DoI.append(DoD)\n",
    "        i+=1\n",
    "        \n",
    "    UpI = pd.Series(UpI)\n",
    "    DoI = pd.Series(DoI)\n",
    "    PosDI = pd.Series(UpI.ewm(span=n,min_periods=n).mean())\n",
    "    NegDI = pd.Series(DoI.ewm(span=n,min_periods=n).mean())\n",
    "    RSI = pd.Series(PosDI / (PosDI+NegDI), name='RSI_'+str(n))\n",
    "    df = df.join(RSI)\n",
    "    return df"
   ]
  },
  {
   "cell_type": "code",
   "execution_count": 42,
   "metadata": {},
   "outputs": [],
   "source": [
    "df = moving_average(df,45)\n",
    "df = volume_moving_average(df,45)\n",
    "df = relative_strength_index(df,14)"
   ]
  },
  {
   "cell_type": "code",
   "execution_count": 43,
   "metadata": {},
   "outputs": [
    {
     "data": {
      "text/html": [
       "<div>\n",
       "<style scoped>\n",
       "    .dataframe tbody tr th:only-of-type {\n",
       "        vertical-align: middle;\n",
       "    }\n",
       "\n",
       "    .dataframe tbody tr th {\n",
       "        vertical-align: top;\n",
       "    }\n",
       "\n",
       "    .dataframe thead th {\n",
       "        text-align: right;\n",
       "    }\n",
       "</style>\n",
       "<table border=\"1\" class=\"dataframe\">\n",
       "  <thead>\n",
       "    <tr style=\"text-align: right;\">\n",
       "      <th></th>\n",
       "      <th>Dates</th>\n",
       "      <th>CLOSE_SPY</th>\n",
       "      <th>OPEN</th>\n",
       "      <th>HIGH</th>\n",
       "      <th>LOW</th>\n",
       "      <th>VOLUME</th>\n",
       "      <th>CLOSE_GLD</th>\n",
       "      <th>CLOSE_FXY</th>\n",
       "      <th>CLOSE_T10Y2Y</th>\n",
       "      <th>CLOSE_TED</th>\n",
       "      <th>CLOSE_USO</th>\n",
       "      <th>CLOSE_UUP</th>\n",
       "      <th>CLOSE_VIX</th>\n",
       "      <th>CLOSE_VWO</th>\n",
       "      <th>MA_45</th>\n",
       "      <th>VMA_45</th>\n",
       "      <th>RSI_14</th>\n",
       "    </tr>\n",
       "  </thead>\n",
       "  <tbody>\n",
       "    <tr>\n",
       "      <th>2766</th>\n",
       "      <td>2018-12-20</td>\n",
       "      <td>247.17</td>\n",
       "      <td>249.86</td>\n",
       "      <td>251.620</td>\n",
       "      <td>245.0</td>\n",
       "      <td>252053406.0</td>\n",
       "      <td>119.24</td>\n",
       "      <td>85.87</td>\n",
       "      <td>1.7807</td>\n",
       "      <td>0.48</td>\n",
       "      <td>9.72</td>\n",
       "      <td>25.77</td>\n",
       "      <td>28.38</td>\n",
       "      <td>38.18</td>\n",
       "      <td>269.767778</td>\n",
       "      <td>1.240592e+08</td>\n",
       "      <td>0.172439</td>\n",
       "    </tr>\n",
       "    <tr>\n",
       "      <th>2767</th>\n",
       "      <td>2018-12-21</td>\n",
       "      <td>240.70</td>\n",
       "      <td>246.74</td>\n",
       "      <td>249.710</td>\n",
       "      <td>240.0</td>\n",
       "      <td>255345594.0</td>\n",
       "      <td>118.72</td>\n",
       "      <td>85.87</td>\n",
       "      <td>1.7651</td>\n",
       "      <td>0.48</td>\n",
       "      <td>9.57</td>\n",
       "      <td>25.94</td>\n",
       "      <td>30.11</td>\n",
       "      <td>37.87</td>\n",
       "      <td>269.018889</td>\n",
       "      <td>1.274610e+08</td>\n",
       "      <td>0.142578</td>\n",
       "    </tr>\n",
       "    <tr>\n",
       "      <th>2768</th>\n",
       "      <td>2018-12-24</td>\n",
       "      <td>234.34</td>\n",
       "      <td>239.04</td>\n",
       "      <td>240.836</td>\n",
       "      <td>234.0</td>\n",
       "      <td>147311594.0</td>\n",
       "      <td>120.02</td>\n",
       "      <td>86.55</td>\n",
       "      <td>1.7505</td>\n",
       "      <td>0.40</td>\n",
       "      <td>9.29</td>\n",
       "      <td>25.55</td>\n",
       "      <td>36.07</td>\n",
       "      <td>37.32</td>\n",
       "      <td>267.995333</td>\n",
       "      <td>1.281067e+08</td>\n",
       "      <td>0.115003</td>\n",
       "    </tr>\n",
       "    <tr>\n",
       "      <th>2769</th>\n",
       "      <td>2018-12-27</td>\n",
       "      <td>248.07</td>\n",
       "      <td>242.57</td>\n",
       "      <td>248.290</td>\n",
       "      <td>239.0</td>\n",
       "      <td>186267297.0</td>\n",
       "      <td>120.57</td>\n",
       "      <td>86.00</td>\n",
       "      <td>1.7581</td>\n",
       "      <td>0.44</td>\n",
       "      <td>9.62</td>\n",
       "      <td>25.57</td>\n",
       "      <td>29.96</td>\n",
       "      <td>37.90</td>\n",
       "      <td>267.275778</td>\n",
       "      <td>1.297876e+08</td>\n",
       "      <td>0.307099</td>\n",
       "    </tr>\n",
       "    <tr>\n",
       "      <th>2770</th>\n",
       "      <td>2018-12-28</td>\n",
       "      <td>247.75</td>\n",
       "      <td>249.58</td>\n",
       "      <td>251.400</td>\n",
       "      <td>246.0</td>\n",
       "      <td>153100188.0</td>\n",
       "      <td>121.06</td>\n",
       "      <td>86.63</td>\n",
       "      <td>1.7320</td>\n",
       "      <td>0.45</td>\n",
       "      <td>9.53</td>\n",
       "      <td>25.50</td>\n",
       "      <td>28.34</td>\n",
       "      <td>38.17</td>\n",
       "      <td>266.639111</td>\n",
       "      <td>1.301996e+08</td>\n",
       "      <td>0.372653</td>\n",
       "    </tr>\n",
       "  </tbody>\n",
       "</table>\n",
       "</div>"
      ],
      "text/plain": [
       "           Dates  CLOSE_SPY    OPEN     HIGH    LOW       VOLUME  CLOSE_GLD  \\\n",
       "2766  2018-12-20     247.17  249.86  251.620  245.0  252053406.0     119.24   \n",
       "2767  2018-12-21     240.70  246.74  249.710  240.0  255345594.0     118.72   \n",
       "2768  2018-12-24     234.34  239.04  240.836  234.0  147311594.0     120.02   \n",
       "2769  2018-12-27     248.07  242.57  248.290  239.0  186267297.0     120.57   \n",
       "2770  2018-12-28     247.75  249.58  251.400  246.0  153100188.0     121.06   \n",
       "\n",
       "      CLOSE_FXY  CLOSE_T10Y2Y  CLOSE_TED  CLOSE_USO  CLOSE_UUP  CLOSE_VIX  \\\n",
       "2766      85.87        1.7807       0.48       9.72      25.77      28.38   \n",
       "2767      85.87        1.7651       0.48       9.57      25.94      30.11   \n",
       "2768      86.55        1.7505       0.40       9.29      25.55      36.07   \n",
       "2769      86.00        1.7581       0.44       9.62      25.57      29.96   \n",
       "2770      86.63        1.7320       0.45       9.53      25.50      28.34   \n",
       "\n",
       "      CLOSE_VWO       MA_45        VMA_45    RSI_14  \n",
       "2766      38.18  269.767778  1.240592e+08  0.172439  \n",
       "2767      37.87  269.018889  1.274610e+08  0.142578  \n",
       "2768      37.32  267.995333  1.281067e+08  0.115003  \n",
       "2769      37.90  267.275778  1.297876e+08  0.307099  \n",
       "2770      38.17  266.639111  1.301996e+08  0.372653  "
      ]
     },
     "execution_count": 43,
     "metadata": {},
     "output_type": "execute_result"
    }
   ],
   "source": [
    "df.tail()"
   ]
  },
  {
   "cell_type": "code",
   "execution_count": 44,
   "metadata": {},
   "outputs": [
    {
     "data": {
      "text/plain": [
       "2727"
      ]
     },
     "execution_count": 44,
     "metadata": {},
     "output_type": "execute_result"
    }
   ],
   "source": [
    "df = df.set_index('Dates')\n",
    "df = df.dropna()\n",
    "len(df)"
   ]
  },
  {
   "cell_type": "code",
   "execution_count": 45,
   "metadata": {},
   "outputs": [],
   "source": [
    "df['target'] = df['CLOSE_SPY'].pct_change()"
   ]
  },
  {
   "cell_type": "code",
   "execution_count": 46,
   "metadata": {},
   "outputs": [
    {
     "data": {
      "text/html": [
       "<div>\n",
       "<style scoped>\n",
       "    .dataframe tbody tr th:only-of-type {\n",
       "        vertical-align: middle;\n",
       "    }\n",
       "\n",
       "    .dataframe tbody tr th {\n",
       "        vertical-align: top;\n",
       "    }\n",
       "\n",
       "    .dataframe thead th {\n",
       "        text-align: right;\n",
       "    }\n",
       "</style>\n",
       "<table border=\"1\" class=\"dataframe\">\n",
       "  <thead>\n",
       "    <tr style=\"text-align: right;\">\n",
       "      <th></th>\n",
       "      <th>CLOSE_SPY</th>\n",
       "      <th>OPEN</th>\n",
       "      <th>HIGH</th>\n",
       "      <th>LOW</th>\n",
       "      <th>VOLUME</th>\n",
       "      <th>CLOSE_GLD</th>\n",
       "      <th>CLOSE_FXY</th>\n",
       "      <th>CLOSE_T10Y2Y</th>\n",
       "      <th>CLOSE_TED</th>\n",
       "      <th>CLOSE_USO</th>\n",
       "      <th>CLOSE_UUP</th>\n",
       "      <th>CLOSE_VIX</th>\n",
       "      <th>CLOSE_VWO</th>\n",
       "      <th>MA_45</th>\n",
       "      <th>VMA_45</th>\n",
       "      <th>RSI_14</th>\n",
       "      <th>target</th>\n",
       "    </tr>\n",
       "    <tr>\n",
       "      <th>Dates</th>\n",
       "      <th></th>\n",
       "      <th></th>\n",
       "      <th></th>\n",
       "      <th></th>\n",
       "      <th></th>\n",
       "      <th></th>\n",
       "      <th></th>\n",
       "      <th></th>\n",
       "      <th></th>\n",
       "      <th></th>\n",
       "      <th></th>\n",
       "      <th></th>\n",
       "      <th></th>\n",
       "      <th></th>\n",
       "      <th></th>\n",
       "      <th></th>\n",
       "      <th></th>\n",
       "    </tr>\n",
       "  </thead>\n",
       "  <tbody>\n",
       "    <tr>\n",
       "      <th>2018-12-20</th>\n",
       "      <td>247.17</td>\n",
       "      <td>249.86</td>\n",
       "      <td>251.620</td>\n",
       "      <td>245.0</td>\n",
       "      <td>252053406.0</td>\n",
       "      <td>119.24</td>\n",
       "      <td>85.87</td>\n",
       "      <td>1.7807</td>\n",
       "      <td>0.48</td>\n",
       "      <td>9.72</td>\n",
       "      <td>25.77</td>\n",
       "      <td>28.38</td>\n",
       "      <td>38.18</td>\n",
       "      <td>269.767778</td>\n",
       "      <td>1.240592e+08</td>\n",
       "      <td>0.172439</td>\n",
       "      <td>-0.016278</td>\n",
       "    </tr>\n",
       "    <tr>\n",
       "      <th>2018-12-21</th>\n",
       "      <td>240.70</td>\n",
       "      <td>246.74</td>\n",
       "      <td>249.710</td>\n",
       "      <td>240.0</td>\n",
       "      <td>255345594.0</td>\n",
       "      <td>118.72</td>\n",
       "      <td>85.87</td>\n",
       "      <td>1.7651</td>\n",
       "      <td>0.48</td>\n",
       "      <td>9.57</td>\n",
       "      <td>25.94</td>\n",
       "      <td>30.11</td>\n",
       "      <td>37.87</td>\n",
       "      <td>269.018889</td>\n",
       "      <td>1.274610e+08</td>\n",
       "      <td>0.142578</td>\n",
       "      <td>-0.026176</td>\n",
       "    </tr>\n",
       "    <tr>\n",
       "      <th>2018-12-24</th>\n",
       "      <td>234.34</td>\n",
       "      <td>239.04</td>\n",
       "      <td>240.836</td>\n",
       "      <td>234.0</td>\n",
       "      <td>147311594.0</td>\n",
       "      <td>120.02</td>\n",
       "      <td>86.55</td>\n",
       "      <td>1.7505</td>\n",
       "      <td>0.40</td>\n",
       "      <td>9.29</td>\n",
       "      <td>25.55</td>\n",
       "      <td>36.07</td>\n",
       "      <td>37.32</td>\n",
       "      <td>267.995333</td>\n",
       "      <td>1.281067e+08</td>\n",
       "      <td>0.115003</td>\n",
       "      <td>-0.026423</td>\n",
       "    </tr>\n",
       "    <tr>\n",
       "      <th>2018-12-27</th>\n",
       "      <td>248.07</td>\n",
       "      <td>242.57</td>\n",
       "      <td>248.290</td>\n",
       "      <td>239.0</td>\n",
       "      <td>186267297.0</td>\n",
       "      <td>120.57</td>\n",
       "      <td>86.00</td>\n",
       "      <td>1.7581</td>\n",
       "      <td>0.44</td>\n",
       "      <td>9.62</td>\n",
       "      <td>25.57</td>\n",
       "      <td>29.96</td>\n",
       "      <td>37.90</td>\n",
       "      <td>267.275778</td>\n",
       "      <td>1.297876e+08</td>\n",
       "      <td>0.307099</td>\n",
       "      <td>0.058590</td>\n",
       "    </tr>\n",
       "    <tr>\n",
       "      <th>2018-12-28</th>\n",
       "      <td>247.75</td>\n",
       "      <td>249.58</td>\n",
       "      <td>251.400</td>\n",
       "      <td>246.0</td>\n",
       "      <td>153100188.0</td>\n",
       "      <td>121.06</td>\n",
       "      <td>86.63</td>\n",
       "      <td>1.7320</td>\n",
       "      <td>0.45</td>\n",
       "      <td>9.53</td>\n",
       "      <td>25.50</td>\n",
       "      <td>28.34</td>\n",
       "      <td>38.17</td>\n",
       "      <td>266.639111</td>\n",
       "      <td>1.301996e+08</td>\n",
       "      <td>0.372653</td>\n",
       "      <td>-0.001290</td>\n",
       "    </tr>\n",
       "  </tbody>\n",
       "</table>\n",
       "</div>"
      ],
      "text/plain": [
       "            CLOSE_SPY    OPEN     HIGH    LOW       VOLUME  CLOSE_GLD  \\\n",
       "Dates                                                                   \n",
       "2018-12-20     247.17  249.86  251.620  245.0  252053406.0     119.24   \n",
       "2018-12-21     240.70  246.74  249.710  240.0  255345594.0     118.72   \n",
       "2018-12-24     234.34  239.04  240.836  234.0  147311594.0     120.02   \n",
       "2018-12-27     248.07  242.57  248.290  239.0  186267297.0     120.57   \n",
       "2018-12-28     247.75  249.58  251.400  246.0  153100188.0     121.06   \n",
       "\n",
       "            CLOSE_FXY  CLOSE_T10Y2Y  CLOSE_TED  CLOSE_USO  CLOSE_UUP  \\\n",
       "Dates                                                                  \n",
       "2018-12-20      85.87        1.7807       0.48       9.72      25.77   \n",
       "2018-12-21      85.87        1.7651       0.48       9.57      25.94   \n",
       "2018-12-24      86.55        1.7505       0.40       9.29      25.55   \n",
       "2018-12-27      86.00        1.7581       0.44       9.62      25.57   \n",
       "2018-12-28      86.63        1.7320       0.45       9.53      25.50   \n",
       "\n",
       "            CLOSE_VIX  CLOSE_VWO       MA_45        VMA_45    RSI_14    target  \n",
       "Dates                                                                           \n",
       "2018-12-20      28.38      38.18  269.767778  1.240592e+08  0.172439 -0.016278  \n",
       "2018-12-21      30.11      37.87  269.018889  1.274610e+08  0.142578 -0.026176  \n",
       "2018-12-24      36.07      37.32  267.995333  1.281067e+08  0.115003 -0.026423  \n",
       "2018-12-27      29.96      37.90  267.275778  1.297876e+08  0.307099  0.058590  \n",
       "2018-12-28      28.34      38.17  266.639111  1.301996e+08  0.372653 -0.001290  "
      ]
     },
     "execution_count": 46,
     "metadata": {},
     "output_type": "execute_result"
    }
   ],
   "source": [
    "df.tail()"
   ]
  },
  {
   "cell_type": "code",
   "execution_count": 47,
   "metadata": {},
   "outputs": [
    {
     "data": {
      "text/plain": [
       " 1    1471\n",
       "-1    1256\n",
       "Name: target, dtype: int64"
      ]
     },
     "execution_count": 47,
     "metadata": {},
     "output_type": "execute_result"
    }
   ],
   "source": [
    "df['target'] = np.where(df['target']>0,1,-1)\n",
    "df['target'].value_counts()"
   ]
  },
  {
   "cell_type": "code",
   "execution_count": 48,
   "metadata": {},
   "outputs": [
    {
     "data": {
      "text/plain": [
       "0.5394206087275394"
      ]
     },
     "execution_count": 48,
     "metadata": {},
     "output_type": "execute_result"
    }
   ],
   "source": [
    "# 주가 트렌드 예측에서는 불균형 데이터로 간주\n",
    "# 일반적으로 머신러닝 기반의 주가트렌드 분류모델은 54~56% 정도의 정확도를 달성하기 힘들다.\n",
    "# 이 데이터를 기반으로 학습하면 오른다고만 찍어도 아래와 같은 정확도를 가지므로 정확도가 아닌 학습 평가 지표를 사용해야한다.\n",
    "1471/(1471+1256)"
   ]
  },
  {
   "cell_type": "code",
   "execution_count": 49,
   "metadata": {},
   "outputs": [],
   "source": [
    "df['target'] = df['target'].shift(-1)"
   ]
  },
  {
   "cell_type": "code",
   "execution_count": 50,
   "metadata": {},
   "outputs": [
    {
     "data": {
      "text/plain": [
       "2726"
      ]
     },
     "execution_count": 50,
     "metadata": {},
     "output_type": "execute_result"
    }
   ],
   "source": [
    "df = df.dropna()\n",
    "len(df)"
   ]
  },
  {
   "cell_type": "code",
   "execution_count": 51,
   "metadata": {},
   "outputs": [],
   "source": [
    "df['target'] = df['target'].astype(np.int64)\n",
    "y_var = df['target']\n",
    "X_var = df.drop(['target','OPEN','HIGH','LOW','VOLUME','CLOSE_SPY'],axis=1)"
   ]
  },
  {
   "cell_type": "code",
   "execution_count": 52,
   "metadata": {},
   "outputs": [
    {
     "data": {
      "text/html": [
       "<div>\n",
       "<style scoped>\n",
       "    .dataframe tbody tr th:only-of-type {\n",
       "        vertical-align: middle;\n",
       "    }\n",
       "\n",
       "    .dataframe tbody tr th {\n",
       "        vertical-align: top;\n",
       "    }\n",
       "\n",
       "    .dataframe thead th {\n",
       "        text-align: right;\n",
       "    }\n",
       "</style>\n",
       "<table border=\"1\" class=\"dataframe\">\n",
       "  <thead>\n",
       "    <tr style=\"text-align: right;\">\n",
       "      <th></th>\n",
       "      <th>CLOSE_GLD</th>\n",
       "      <th>CLOSE_FXY</th>\n",
       "      <th>CLOSE_T10Y2Y</th>\n",
       "      <th>CLOSE_TED</th>\n",
       "      <th>CLOSE_USO</th>\n",
       "      <th>CLOSE_UUP</th>\n",
       "      <th>CLOSE_VIX</th>\n",
       "      <th>CLOSE_VWO</th>\n",
       "      <th>MA_45</th>\n",
       "      <th>VMA_45</th>\n",
       "      <th>RSI_14</th>\n",
       "    </tr>\n",
       "    <tr>\n",
       "      <th>Dates</th>\n",
       "      <th></th>\n",
       "      <th></th>\n",
       "      <th></th>\n",
       "      <th></th>\n",
       "      <th></th>\n",
       "      <th></th>\n",
       "      <th></th>\n",
       "      <th></th>\n",
       "      <th></th>\n",
       "      <th></th>\n",
       "      <th></th>\n",
       "    </tr>\n",
       "  </thead>\n",
       "  <tbody>\n",
       "    <tr>\n",
       "      <th>2007-04-27</th>\n",
       "      <td>67.56</td>\n",
       "      <td>83.7300</td>\n",
       "      <td>2.4474</td>\n",
       "      <td>0.55</td>\n",
       "      <td>51.84</td>\n",
       "      <td>24.54</td>\n",
       "      <td>12.45</td>\n",
       "      <td>41.750</td>\n",
       "      <td>143.551556</td>\n",
       "      <td>1.106696e+08</td>\n",
       "      <td>0.670018</td>\n",
       "    </tr>\n",
       "    <tr>\n",
       "      <th>2007-04-30</th>\n",
       "      <td>67.09</td>\n",
       "      <td>83.7166</td>\n",
       "      <td>2.4361</td>\n",
       "      <td>0.57</td>\n",
       "      <td>51.24</td>\n",
       "      <td>24.49</td>\n",
       "      <td>14.22</td>\n",
       "      <td>40.935</td>\n",
       "      <td>143.601556</td>\n",
       "      <td>1.116466e+08</td>\n",
       "      <td>0.531751</td>\n",
       "    </tr>\n",
       "    <tr>\n",
       "      <th>2007-05-02</th>\n",
       "      <td>66.66</td>\n",
       "      <td>83.3800</td>\n",
       "      <td>2.4366</td>\n",
       "      <td>0.59</td>\n",
       "      <td>49.59</td>\n",
       "      <td>24.66</td>\n",
       "      <td>13.08</td>\n",
       "      <td>42.020</td>\n",
       "      <td>143.680667</td>\n",
       "      <td>1.121613e+08</td>\n",
       "      <td>0.554050</td>\n",
       "    </tr>\n",
       "    <tr>\n",
       "      <th>2007-05-03</th>\n",
       "      <td>67.49</td>\n",
       "      <td>83.1100</td>\n",
       "      <td>2.4346</td>\n",
       "      <td>0.60</td>\n",
       "      <td>49.28</td>\n",
       "      <td>24.69</td>\n",
       "      <td>13.09</td>\n",
       "      <td>42.435</td>\n",
       "      <td>143.780222</td>\n",
       "      <td>1.123421e+08</td>\n",
       "      <td>0.601028</td>\n",
       "    </tr>\n",
       "    <tr>\n",
       "      <th>2007-05-04</th>\n",
       "      <td>68.19</td>\n",
       "      <td>83.2300</td>\n",
       "      <td>2.4006</td>\n",
       "      <td>0.60</td>\n",
       "      <td>48.30</td>\n",
       "      <td>24.60</td>\n",
       "      <td>12.91</td>\n",
       "      <td>42.595</td>\n",
       "      <td>143.905111</td>\n",
       "      <td>1.128853e+08</td>\n",
       "      <td>0.665987</td>\n",
       "    </tr>\n",
       "  </tbody>\n",
       "</table>\n",
       "</div>"
      ],
      "text/plain": [
       "            CLOSE_GLD  CLOSE_FXY  CLOSE_T10Y2Y  CLOSE_TED  CLOSE_USO  \\\n",
       "Dates                                                                  \n",
       "2007-04-27      67.56    83.7300        2.4474       0.55      51.84   \n",
       "2007-04-30      67.09    83.7166        2.4361       0.57      51.24   \n",
       "2007-05-02      66.66    83.3800        2.4366       0.59      49.59   \n",
       "2007-05-03      67.49    83.1100        2.4346       0.60      49.28   \n",
       "2007-05-04      68.19    83.2300        2.4006       0.60      48.30   \n",
       "\n",
       "            CLOSE_UUP  CLOSE_VIX  CLOSE_VWO       MA_45        VMA_45  \\\n",
       "Dates                                                                   \n",
       "2007-04-27      24.54      12.45     41.750  143.551556  1.106696e+08   \n",
       "2007-04-30      24.49      14.22     40.935  143.601556  1.116466e+08   \n",
       "2007-05-02      24.66      13.08     42.020  143.680667  1.121613e+08   \n",
       "2007-05-03      24.69      13.09     42.435  143.780222  1.123421e+08   \n",
       "2007-05-04      24.60      12.91     42.595  143.905111  1.128853e+08   \n",
       "\n",
       "              RSI_14  \n",
       "Dates                 \n",
       "2007-04-27  0.670018  \n",
       "2007-04-30  0.531751  \n",
       "2007-05-02  0.554050  \n",
       "2007-05-03  0.601028  \n",
       "2007-05-04  0.665987  "
      ]
     },
     "execution_count": 52,
     "metadata": {},
     "output_type": "execute_result"
    }
   ],
   "source": [
    "X_var.head()"
   ]
  },
  {
   "cell_type": "code",
   "execution_count": 53,
   "metadata": {},
   "outputs": [
    {
     "name": "stdout",
     "output_type": "stream",
     "text": [
      "up/total ratio:53.96%\n"
     ]
    }
   ],
   "source": [
    "up = df[df['target']==1].target.count()\n",
    "total = df.target.count()\n",
    "print('up/total ratio:{0:.2f}%'.format(up/total*100))"
   ]
  },
  {
   "cell_type": "code",
   "execution_count": 54,
   "metadata": {},
   "outputs": [],
   "source": [
    "# 주가 데이터는 시계열이기 때문에 순서를 바꾸지 말아야한다.\n",
    "X_train,X_test,y_train,y_test = train_test_split(X_var,y_var,test_size=0.3,shuffle=False,random_state=42)"
   ]
  },
  {
   "cell_type": "code",
   "execution_count": 55,
   "metadata": {},
   "outputs": [
    {
     "name": "stdout",
     "output_type": "stream",
     "text": [
      "train set label ratio\n",
      " 1    0.543501\n",
      "-1    0.456499\n",
      "Name: target, dtype: float64\n",
      "\n",
      "test set label ratio\n",
      " 1    0.530562\n",
      "-1    0.469438\n",
      "Name: target, dtype: float64\n"
     ]
    }
   ],
   "source": [
    "train_count = y_train.count()\n",
    "test_count = y_test.count()\n",
    "\n",
    "print('train set label ratio')\n",
    "print(y_train.value_counts()/train_count)\n",
    "print('\\ntest set label ratio')\n",
    "print(y_test.value_counts()/test_count)"
   ]
  },
  {
   "cell_type": "code",
   "execution_count": 56,
   "metadata": {},
   "outputs": [],
   "source": [
    "def get_confusion_matrix(y_test,pred):\n",
    "    confusion = confusion_matrix(y_test, pred)\n",
    "    accuracy = accuracy_score(y_test,pred)\n",
    "    precision = precision_score(y_test,pred)\n",
    "    recall = recall_score(y_test,pred)\n",
    "    f1 = f1_score(y_test,pred)\n",
    "    roc_score = roc_auc_score(y_test,pred)\n",
    "    print('confusion matrix')\n",
    "    print('accuracy:{0:.24f}, precision:{1:.4f}, recall:{2:.4f}, f1:{3:.4f}, ROC AUC_score:{3:.4f}'.format(accuracy,precision,recall,f1,roc_score))"
   ]
  },
  {
   "cell_type": "code",
   "execution_count": 59,
   "metadata": {},
   "outputs": [
    {
     "name": "stdout",
     "output_type": "stream",
     "text": [
      "0.8763102725366876\n",
      "confusion matrix\n",
      "accuracy:0.491442542787286051897411, precision:0.5242, recall:0.4493, f1:0.4839, ROC AUC_score:0.4839\n"
     ]
    }
   ],
   "source": [
    "from sklearn.metrics import accuracy_score\n",
    "# 오른다고만 찍어도 54%의 정확도를 보이는데 오히려 정확도가 더 낮음\n",
    "xgb_dis = XGBClassifier(n_estimators=400,learning_rate=0.1,max_depth=3)\n",
    "xgb_dis.fit(X_train,y_train)\n",
    "xgb_pred = xgb_dis.predict(X_test)\n",
    "print(xgb_dis.score(X_train,y_train))\n",
    "get_confusion_matrix(y_test,xgb_pred)"
   ]
  },
  {
   "cell_type": "code",
   "execution_count": 60,
   "metadata": {},
   "outputs": [],
   "source": [
    "n_estimators=range(10,200,10)\n",
    "params = {\n",
    "    'bootstrap' : [True],\n",
    "    'n_estimators' : n_estimators,\n",
    "    'max_depth' : [4,6,8,10,12],\n",
    "    'min_samples_leaf' : [2,3,4,5],\n",
    "    'min_samples_split' : [2,4,6,8,10],\n",
    "    'max_features':[4]\n",
    "}"
   ]
  },
  {
   "cell_type": "code",
   "execution_count": 61,
   "metadata": {},
   "outputs": [
    {
     "data": {
      "text/plain": [
       "<generator object TimeSeriesSplit.split at 0x0000022B46D3ACC8>"
      ]
     },
     "execution_count": 61,
     "metadata": {},
     "output_type": "execute_result"
    }
   ],
   "source": [
    "my_cv = TimeSeriesSplit(n_splits=5).split(X_train)\n",
    "my_cv"
   ]
  },
  {
   "cell_type": "code",
   "execution_count": 63,
   "metadata": {},
   "outputs": [
    {
     "data": {
      "text/plain": [
       "GridSearchCV(cv=<generator object TimeSeriesSplit.split at 0x0000022B46D3ACC8>,\n",
       "             error_score=nan,\n",
       "             estimator=RandomForestClassifier(bootstrap=True, ccp_alpha=0.0,\n",
       "                                              class_weight=None,\n",
       "                                              criterion='gini', max_depth=None,\n",
       "                                              max_features='auto',\n",
       "                                              max_leaf_nodes=None,\n",
       "                                              max_samples=None,\n",
       "                                              min_impurity_decrease=0.0,\n",
       "                                              min_impurity_split=None,\n",
       "                                              min_samples_leaf=1,\n",
       "                                              min_samples_split=2,\n",
       "                                              m...\n",
       "                                              n_estimators=100, n_jobs=None,\n",
       "                                              oob_score=False,\n",
       "                                              random_state=None, verbose=0,\n",
       "                                              warm_start=False),\n",
       "             iid='deprecated', n_jobs=-1,\n",
       "             param_grid={'bootstrap': [True], 'max_depth': [4, 6, 8, 10, 12],\n",
       "                         'max_features': [4], 'min_samples_leaf': [2, 3, 4, 5],\n",
       "                         'min_samples_split': [2, 4, 6, 8, 10],\n",
       "                         'n_estimators': range(10, 200, 10)},\n",
       "             pre_dispatch='2*n_jobs', refit=True, return_train_score=False,\n",
       "             scoring=None, verbose=0)"
      ]
     },
     "execution_count": 63,
     "metadata": {},
     "output_type": "execute_result"
    }
   ],
   "source": [
    "from sklearn.ensemble import RandomForestClassifier\n",
    "clf = GridSearchCV(RandomForestClassifier(),params,cv=my_cv,n_jobs=-1)\n",
    "clf.fit(X_train,y_train)"
   ]
  },
  {
   "cell_type": "code",
   "execution_count": 64,
   "metadata": {},
   "outputs": [
    {
     "data": {
      "text/plain": [
       "{'bootstrap': True,\n",
       " 'max_depth': 4,\n",
       " 'max_features': 4,\n",
       " 'min_samples_leaf': 4,\n",
       " 'min_samples_split': 8,\n",
       " 'n_estimators': 110}"
      ]
     },
     "execution_count": 64,
     "metadata": {},
     "output_type": "execute_result"
    }
   ],
   "source": [
    "clf.best_params_"
   ]
  },
  {
   "cell_type": "code",
   "execution_count": 65,
   "metadata": {},
   "outputs": [
    {
     "data": {
      "text/plain": [
       "0.5534591194968553"
      ]
     },
     "execution_count": 65,
     "metadata": {},
     "output_type": "execute_result"
    }
   ],
   "source": [
    "clf.best_score_"
   ]
  },
  {
   "cell_type": "code",
   "execution_count": 66,
   "metadata": {},
   "outputs": [
    {
     "data": {
      "text/plain": [
       "0.5134474327628362"
      ]
     },
     "execution_count": 66,
     "metadata": {},
     "output_type": "execute_result"
    }
   ],
   "source": [
    "y_pred = clf.predict(X_test)\n",
    "accuracy_score(y_test,y_pred)"
   ]
  },
  {
   "cell_type": "code",
   "execution_count": 67,
   "metadata": {},
   "outputs": [
    {
     "name": "stdout",
     "output_type": "stream",
     "text": [
      "confusion matrix\n",
      "accuracy:0.513447432762836220021541, precision:0.5479, recall:0.4747, f1:0.5086, ROC AUC_score:0.5086\n"
     ]
    }
   ],
   "source": [
    "get_confusion_matrix(y_test,y_pred)"
   ]
  },
  {
   "cell_type": "code",
   "execution_count": 76,
   "metadata": {},
   "outputs": [],
   "source": [
    "df = pd.read_csv('./algoTrade-master/ch06/ETFs_main.csv')\n",
    "df = moving_average(df,45)\n",
    "df = volume_moving_average(df,45)\n",
    "df = relative_strength_index(df,14)\n",
    "df = df.set_index('Dates')\n",
    "df = df.dropna()"
   ]
  },
  {
   "cell_type": "code",
   "execution_count": 77,
   "metadata": {},
   "outputs": [
    {
     "data": {
      "text/plain": [
       "count    2726.000000\n",
       "mean        0.000270\n",
       "std         0.013026\n",
       "min        -0.098448\n",
       "25%        -0.004320\n",
       "50%         0.000545\n",
       "75%         0.005791\n",
       "max         0.128249\n",
       "Name: target, dtype: float64"
      ]
     },
     "execution_count": 77,
     "metadata": {},
     "output_type": "execute_result"
    }
   ],
   "source": [
    "df['target'] = df['CLOSE_SPY'].pct_change()\n",
    "df['target'].describe()"
   ]
  },
  {
   "cell_type": "code",
   "execution_count": 78,
   "metadata": {},
   "outputs": [
    {
     "data": {
      "text/plain": [
       "-1    1364\n",
       " 1    1363\n",
       "Name: target, dtype: int64"
      ]
     },
     "execution_count": 78,
     "metadata": {},
     "output_type": "execute_result"
    }
   ],
   "source": [
    "df['target'] = np.where(df['target']>0.000545,1,-1)\n",
    "df['target'].value_counts()"
   ]
  },
  {
   "cell_type": "code",
   "execution_count": 79,
   "metadata": {},
   "outputs": [
    {
     "name": "stdout",
     "output_type": "stream",
     "text": [
      "2726\n"
     ]
    }
   ],
   "source": [
    "df['target'] = df['target'].shift(-1)\n",
    "df = df.dropna()\n",
    "print(len(df))"
   ]
  },
  {
   "cell_type": "code",
   "execution_count": 80,
   "metadata": {},
   "outputs": [],
   "source": [
    "df['target'] = df['target'].astype(np.int64)\n",
    "y_var = df['target']\n",
    "X_var = df.drop(['target','OPEN','HIGH','LOW','VOLUME','CLOSE_SPY'],axis=1)"
   ]
  },
  {
   "cell_type": "code",
   "execution_count": 81,
   "metadata": {},
   "outputs": [
    {
     "name": "stdout",
     "output_type": "stream",
     "text": [
      "up/total ratio:50.00%\n"
     ]
    }
   ],
   "source": [
    "up = df[df['target']==1].target.count()\n",
    "total = df.target.count()\n",
    "print('up/total ratio:{0:.2f}%'.format(up/total*100))"
   ]
  },
  {
   "cell_type": "code",
   "execution_count": 82,
   "metadata": {},
   "outputs": [],
   "source": [
    "X_train,X_test,y_train,y_test = train_test_split(X_var,y_var,test_size=0.3,shuffle=False,random_state=42)"
   ]
  },
  {
   "cell_type": "code",
   "execution_count": 85,
   "metadata": {},
   "outputs": [
    {
     "data": {
      "text/plain": [
       "GridSearchCV(cv=<generator object TimeSeriesSplit.split at 0x0000022B47FC68C8>,\n",
       "             error_score=nan,\n",
       "             estimator=RandomForestClassifier(bootstrap=True, ccp_alpha=0.0,\n",
       "                                              class_weight=None,\n",
       "                                              criterion='gini', max_depth=None,\n",
       "                                              max_features='auto',\n",
       "                                              max_leaf_nodes=None,\n",
       "                                              max_samples=None,\n",
       "                                              min_impurity_decrease=0.0,\n",
       "                                              min_impurity_split=None,\n",
       "                                              min_samples_leaf=1,\n",
       "                                              min_samples_split=2,\n",
       "                                              m...\n",
       "                                              n_estimators=100, n_jobs=None,\n",
       "                                              oob_score=False,\n",
       "                                              random_state=None, verbose=0,\n",
       "                                              warm_start=False),\n",
       "             iid='deprecated', n_jobs=-1,\n",
       "             param_grid={'bootstrap': [True], 'max_depth': [4, 6, 8, 10, 12],\n",
       "                         'max_features': [4], 'min_samples_leaf': [2, 3, 4, 5],\n",
       "                         'min_samples_split': [2, 4, 6, 8, 10],\n",
       "                         'n_estimators': range(10, 200, 10)},\n",
       "             pre_dispatch='2*n_jobs', refit=True, return_train_score=False,\n",
       "             scoring=None, verbose=0)"
      ]
     },
     "execution_count": 85,
     "metadata": {},
     "output_type": "execute_result"
    }
   ],
   "source": [
    "my_cv = TimeSeriesSplit(n_splits=5).split(X_train)\n",
    "clf = GridSearchCV(RandomForestClassifier(),params,cv=my_cv,n_jobs=-1)\n",
    "clf.fit(X_train,y_train)"
   ]
  },
  {
   "cell_type": "code",
   "execution_count": 87,
   "metadata": {},
   "outputs": [
    {
     "data": {
      "text/plain": [
       "{'bootstrap': True,\n",
       " 'max_depth': 6,\n",
       " 'max_features': 4,\n",
       " 'min_samples_leaf': 4,\n",
       " 'min_samples_split': 6,\n",
       " 'n_estimators': 60}"
      ]
     },
     "execution_count": 87,
     "metadata": {},
     "output_type": "execute_result"
    }
   ],
   "source": [
    "clf.best_params_"
   ]
  },
  {
   "cell_type": "code",
   "execution_count": 88,
   "metadata": {},
   "outputs": [
    {
     "data": {
      "text/plain": [
       "0.5333333333333333"
      ]
     },
     "execution_count": 88,
     "metadata": {},
     "output_type": "execute_result"
    }
   ],
   "source": [
    "clf.best_score_"
   ]
  },
  {
   "cell_type": "code",
   "execution_count": 89,
   "metadata": {},
   "outputs": [
    {
     "data": {
      "text/plain": [
       "0.5183374083129584"
      ]
     },
     "execution_count": 89,
     "metadata": {},
     "output_type": "execute_result"
    }
   ],
   "source": [
    "y_pred = clf.predict(X_test)\n",
    "accuracy_score(y_test,y_pred)"
   ]
  },
  {
   "cell_type": "code",
   "execution_count": 91,
   "metadata": {},
   "outputs": [
    {
     "name": "stdout",
     "output_type": "stream",
     "text": [
      "confusion matrix\n",
      "accuracy:0.518337408312958380918190, precision:0.5091, recall:0.1414, f1:0.2213, ROC AUC_score:0.2213\n"
     ]
    }
   ],
   "source": [
    "get_confusion_matrix(y_test,y_pred)"
   ]
  },
  {
   "cell_type": "code",
   "execution_count": 92,
   "metadata": {},
   "outputs": [
    {
     "name": "stdout",
     "output_type": "stream",
     "text": [
      "0.8658280922431866\n",
      "confusion matrix\n",
      "accuracy:0.497555012224938864040524, precision:0.4801, recall:0.4571, f1:0.4683, ROC AUC_score:0.4683\n"
     ]
    }
   ],
   "source": [
    "xgb_dis.fit(X_train,y_train)\n",
    "xgb_pred = xgb_dis.predict(X_test)\n",
    "print(xgb_dis.score(X_train,y_train))\n",
    "get_confusion_matrix(y_test,xgb_pred)"
   ]
  }
 ],
 "metadata": {
  "kernelspec": {
   "display_name": "Python 3",
   "language": "python",
   "name": "python3"
  },
  "language_info": {
   "codemirror_mode": {
    "name": "ipython",
    "version": 3
   },
   "file_extension": ".py",
   "mimetype": "text/x-python",
   "name": "python",
   "nbconvert_exporter": "python",
   "pygments_lexer": "ipython3",
   "version": "3.7.6"
  }
 },
 "nbformat": 4,
 "nbformat_minor": 4
}
